{
  "nbformat": 4,
  "nbformat_minor": 0,
  "metadata": {
    "colab": {
      "provenance": [],
      "include_colab_link": true
    },
    "kernelspec": {
      "name": "python3",
      "display_name": "Python 3"
    },
    "language_info": {
      "name": "python"
    }
  },
  "cells": [
    {
      "cell_type": "markdown",
      "metadata": {
        "id": "view-in-github",
        "colab_type": "text"
      },
      "source": [
        "<a href=\"https://colab.research.google.com/github/agnaldoseixas/BootCamp_Analise_Dados/blob/main/lista_exercicios_for.ipynb\" target=\"_parent\"><img src=\"https://colab.research.google.com/assets/colab-badge.svg\" alt=\"Open In Colab\"/></a>"
      ]
    },
    {
      "cell_type": "code",
      "execution_count": null,
      "metadata": {
        "colab": {
          "base_uri": "https://localhost:8080/"
        },
        "id": "28MB4swDsIyV",
        "outputId": "423ae62c-0077-45ab-a6d7-5a5369b66a90"
      },
      "outputs": [
        {
          "output_type": "stream",
          "name": "stdout",
          "text": [
            "maçã\n",
            "banana\n",
            "laranja\n",
            "uva\n"
          ]
        }
      ],
      "source": [
        "'''\n",
        "Atividade 1 - Dada a seguinte lista de frutas:\n",
        "\n",
        "frutas = [\"maçã\", \"banana\", \"laranja\", \"uva\"]\n",
        "\n",
        "Imprima cada fruta da lista utilizando o for, uma de cada vez.\n",
        "'''\n",
        "\n",
        "frutas = [\"maçã\", \"banana\", \"laranja\", \"uva\"]\n",
        "for fruta in frutas:\n",
        "  print(fruta)"
      ]
    },
    {
      "cell_type": "code",
      "source": [
        "'''\n",
        "Atividade 2 - Lista de tarefas:\n",
        "\n",
        "tarefas = [\"Arrumar a cama\", \"Tomar café\", \"Estudar\", \"Jogar videogame\"]\n",
        "\n",
        "Escreva um programa que diga:\n",
        "\n",
        "\"Tarefa: nome da tarefa\" para cada tarefa da lista.\n",
        "'''\n",
        "tarefas = [\"Arrumar a cama\", \"Tomar café\", \"Estudar\", \"Jogar videogame\"]\n",
        "for tarefa in tarefas:\n",
        "  print(f\"Tarefa: {tarefa}\")"
      ],
      "metadata": {
        "colab": {
          "base_uri": "https://localhost:8080/"
        },
        "id": "CBKljdNys0uI",
        "outputId": "629a36c0-8c98-40f3-a1ed-0c1b1608c7bd"
      },
      "execution_count": null,
      "outputs": [
        {
          "output_type": "stream",
          "name": "stdout",
          "text": [
            "Tarefa: Arrumar a cama\n",
            "Tarefa: Tomar café\n",
            "Tarefa: Estudar\n",
            "Tarefa: Jogar videogame\n"
          ]
        }
      ]
    },
    {
      "cell_type": "code",
      "source": [
        "'''\n",
        "Atividade 3 - Imprimindo letras de uma palavra\n",
        "\n",
        "palavra = 'python'\n",
        "\n",
        "Escreva um código que imprima cada letra da palavra, uma por vez.\n",
        "'''\n",
        "palavra = 'python'\n",
        "for letra in palavra:\n",
        "  print(letra)"
      ],
      "metadata": {
        "colab": {
          "base_uri": "https://localhost:8080/"
        },
        "id": "dB1XVDU7tIeC",
        "outputId": "33b7a2de-e9ff-4048-9831-8edbb5d32884"
      },
      "execution_count": null,
      "outputs": [
        {
          "output_type": "stream",
          "name": "stdout",
          "text": [
            "p\n",
            "y\n",
            "t\n",
            "h\n",
            "o\n",
            "n\n"
          ]
        }
      ]
    },
    {
      "cell_type": "code",
      "source": [
        "'''\n",
        "Atividade 4 - Dividindo frases\n",
        "\n",
        "frase = \"Estou estudando python\"\n",
        "\n",
        "Escreva um programa que imprima cada PALAVRA da frase em uma linha.\n",
        "\n",
        "Dica: Use o método .split()\n",
        "'''\n",
        "# O split é utilizado para separar uma farse em uma lista\n",
        "# Se não especificar qual separador ele adota o espaço como padrão\n",
        "frase = \"Estou estudando python\"\n",
        "for palavra in frase.split():\n",
        "  print(palavra)"
      ],
      "metadata": {
        "colab": {
          "base_uri": "https://localhost:8080/"
        },
        "id": "58FbacyhtkSE",
        "outputId": "1642a2cd-f086-4580-9f37-3e3f8aba90cf"
      },
      "execution_count": null,
      "outputs": [
        {
          "output_type": "stream",
          "name": "stdout",
          "text": [
            "Estou\n",
            "estudando\n",
            "python\n"
          ]
        }
      ]
    },
    {
      "cell_type": "code",
      "source": [
        "frase = \"Estou-estudando-python\"\n",
        "for palavra in frase.split('-'):\n",
        "  print(palavra)"
      ],
      "metadata": {
        "colab": {
          "base_uri": "https://localhost:8080/"
        },
        "id": "hOL0t8rVZVLl",
        "outputId": "a6af1a15-08a0-4d13-820c-eb3ef6dac85d"
      },
      "execution_count": null,
      "outputs": [
        {
          "output_type": "stream",
          "name": "stdout",
          "text": [
            "Estou\n",
            "estudando\n",
            "python\n"
          ]
        }
      ]
    },
    {
      "cell_type": "code",
      "source": [
        "'''\n",
        "Atividade 5 - Contando até 10\n",
        "\n",
        "Use o range para imprimir os números de 1 a 10.\n",
        "'''\n",
        "for numero in range(1,11):\n",
        "  print(numero)"
      ],
      "metadata": {
        "colab": {
          "base_uri": "https://localhost:8080/"
        },
        "id": "tZ9WC3Alu69E",
        "outputId": "f74e7b5c-6d94-4ff6-a09a-98a83ab44f16"
      },
      "execution_count": null,
      "outputs": [
        {
          "output_type": "stream",
          "name": "stdout",
          "text": [
            "1\n",
            "2\n",
            "3\n",
            "4\n",
            "5\n",
            "6\n",
            "7\n",
            "8\n",
            "9\n",
            "10\n"
          ]
        }
      ]
    },
    {
      "cell_type": "code",
      "source": [
        "'''\n",
        "Atividade 6 - Tabuada\n",
        "\n",
        "Escreva um programa que imprima a tabuada do 9.\n",
        "'''\n",
        "numero = int(input(\"Digite um número: \"))\n",
        "for i in range(1,11):\n",
        "  print(f\"{numero} x {i} = {numero * i}\")"
      ],
      "metadata": {
        "colab": {
          "base_uri": "https://localhost:8080/"
        },
        "id": "a80mmiYTvH4V",
        "outputId": "def1e822-ebd0-4941-aff8-8a76c1d80b25"
      },
      "execution_count": null,
      "outputs": [
        {
          "output_type": "stream",
          "name": "stdout",
          "text": [
            "Digite um número: 9\n",
            "9 x 1 = 9\n",
            "9 x 2 = 18\n",
            "9 x 3 = 27\n",
            "9 x 4 = 36\n",
            "9 x 5 = 45\n",
            "9 x 6 = 54\n",
            "9 x 7 = 63\n",
            "9 x 8 = 72\n",
            "9 x 9 = 81\n",
            "9 x 10 = 90\n"
          ]
        }
      ]
    },
    {
      "cell_type": "code",
      "source": [
        "'''\n",
        "Atividade 7 - Contagem Regressiva\n",
        "\n",
        "Faça uma contagem regressiva de 10 até 1.\n",
        "No final imprima: Feliz ano novo!\n",
        "'''\n",
        "for numero in range(10,0,-1):\n",
        "  print(numero)\n",
        "print(\"Feliz ano novo!\")"
      ],
      "metadata": {
        "colab": {
          "base_uri": "https://localhost:8080/"
        },
        "id": "5YDFefXQvRjt",
        "outputId": "fc97ddb1-7b6c-46cc-e3b7-70b9b87bbae5"
      },
      "execution_count": null,
      "outputs": [
        {
          "output_type": "stream",
          "name": "stdout",
          "text": [
            "10\n",
            "9\n",
            "8\n",
            "7\n",
            "6\n",
            "5\n",
            "4\n",
            "3\n",
            "2\n",
            "1\n",
            "Feliz ano novo!\n"
          ]
        }
      ]
    },
    {
      "cell_type": "code",
      "source": [
        "'''\n",
        "Atividade 8 - Somando números\n",
        "\n",
        "Calcule a soma de todos os números de 1 a 100 e mostre o resultado.\n",
        "\n",
        "Dica: Use uma variável para acumular a soma.\n",
        "'''\n",
        "soma = 0\n",
        "\n",
        "for numero in range(1,101):\n",
        "  soma += numero # igual a soma = soma + numero\n",
        "\n",
        "print(soma)"
      ],
      "metadata": {
        "colab": {
          "base_uri": "https://localhost:8080/"
        },
        "id": "xXXMvY68vm1P",
        "outputId": "2c7f36cb-d6e5-4ed3-b944-d247cb5d1a41"
      },
      "execution_count": null,
      "outputs": [
        {
          "output_type": "stream",
          "name": "stdout",
          "text": [
            "5050\n"
          ]
        }
      ]
    },
    {
      "cell_type": "code",
      "source": [
        "'''\n",
        "Atividade 9 - Listando números pares\n",
        "\n",
        "Imprima todos os números pares de 2 a 20.\n",
        "'''\n",
        "for numero in range(2,21,2):\n",
        "  print(numero)"
      ],
      "metadata": {
        "colab": {
          "base_uri": "https://localhost:8080/"
        },
        "id": "KcOU9bZgxBG_",
        "outputId": "330b40be-ee04-4eea-b208-c1db2ae7af24"
      },
      "execution_count": null,
      "outputs": [
        {
          "output_type": "stream",
          "name": "stdout",
          "text": [
            "2\n",
            "4\n",
            "6\n",
            "8\n",
            "10\n",
            "12\n",
            "14\n",
            "16\n",
            "18\n",
            "20\n"
          ]
        }
      ]
    },
    {
      "cell_type": "code",
      "source": [
        "for numero in range(2,21):\n",
        "  if numero % 2 == 0:\n",
        "    print(numero)"
      ],
      "metadata": {
        "colab": {
          "base_uri": "https://localhost:8080/"
        },
        "id": "gIip7JLFmMiU",
        "outputId": "e5972d8d-d49a-4fa3-e3f0-75c8f9c72487"
      },
      "execution_count": null,
      "outputs": [
        {
          "output_type": "stream",
          "name": "stdout",
          "text": [
            "2\n",
            "4\n",
            "6\n",
            "8\n",
            "10\n",
            "12\n",
            "14\n",
            "16\n",
            "18\n",
            "20\n"
          ]
        }
      ]
    },
    {
      "cell_type": "code",
      "source": [
        "'''\n",
        "Atividade 10 - Quadrado dos números\n",
        "\n",
        "Imprima o quadrado dos números de 1 a 10.\n",
        "\n",
        "Exemplo: 2 x 2 = 4\n",
        "\n",
        "Dica: Multiplique cada número por ele mesmo.\n",
        "'''\n",
        "for numero in range(1,11):\n",
        "  print(f\"O quadrado de {numero} = {numero ** 2}\")"
      ],
      "metadata": {
        "colab": {
          "base_uri": "https://localhost:8080/"
        },
        "id": "OM33N6tUxM0Y",
        "outputId": "4a1ac25a-7f13-4fa7-c348-dc4420245c96"
      },
      "execution_count": null,
      "outputs": [
        {
          "output_type": "stream",
          "name": "stdout",
          "text": [
            "O quadrado de 1 = 1\n",
            "O quadrado de 2 = 4\n",
            "O quadrado de 3 = 9\n",
            "O quadrado de 4 = 16\n",
            "O quadrado de 5 = 25\n",
            "O quadrado de 6 = 36\n",
            "O quadrado de 7 = 49\n",
            "O quadrado de 8 = 64\n",
            "O quadrado de 9 = 81\n",
            "O quadrado de 10 = 100\n"
          ]
        }
      ]
    },
    {
      "cell_type": "code",
      "source": [
        "for numero in range(1,11):\n",
        "  print(f\"O quadrado de {numero} = {numero * numero}\")"
      ],
      "metadata": {
        "colab": {
          "base_uri": "https://localhost:8080/"
        },
        "id": "hfTrruXEuH_j",
        "outputId": "2ecc0df3-28b2-4f2f-f0c4-9db6c9db949b"
      },
      "execution_count": null,
      "outputs": [
        {
          "output_type": "stream",
          "name": "stdout",
          "text": [
            "O quadrado de 1 = 1\n",
            "O quadrado de 2 = 4\n",
            "O quadrado de 3 = 9\n",
            "O quadrado de 4 = 16\n",
            "O quadrado de 5 = 25\n",
            "O quadrado de 6 = 36\n",
            "O quadrado de 7 = 49\n",
            "O quadrado de 8 = 64\n",
            "O quadrado de 9 = 81\n",
            "O quadrado de 10 = 100\n"
          ]
        }
      ]
    },
    {
      "cell_type": "code",
      "source": [
        "'''\n",
        "Atividade 11 - Verificando a idade mínima\n",
        "\n",
        "Você está organizando uma festa, mas só pode convidar pessoas com 18 anos ou mais.\n",
        "\n",
        "Use o range para gerar idades de 10 a 20 e imprima se a idade é permitida ou não:\n",
        "\"Idade 10: Não pode entrar\"\n",
        "\"Idade 18: Pode entrar!\"\n",
        "'''\n",
        "for idade in range(10,21):\n",
        "  if idade < 18:\n",
        "    print(f\"Idade {idade}: Não pode entrar\")\n",
        "  else:\n",
        "    print(f\"Idade {idade}: Pode entrar!\")"
      ],
      "metadata": {
        "colab": {
          "base_uri": "https://localhost:8080/"
        },
        "id": "PcW7hRgrxlfa",
        "outputId": "4858cad4-cc95-4830-cda4-8744df20f58f"
      },
      "execution_count": null,
      "outputs": [
        {
          "output_type": "stream",
          "name": "stdout",
          "text": [
            "Idade 10: Não pode entrar\n",
            "Idade 11: Não pode entrar\n",
            "Idade 12: Não pode entrar\n",
            "Idade 13: Não pode entrar\n",
            "Idade 14: Não pode entrar\n",
            "Idade 15: Não pode entrar\n",
            "Idade 16: Não pode entrar\n",
            "Idade 17: Não pode entrar\n",
            "Idade 18: Pode entrar!\n",
            "Idade 19: Pode entrar!\n",
            "Idade 20: Pode entrar!\n"
          ]
        }
      ]
    },
    {
      "cell_type": "code",
      "source": [
        "'''\n",
        "Atividade 12 - Pulando Números\n",
        "\n",
        "Use o range para imprimir apenas os números que terminam em 5 entre 5 e 50.\n",
        "\n",
        "Exemplo: 5, 15, 25...\n",
        "'''\n",
        "for numero in range(5,51):\n",
        "  if numero % 10 == 5:\n",
        "    print(numero)"
      ],
      "metadata": {
        "colab": {
          "base_uri": "https://localhost:8080/"
        },
        "id": "rSgNaQMJx_W1",
        "outputId": "eee66e5d-91ba-4660-9689-08a1a0b943ee"
      },
      "execution_count": null,
      "outputs": [
        {
          "output_type": "stream",
          "name": "stdout",
          "text": [
            "5\n",
            "15\n",
            "25\n",
            "35\n",
            "45\n"
          ]
        }
      ]
    },
    {
      "cell_type": "code",
      "source": [
        "for numero in range(5,51,10):\n",
        "  print(numero)"
      ],
      "metadata": {
        "colab": {
          "base_uri": "https://localhost:8080/"
        },
        "id": "ruKKAnPzr0OQ",
        "outputId": "d83efaaf-d102-43d9-964a-d0284bcb2077"
      },
      "execution_count": null,
      "outputs": [
        {
          "output_type": "stream",
          "name": "stdout",
          "text": [
            "5\n",
            "15\n",
            "25\n",
            "35\n",
            "45\n"
          ]
        }
      ]
    },
    {
      "cell_type": "code",
      "source": [
        "'''\n",
        "Atividade 13 - Encontrando itens com indices\n",
        "\n",
        "Faça um programa que percorra uma lista de compras e mostre o índice de cada\n",
        "item junto com seu nome.\n",
        "'''\n",
        "compras = ['arroz','feijão','carne','oleo','farinha']\n",
        "for indice, item in enumerate(compras, start=1):\n",
        "  print(f'indice {indice}: {item}')"
      ],
      "metadata": {
        "colab": {
          "base_uri": "https://localhost:8080/"
        },
        "id": "AxttJH7TzACD",
        "outputId": "feff6258-89bd-410d-bece-4f5cd0315ec3"
      },
      "execution_count": null,
      "outputs": [
        {
          "output_type": "stream",
          "name": "stdout",
          "text": [
            "indice 1: arroz\n",
            "indice 2: feijão\n",
            "indice 3: carne\n",
            "indice 4: oleo\n",
            "indice 5: farinha\n"
          ]
        }
      ]
    },
    {
      "cell_type": "code",
      "source": [
        "'''\n",
        "Atividade 14 - Encontrando o maior número\n",
        "\n",
        "Percorra uma lista de números usando enumerate e informe qual número é o maior\n",
        "e em qual posição ele está.\n",
        "'''\n",
        "numeros = [10,20,30,40,50,60,70,80]\n",
        "maior = numeros[0]\n",
        "for indice, numero in enumerate(numeros):\n",
        "  if numero > maior:\n",
        "    maior = numero\n",
        "print(f'O maior número é {maior} e está na posição {indice}')"
      ],
      "metadata": {
        "colab": {
          "base_uri": "https://localhost:8080/"
        },
        "id": "Bn2EQDT7zi0F",
        "outputId": "341760ef-039a-486a-8502-c9008872427e"
      },
      "execution_count": null,
      "outputs": [
        {
          "output_type": "stream",
          "name": "stdout",
          "text": [
            "O maior número é 80 e está na posição 7\n"
          ]
        }
      ]
    },
    {
      "cell_type": "code",
      "source": [
        "numeros = [10,20,30,40,50,60,70,80]\n",
        "maior = max(numeros) #Pega o numero maximo da lista\n",
        "indice = numeros.index(maior) #Pega o indice da posição da variavel maior\n",
        "print(f'O maior número é {maior} e está na posição {indice}')\n"
      ],
      "metadata": {
        "colab": {
          "base_uri": "https://localhost:8080/"
        },
        "id": "9aitZLVJT-p5",
        "outputId": "f8d84651-70a2-476a-8510-f2e896fe3d41"
      },
      "execution_count": null,
      "outputs": [
        {
          "output_type": "stream",
          "name": "stdout",
          "text": [
            "O maior número é 80 e está na posição 7\n"
          ]
        }
      ]
    },
    {
      "cell_type": "code",
      "source": [
        "import random #Importar lib random\n",
        "numeros = random.sample(range(1, 100), 10) #usar o random para gerr lista aleatoria\n",
        "print(numeros)"
      ],
      "metadata": {
        "colab": {
          "base_uri": "https://localhost:8080/"
        },
        "id": "11pMo-ZraTDR",
        "outputId": "61150805-0fb3-49f4-8769-69fee2d47496"
      },
      "execution_count": null,
      "outputs": [
        {
          "output_type": "stream",
          "name": "stdout",
          "text": [
            "[36, 85, 31, 57, 68, 67, 64, 70, 6, 46]\n"
          ]
        }
      ]
    },
    {
      "cell_type": "code",
      "source": [
        "'''\n",
        "Atividade 15 - Posicionando palavras\n",
        "\n",
        "Percorra uma frase e mostre o índice de cada palavra.\n",
        "\n",
        "frase = \"Aprender Python é massa\"\n",
        "'''\n",
        "frase = 'Aprender Python é massa'\n",
        "for indice, palavra in enumerate(frase.split()):\n",
        "  print(f'indice: {indice}: {palavra}')"
      ],
      "metadata": {
        "colab": {
          "base_uri": "https://localhost:8080/"
        },
        "id": "hDLP-ZBkzynX",
        "outputId": "0c36819b-722a-40c0-8260-a0645282ddbd"
      },
      "execution_count": null,
      "outputs": [
        {
          "output_type": "stream",
          "name": "stdout",
          "text": [
            "indice: 0: Aprender\n",
            "indice: 1: Python\n",
            "indice: 2: é\n",
            "indice: 3: massa\n"
          ]
        }
      ]
    },
    {
      "cell_type": "code",
      "source": [
        "'''\n",
        "Atividade 16 - Verificando a presença de um item\n",
        "\n",
        "Dada uma lista de alunos, encontre a posição de um aluno específico.\n",
        "\n",
        "alunos = [\"João\", \"Maria\", \"Pedro\", \"Ana\"]\n",
        "aluno_procurado = \"Pedro\"\n",
        "'''\n",
        "alunos = [\"João\", \"Maria\", \"Pedro\", \"Ana\"]\n",
        "aluno_procurado = \"Pedro\"\n",
        "for indice, aluno in enumerate(alunos):\n",
        "  if aluno == aluno_procurado:\n",
        "    print(f'O aluno {aluno_procurado} está na posição {indice}')"
      ],
      "metadata": {
        "colab": {
          "base_uri": "https://localhost:8080/"
        },
        "id": "-Hfj-X0m0CWB",
        "outputId": "d4fab5db-cb76-46da-b79f-4a1e3435736b"
      },
      "execution_count": null,
      "outputs": [
        {
          "output_type": "stream",
          "name": "stdout",
          "text": [
            "O aluno Pedro está na posição 2\n"
          ]
        }
      ]
    },
    {
      "cell_type": "code",
      "source": [
        "alunos = [\"João\", \"Maria\", \"Pedro\", \"Ana\"]\n",
        "for indice, aluno in enumerate(alunos):\n",
        "  if 'Pedro' in aluno:\n",
        "    print(f'O aluno Pedro está na posição {indice}')"
      ],
      "metadata": {
        "colab": {
          "base_uri": "https://localhost:8080/"
        },
        "id": "AwTfMUxZJQJQ",
        "outputId": "49dedf38-21ee-4c6a-94c3-58d9c854bf24"
      },
      "execution_count": null,
      "outputs": [
        {
          "output_type": "stream",
          "name": "stdout",
          "text": [
            "O aluno Pedro está na posição 2\n"
          ]
        }
      ]
    },
    {
      "cell_type": "code",
      "source": [
        "alunos = [\"João\", \"Maria\", \"Pedro\", \"Ana\"]\n",
        "#Strip() retira os espaços em branco\n",
        "#Lower() coloca a string em letra minuscula\n",
        "busca = input(\"Informe o nome do aluno a ser buscado: \").strip().lower()\n",
        "encontrado = False\n",
        "\n",
        "for indice, aluno in enumerate(alunos):\n",
        "  if aluno.lower() == busca: #Coloca o valor da string em minusculo\n",
        "    print(f'O aluno {busca} está na posição {indice}')\n",
        "    encontrado = True\n",
        "    break #Vai parar\n",
        "if not encontrado:\n",
        "  print(\"O aluno não foi encontrado\")"
      ],
      "metadata": {
        "colab": {
          "base_uri": "https://localhost:8080/"
        },
        "id": "yZfC9MXZhaPi",
        "outputId": "873ec23a-39d4-4336-95f9-724e94e85326"
      },
      "execution_count": null,
      "outputs": [
        {
          "output_type": "stream",
          "name": "stdout",
          "text": [
            "Informe o nome do aluno a ser buscado: joana\n",
            "O aluno não foi encontrado\n"
          ]
        }
      ]
    },
    {
      "cell_type": "code",
      "source": [
        "# Buscando nome + sobrenome ou um pedaço do nome\n",
        "alunos = [\"João Martins\", \"Maria Braga\", \"Pedro Bial\", \"Ana Paula Padrão\"]\n",
        "print(alunos)\n",
        "\n",
        "busca = input(\"Informe o nome do aluno a ser buscado: \").strip().lower()\n",
        "encontrado = False\n",
        "\n",
        "for indice, aluno in enumerate(alunos):\n",
        "  if busca in aluno.lower():\n",
        "    print(f'O aluno {aluno} está na posição {indice}')\n",
        "    encontrado = True\n",
        "    break #Vai parar\n",
        "if not encontrado:\n",
        "  print(\"O aluno não foi encontrado\")\n"
      ],
      "metadata": {
        "colab": {
          "base_uri": "https://localhost:8080/"
        },
        "id": "OylboM2FjxYl",
        "outputId": "1c3d8b41-4811-43e9-80b0-c5b239346022"
      },
      "execution_count": null,
      "outputs": [
        {
          "output_type": "stream",
          "name": "stdout",
          "text": [
            "['João Martins', 'Maria Braga', 'Pedro Bial', 'Ana Paula Padrão']\n",
            "Informe o nome do aluno a ser buscado: braga\n",
            "O aluno Maria Braga está na posição 1\n"
          ]
        }
      ]
    },
    {
      "cell_type": "code",
      "source": [
        "'''\n",
        "Atividade 17 - Conferindo tarefas\n",
        "\n",
        "Percorra uma lista de tarefas e mostre quais já foram feitas e quais ainda não\n",
        "foram feitas.\n",
        "\n",
        "tarefas = [\"Lavar a louça\", \"Estudar\", \"Jogar videogame\"]\n",
        "status = [True, False, True]\n",
        "'''\n",
        "tarefas = [\"Lavar a louça\", \"Estudar\", \"Jogar videogame\"]\n",
        "status = [True, False, True]\n",
        "\n",
        "for indice, tarefa in enumerate(tarefas):\n",
        "  if status[indice]:\n",
        "    print(f'Tarefa {tarefa} foi feita')\n",
        "  else:\n",
        "    print(f'Tarefa {tarefa} não foi feita')"
      ],
      "metadata": {
        "colab": {
          "base_uri": "https://localhost:8080/"
        },
        "id": "K4pItFvj0Syr",
        "outputId": "4dd71f64-97c4-420f-85e1-b4edb2220766"
      },
      "execution_count": null,
      "outputs": [
        {
          "output_type": "stream",
          "name": "stdout",
          "text": [
            "Tarefa Lavar a louça foi feita\n",
            "Tarefa Estudar não foi feita\n",
            "Tarefa Jogar videogame foi feita\n"
          ]
        }
      ]
    },
    {
      "cell_type": "code",
      "source": [
        "'''\n",
        "Atividade 18 - Conferindo estoque\n",
        "\n",
        "Percorra uma lista de produtos e exiba a quantidade de cada um no estoque.\n",
        "\n",
        "produtos = [\"Banana\", \"Maçã\", \"Laranja\", \"Uva\"]\n",
        "quantidades = [10, 5, 7, 3]\n",
        "'''\n",
        "produtos = [\"Banana\", \"Maçã\", \"Laranja\", \"Uva\"]\n",
        "quantidades = [10, 5, 7, 3]\n",
        "\n",
        "for indice, produto in enumerate(produtos):\n",
        "  print(f'Produto: {produto} - Quantidade: {quantidades[indice]}')"
      ],
      "metadata": {
        "colab": {
          "base_uri": "https://localhost:8080/"
        },
        "id": "Fos26v7S0pEk",
        "outputId": "2cef030f-170f-46ff-c3cd-ff115547be7c"
      },
      "execution_count": null,
      "outputs": [
        {
          "output_type": "stream",
          "name": "stdout",
          "text": [
            "Produto: Banana - Quantidade: 10\n",
            "Produto: Maçã - Quantidade: 5\n",
            "Produto: Laranja - Quantidade: 7\n",
            "Produto: Uva - Quantidade: 3\n"
          ]
        }
      ]
    },
    {
      "cell_type": "code",
      "source": [
        "#solução usando zip\n",
        "produtos = [\"Banana\", \"Maçã\", \"Laranja\", \"Uva\"]\n",
        "quantidades = [10, 5, 7, 3]\n",
        "for quantidade, produto in zip(quantidades, produtos):\n",
        "  print(f\"Produto: {produto} --->\\t Qtd: {quantidade}\")\n"
      ],
      "metadata": {
        "colab": {
          "base_uri": "https://localhost:8080/"
        },
        "id": "cqXnqTcUwx3c",
        "outputId": "728439f5-a209-459d-f42e-a79acf74fcec"
      },
      "execution_count": null,
      "outputs": [
        {
          "output_type": "stream",
          "name": "stdout",
          "text": [
            "Produto: Banana --->\t Qtd: 10\n",
            "Produto: Maçã --->\t Qtd: 5\n",
            "Produto: Laranja --->\t Qtd: 7\n",
            "Produto: Uva --->\t Qtd: 3\n"
          ]
        }
      ]
    },
    {
      "cell_type": "code",
      "source": [
        "'''\n",
        "Atividade 19 - Calculando desconto progressivo\n",
        "\n",
        "Uma loja dá descontos progressivos em produtos: 10% no 1º produto,\n",
        "20% no 2º e assim por diante. Calcule o preço final de cada produto com\n",
        "base na lista de preços.\n",
        "\n",
        "precos = [100, 200, 300, 400, 500]\n",
        "'''\n",
        "precos = [100,200,300,400,500]\n",
        "\n",
        "for indice, preco in enumerate(precos, start=1):\n",
        "  desconto = indice * 10 # 1º produto = 10% / 2º produto = 2 * 10 = 20%\n",
        "  v_final = preco - (preco * desconto/100)\n",
        "  print(f'Produto {indice}: Preço original R$ {preco:.2f}, Desconto de {desconto}%, Valor final de R$ {v_final:.2f}')\n"
      ],
      "metadata": {
        "colab": {
          "base_uri": "https://localhost:8080/"
        },
        "id": "hNDktnNT08ku",
        "outputId": "4feacc92-49dd-4c0e-89d1-47fd3d8f6c66"
      },
      "execution_count": null,
      "outputs": [
        {
          "output_type": "stream",
          "name": "stdout",
          "text": [
            "Produto 1: Preço original R$ 100.00, Desconto de 10%, Valor final de R$ 90.00\n",
            "Produto 2: Preço original R$ 200.00, Desconto de 20%, Valor final de R$ 160.00\n",
            "Produto 3: Preço original R$ 300.00, Desconto de 30%, Valor final de R$ 210.00\n",
            "Produto 4: Preço original R$ 400.00, Desconto de 40%, Valor final de R$ 240.00\n",
            "Produto 5: Preço original R$ 500.00, Desconto de 50%, Valor final de R$ 250.00\n"
          ]
        }
      ]
    },
    {
      "cell_type": "code",
      "source": [
        "'''\n",
        "Atividade 20 - Encontrando múltiplos de 3\n",
        "\n",
        "Dada uma lista de números, encontre os índices de todos os múltiplos de 3.\n",
        "\n",
        "numeros = [5, 9, 12, 7, 15, 22, 18]\n",
        "'''\n",
        "numeros = [5, 9, 12, 7, 15, 22, 18]\n",
        "for indice, numero in enumerate(numeros):\n",
        "  if numero % 3 == 0:\n",
        "    print(f'O número {numero} é múltiplo de 3 e está na posição {indice}')"
      ],
      "metadata": {
        "colab": {
          "base_uri": "https://localhost:8080/"
        },
        "id": "cbkej3et1llq",
        "outputId": "ac92d6db-d56e-4298-ff50-3bf4e7e16de1"
      },
      "execution_count": null,
      "outputs": [
        {
          "output_type": "stream",
          "name": "stdout",
          "text": [
            "O número 9 é múltiplo de 3 e está na posição 1\n",
            "O número 12 é múltiplo de 3 e está na posição 2\n",
            "O número 15 é múltiplo de 3 e está na posição 4\n",
            "O número 18 é múltiplo de 3 e está na posição 6\n"
          ]
        }
      ]
    },
    {
      "cell_type": "code",
      "source": [
        "'''\n",
        "Atividade 21 - Verificação de palíndromos\n",
        "\n",
        "Dada uma lista de palavras, identifique quais são palíndromos\n",
        "(lê-se igual de trás para frente).\n",
        "\n",
        "palavras = [\"arara\", \"python\", \"radar\", \"palavra\", \"ana\"]\n",
        "'''\n",
        "palavras = [\"arara\", \"python\", \"radar\", \"palavra\", \"ana\"]\n",
        "for palavra in palavras:\n",
        "  if palavra == palavra[::-1]: # [::-1] isso inverte a string [start,stop,step]\n",
        "    print(f'A palavra \"{palavra}\" é um palíndromo')"
      ],
      "metadata": {
        "colab": {
          "base_uri": "https://localhost:8080/"
        },
        "id": "KEqB-e2b19Hj",
        "outputId": "c4d64055-5420-4b76-be5b-1a9e41e1eca4"
      },
      "execution_count": null,
      "outputs": [
        {
          "output_type": "stream",
          "name": "stdout",
          "text": [
            "A palavra \"arara\" é um palíndromo\n",
            "A palavra \"radar\" é um palíndromo\n",
            "A palavra \"ana\" é um palíndromo\n"
          ]
        }
      ]
    },
    {
      "cell_type": "code",
      "source": [
        "#Codigo com o indice\n",
        "palavras = [\"arara\", \"python\", \"radar\", \"palavra\", \"ana\"]\n",
        "\n",
        "for indice, palavra in enumerate(palavras):\n",
        "  if palavra == palavra[::-1]:\n",
        "    print(f'A palavra \"{palavra}\" é um palíndromo e a sua posição é {indice}')"
      ],
      "metadata": {
        "colab": {
          "base_uri": "https://localhost:8080/"
        },
        "id": "a87d08s75WkC",
        "outputId": "90215b8f-095d-4991-850a-5ace5818b460"
      },
      "execution_count": null,
      "outputs": [
        {
          "output_type": "stream",
          "name": "stdout",
          "text": [
            "A palavra \"arara\" é um palíndromo e a sua posição é 0\n",
            "A palavra \"radar\" é um palíndromo e a sua posição é 2\n",
            "A palavra \"ana\" é um palíndromo e a sua posição é 4\n"
          ]
        }
      ]
    },
    {
      "cell_type": "code",
      "source": [
        "'''\n",
        "Atividade 22 - Classificando temperaturas\n",
        "\n",
        "Dada uma lista de temperaturas em graus Celsius, categorize-as como \"frio\",\n",
        "\"agradável\" ou \"quente\".\n",
        "\n",
        "Frio: abaixo de 15°C\n",
        "Agradável: entre 15°C e 25°C\n",
        "Quente: acima de 25°C\n",
        "\n",
        "temperaturas = [10, 18, 22, 30, 5, 15, 25]\n",
        "'''\n",
        "temperaturas = [10, 18, 22, 30, 5, 15, 25]\n",
        "\n",
        "for temperatura in temperaturas:\n",
        "  if temperatura < 15:\n",
        "    print(f'A temperatura {temperatura}°C é fria')\n",
        "  elif 15 <= temperatura <= 25:\n",
        "    print(f'A temperatura {temperatura}°C é agradável')\n",
        "  else:\n",
        "    print(f'A temperatura {temperatura}°C é quente')"
      ],
      "metadata": {
        "colab": {
          "base_uri": "https://localhost:8080/"
        },
        "id": "pdlB2fSw2S11",
        "outputId": "1e5775de-fef4-4772-aac2-6c97d9aadefa"
      },
      "execution_count": null,
      "outputs": [
        {
          "output_type": "stream",
          "name": "stdout",
          "text": [
            "A temperatura 10°C é fria\n",
            "A temperatura 18°C é agradável\n",
            "A temperatura 22°C é agradável\n",
            "A temperatura 30°C é quente\n",
            "A temperatura 5°C é fria\n",
            "A temperatura 15°C é agradável\n",
            "A temperatura 25°C é agradável\n"
          ]
        }
      ]
    },
    {
      "cell_type": "code",
      "source": [
        "temperaturas = [10, 18, 22, 30, 5, 15, 25]\n",
        "temperaturas.sort()\n",
        "\n",
        "for indice, temperatura in enumerate(temperaturas):\n",
        "  if temperatura < 15:\n",
        "    categoria = \"Frio\"\n",
        "  elif 15 <= temperatura <= 25:\n",
        "    categoria = \"Agradável\"\n",
        "  else:\n",
        "    categoria = \"Quente\"\n",
        "  print(f'Temperatura {indice}: {temperatura}°C - {categoria}')\n"
      ],
      "metadata": {
        "colab": {
          "base_uri": "https://localhost:8080/"
        },
        "id": "zTcbixZv67WS",
        "outputId": "784134c8-c56b-4af2-ecc5-d9b0c6f75143"
      },
      "execution_count": null,
      "outputs": [
        {
          "output_type": "stream",
          "name": "stdout",
          "text": [
            "Temperatura 0: 5°C - Frio\n",
            "Temperatura 1: 10°C - Frio\n",
            "Temperatura 2: 15°C - Agradável\n",
            "Temperatura 3: 18°C - Agradável\n",
            "Temperatura 4: 22°C - Agradável\n",
            "Temperatura 5: 25°C - Agradável\n",
            "Temperatura 6: 30°C - Quente\n"
          ]
        }
      ]
    },
    {
      "cell_type": "code",
      "source": [
        "'''\n",
        "Atividade 23 - Contando letras repetidas\n",
        "\n",
        "Conte quantas vezes cada letra aparece em uma palavra e exiba o resultado.\n",
        "\n",
        "palavra = \"banana\"\n",
        "'''\n",
        "\n",
        "palavra = 'banana'\n",
        "for letra in set(palavra): # metodo SET elimina itens duplicados\n",
        "  print(f'A letra {letra} aparece {palavra.count(letra)} vezes')"
      ],
      "metadata": {
        "colab": {
          "base_uri": "https://localhost:8080/"
        },
        "id": "pCF6RiR52gyX",
        "outputId": "924c1208-3cca-476d-c619-ba0b480b1f02"
      },
      "execution_count": null,
      "outputs": [
        {
          "output_type": "stream",
          "name": "stdout",
          "text": [
            "A letra b aparece 1 vezes\n",
            "A letra a aparece 3 vezes\n",
            "A letra n aparece 2 vezes\n"
          ]
        }
      ]
    },
    {
      "cell_type": "code",
      "source": [
        "for letra in set(palavra): # SET elimina itns duplicados dentro do for\n",
        "  count = 0\n",
        "  for i in palavra:\n",
        "    if letra == i:\n",
        "      count += 1\n",
        "  print(f'Qtd de {letra} é: {count}')"
      ],
      "metadata": {
        "colab": {
          "base_uri": "https://localhost:8080/"
        },
        "id": "OZ_6-6RTO8PT",
        "outputId": "14cfa3a1-3732-4f72-abbc-66825d65807b"
      },
      "execution_count": null,
      "outputs": [
        {
          "output_type": "stream",
          "name": "stdout",
          "text": [
            "Qtd de b é: 1\n",
            "Qtd de a é: 3\n",
            "Qtd de n é: 2\n"
          ]
        }
      ]
    },
    {
      "cell_type": "code",
      "source": [
        "'''\n",
        "A partir da 24 a gente usa while\n",
        "\n",
        "Atividade 24 - Perguntar o nome até sair\n",
        "\n",
        "Escreva um programa que peça o nome de uma pessoa repetidamente.\n",
        "O programa deve parar quando a pessoa digitar \"sair\".\n",
        "'''\n",
        "nome = input(\"Digite seu nome: \")\n",
        "while nome != 'sair':\n",
        "  print(f'Olá {nome}')\n",
        "  nome = input(\"Digite seu nome ou digite 'sair' para finalizar: \")\n",
        "print(\"Programa finalizado\")\n"
      ],
      "metadata": {
        "id": "xvsAUyAHppfh",
        "colab": {
          "base_uri": "https://localhost:8080/"
        },
        "outputId": "4b29d022-35f9-48b8-b29f-3ce8a24ca47b"
      },
      "execution_count": null,
      "outputs": [
        {
          "output_type": "stream",
          "name": "stdout",
          "text": [
            "Digite seu nome: Agnaldo\n",
            "Olá Agnaldo\n",
            "Digite seu nome ou digite 'sair' para finalizar: Agnaldo\n",
            "Olá Agnaldo\n",
            "Digite seu nome ou digite 'sair' para finalizar: sair\n",
            "Programa finalizado\n"
          ]
        }
      ]
    },
    {
      "cell_type": "code",
      "source": [
        "while True:\n",
        "  nome = input(\"Digite seu nome ou sair para encerrar: \")\n",
        "  if nome.lower() == 'sair':\n",
        "    break\n",
        "  print(f'Olá {nome}')\n",
        "print(\"Programa finalizado\")"
      ],
      "metadata": {
        "colab": {
          "base_uri": "https://localhost:8080/"
        },
        "id": "evn_xYpu7Syq",
        "outputId": "5b7859df-6efc-4d68-e750-b309a1dc04d9"
      },
      "execution_count": null,
      "outputs": [
        {
          "output_type": "stream",
          "name": "stdout",
          "text": [
            "Digite seu nome ou sair para encerrar: agnaldo\n",
            "Olá agnaldo\n",
            "Digite seu nome ou sair para encerrar: sair\n",
            "Programa finalizado\n"
          ]
        }
      ]
    },
    {
      "cell_type": "code",
      "source": [
        "'''\n",
        "Atividade 25 - Adivinhe o número\n",
        "\n",
        "Escreva um programa em que o computador tenha um número secreto\n",
        "(por exemplo, 7) e o jogador deve adivinhar. O programa continua\n",
        " até o jogador acertar.\n",
        "'''\n",
        "import random\n",
        "numero_secreto = random.randint(1,5)\n",
        "print('Adivinhe o número!')\n",
        "numero = 0\n",
        "while numero != numero_secreto:\n",
        "  numero = int(input(\"Digite um número entre 1 e 5: \"))\n",
        "  if numero < numero_secreto:\n",
        "    print('O número secreto é maior')\n",
        "  elif numero > numero_secreto:\n",
        "    print('O número secreto é menor')\n",
        "  else:\n",
        "    print(f'Parabéns você acertou! O Número é: {numero_secreto}')"
      ],
      "metadata": {
        "id": "eQ0Z2HU1pmFY",
        "colab": {
          "base_uri": "https://localhost:8080/"
        },
        "outputId": "0c0c729b-0996-43bd-800b-44951542bf83"
      },
      "execution_count": null,
      "outputs": [
        {
          "output_type": "stream",
          "name": "stdout",
          "text": [
            "Adivinhe o número!\n",
            "Digite um número entre 1 e 5: 1\n",
            "O número secreto é maior\n",
            "Digite um número entre 1 e 5: 5\n",
            "O número secreto é menor\n",
            "Digite um número entre 1 e 5: 3\n",
            "Parabéns você acertou! O Número é: 3\n"
          ]
        }
      ]
    },
    {
      "cell_type": "code",
      "source": [
        "n_secreto = 5\n",
        "\n",
        "while True: #Exemplo usando o while True diminue o codigo\n",
        "  n = int(input('Digite um número (0 a 10): '))\n",
        "  if n < n_secreto:\n",
        "    print('O número secreto é maior')\n",
        "  elif n > n_secreto:\n",
        "    print('O número secreto é menor')\n",
        "  else:\n",
        "    print(f'Parabéns você acertou! O Número é: {n_secreto}')\n",
        "    break"
      ],
      "metadata": {
        "colab": {
          "base_uri": "https://localhost:8080/"
        },
        "id": "ofRWZ9uN_UtE",
        "outputId": "f14a9ce7-33eb-47f4-ad9e-5902c65bebcc"
      },
      "execution_count": null,
      "outputs": [
        {
          "output_type": "stream",
          "name": "stdout",
          "text": [
            "Digite um número (0 a 10): 3\n",
            "O número secreto é maior\n",
            "Digite um número (0 a 10): 5\n",
            "Parabéns você acertou! O Número é: 5\n"
          ]
        }
      ]
    },
    {
      "cell_type": "code",
      "source": [
        "'''\n",
        "Atividade 26 - Corrigir dados até que estejam certos\n",
        "crie um programa que peça ao usuário para digitar um e-mail\n",
        "válido. O e-mail deve conter \"@\" e \".\". O programa continua\n",
        "pedindo até que o e-mail seja válido.\n",
        "'''\n",
        "\n",
        "email = input('Digite seu email: ')\n",
        "while '@' not in email or '.' not in email:\n",
        "  print('Email inválido')\n",
        "  email = input('Digite seu email novamente: ')\n",
        "print(f'Email válido: {email}')"
      ],
      "metadata": {
        "id": "6_I11QLCpjkY",
        "colab": {
          "base_uri": "https://localhost:8080/"
        },
        "outputId": "081c1560-b2c9-498b-b17c-b1682f894644"
      },
      "execution_count": null,
      "outputs": [
        {
          "output_type": "stream",
          "name": "stdout",
          "text": [
            "Digite seu email: aggemail.com.br\n",
            "Email inválido\n",
            "Digite seu email novamente: ag@gmail.com.br\n",
            "Email válido: ag@gmail.com.br\n"
          ]
        }
      ]
    },
    {
      "cell_type": "code",
      "source": [
        "#Exemplo usando o while True\n",
        "while True:\n",
        "  email = input(\"Digite um e-mail válido: \")\n",
        "  if \"@\" in email and \".\" in email:\n",
        "    print(\"E-mail válido.\")\n",
        "    break\n",
        "  else:\n",
        "    print(\"E-mail inválido\")\n"
      ],
      "metadata": {
        "colab": {
          "base_uri": "https://localhost:8080/"
        },
        "id": "ZD2g0O0dDaBZ",
        "outputId": "8de86a67-3ca7-49eb-90aa-bf9a25425476"
      },
      "execution_count": null,
      "outputs": [
        {
          "output_type": "stream",
          "name": "stdout",
          "text": [
            "Digite um e-mail válido: ag@gmailcom\n",
            "E-mail inválido\n",
            "Digite um e-mail válido: ag@gmail.com\n",
            "E-mail válido.\n"
          ]
        }
      ]
    },
    {
      "cell_type": "code",
      "source": [
        "'''\n",
        "Atividade 27 - Soma de números positivos\n",
        "\n",
        "Peça ao usuário para digitar números. Some os números digitados,\n",
        " mas pare o programa se o usuário digitar um número negativo.\n",
        "'''\n",
        "soma = 0\n",
        "numero = int(input('Digite um número: '))\n",
        "while numero >= 0:\n",
        "  soma += numero\n",
        "  numero = int(input('Digite um número: '))\n",
        "print(f'A soma dos números é: {soma}')"
      ],
      "metadata": {
        "id": "z1P9ADWgpgFQ",
        "colab": {
          "base_uri": "https://localhost:8080/"
        },
        "outputId": "fc0cc7c1-8065-4772-8727-66ecbbcfac80"
      },
      "execution_count": null,
      "outputs": [
        {
          "output_type": "stream",
          "name": "stdout",
          "text": [
            "Digite um número: 2\n",
            "Digite um número: 4\n",
            "Digite um número: 6\n",
            "Digite um número: -1\n",
            "A soma dos números é: 12\n"
          ]
        }
      ]
    },
    {
      "cell_type": "code",
      "source": [
        "soma = 0\n",
        "while True:\n",
        "  numero = int(input('Digite um número (Negativo para sair): '))\n",
        "  if numero >= 0:\n",
        "    soma += numero\n",
        "  else:\n",
        "    print(f'A soma dos números é: {soma}')\n",
        "    break"
      ],
      "metadata": {
        "colab": {
          "base_uri": "https://localhost:8080/"
        },
        "id": "luE28Zd8FHCU",
        "outputId": "122efc96-3f69-48c9-8386-433e8d7aecf2"
      },
      "execution_count": null,
      "outputs": [
        {
          "output_type": "stream",
          "name": "stdout",
          "text": [
            "Digite um número: 2\n",
            "Digite um número: 3\n",
            "Digite um número: 4\n",
            "Digite um número: -1\n",
            "A soma dos números é: 9\n"
          ]
        }
      ]
    },
    {
      "cell_type": "code",
      "source": [
        "'''\n",
        "Atividade 28 - Cálculo de média\n",
        "\n",
        "Peça notas ao usuário. Continue pedindo até que o usuário digite\n",
        " -1. Calcule e mostre a média das notas.\n",
        "'''\n",
        "notas = []\n",
        "nota = 0\n",
        "\n",
        "while nota != -1:\n",
        "  nota = float(input(\"Digite uma nota (-1 para encerrar): \"))\n",
        "  if nota != -1:\n",
        "    notas.append(nota)\n",
        "\n",
        "if notas:\n",
        "  media = sum(notas)/len(notas)\n",
        "  print(f'A media das notas é {media:.2f}')\n",
        "else:\n",
        "  print(\"Nenhuma nota foi digitada.\")\n"
      ],
      "metadata": {
        "id": "vtnGDsXapdOP",
        "colab": {
          "base_uri": "https://localhost:8080/"
        },
        "outputId": "90e1aacf-4478-4621-d3c2-e0b49e2b7b11"
      },
      "execution_count": null,
      "outputs": [
        {
          "output_type": "stream",
          "name": "stdout",
          "text": [
            "Digite uma nota (-1 para encerrar): 6\n",
            "Digite uma nota (-1 para encerrar): 6\n",
            "Digite uma nota (-1 para encerrar): 6\n",
            "Digite uma nota (-1 para encerrar): -1\n",
            "A media das notas é 6.00\n"
          ]
        }
      ]
    },
    {
      "cell_type": "code",
      "source": [
        "#Exemplo com o while True\n",
        "cont = 0\n",
        "soma = 0\n",
        "while True:\n",
        "  nota = float(input('Digite outra Nota ou \"-1\" para sair: '))\n",
        "  if nota == -1:\n",
        "    break\n",
        "  else:\n",
        "    soma += nota\n",
        "    cont += 1\n",
        "print(f'A media das Notas foi: {soma/cont}')\n"
      ],
      "metadata": {
        "colab": {
          "base_uri": "https://localhost:8080/"
        },
        "id": "_VxljvV5nMDf",
        "outputId": "331b0342-5dcd-480d-add2-e7d27cb5d5f4"
      },
      "execution_count": null,
      "outputs": [
        {
          "output_type": "stream",
          "name": "stdout",
          "text": [
            "Digite outra Nota ou \"-1\" para sair: 6\n",
            "Digite outra Nota ou \"-1\" para sair: 6\n",
            "Digite outra Nota ou \"-1\" para sair: 6\n",
            "Digite outra Nota ou \"-1\" para sair: -1\n",
            "A media das Notas foi: 6.0\n"
          ]
        }
      ]
    },
    {
      "cell_type": "code",
      "source": [
        "'''\n",
        "Atividade 29 - Caixa eletrônico\n",
        "\n",
        "Simule um caixa eletrônico que permite saques até que o saldo\n",
        "chegue a 0. O programa deve continuar pedindo o valor do saque\n",
        "enquanto houver saldo disponível.\n",
        "'''\n",
        "saldo = 100\n",
        "while True:\n",
        "  print(f'Saldo disponível: R${saldo:.2f}')\n",
        "  saque = float(input('Digite o valor do saque: '))\n",
        "  if saldo >= saque:\n",
        "    saldo -= saque\n",
        "  else:\n",
        "    print('Saldo insuficiente')\n",
        "    break"
      ],
      "metadata": {
        "id": "Vh9ccr6ZpaVo",
        "colab": {
          "base_uri": "https://localhost:8080/"
        },
        "outputId": "9c68c7d2-dadd-4e1a-ba8e-a7652a5b03b0"
      },
      "execution_count": null,
      "outputs": [
        {
          "output_type": "stream",
          "name": "stdout",
          "text": [
            "Saldo disponível: R$100.00\n",
            "Digite o valor do saque: 50\n",
            "Saldo disponível: R$50.00\n",
            "Digite o valor do saque: 40\n",
            "Saldo disponível: R$10.00\n",
            "Digite o valor do saque: 50\n",
            "Saldo insuficiente\n"
          ]
        }
      ]
    },
    {
      "cell_type": "code",
      "source": [
        "saldo = 500\n",
        "\n",
        "while saldo > 0:\n",
        "  print(f'Saldo disponível: R${saldo:.2f}')\n",
        "  saque = float(input('Digite o valor de saque: '))\n",
        "  if saque > saldo:\n",
        "    print('Saldo insuficiente.')\n",
        "  elif saque < 0:\n",
        "    print('Digite um valor válido!')\n",
        "  else:\n",
        "    saldo -= saque\n",
        "    print(f'Saque de R${saque:.2f} realizado!')\n",
        "\n",
        "print(\"Saldo esgotado!\")\n"
      ],
      "metadata": {
        "colab": {
          "base_uri": "https://localhost:8080/"
        },
        "id": "e4FvP40Pslu1",
        "outputId": "a6677ecb-0af0-4d88-f841-bf67b3374f18"
      },
      "execution_count": null,
      "outputs": [
        {
          "output_type": "stream",
          "name": "stdout",
          "text": [
            "Saldo disponível: R$500.00\n",
            "Digite o valor de saque: 100\n",
            "Saque de R$100.00 realizado!\n",
            "Saldo disponível: R$400.00\n",
            "Digite o valor de saque: 500\n",
            "Saldo insuficiente.\n",
            "Saldo disponível: R$400.00\n",
            "Digite o valor de saque: 400\n",
            "Saque de R$400.00 realizado!\n",
            "Saldo esgotado!\n"
          ]
        }
      ]
    },
    {
      "cell_type": "code",
      "source": [
        "'''\n",
        "Atividade 30 - Teste de conhecimento com pontuação\n",
        "\n",
        "Crie um programa que faça uma série de perguntas ao usuário.\n",
        "Para cada resposta correta, ele ganha 1 ponto. O programa deve\n",
        "continuar perguntando até que todas as questões sejam respondidas\n",
        " ou o usuário digite \"sair\". No final, exiba a pontuação total.\n",
        "\n",
        "perguntas = [\n",
        "    {\"pergunta\": \"Qual é a capital do Brasil?\", \"resposta\": \"Brasília\"},\n",
        "    {\"pergunta\": \"Quantos dias tem um ano bissexto?\", \"resposta\": \"366\"},\n",
        "    {\"pergunta\": \"Qual é o maior oceano do mundo?\", \"resposta\": \"Pacífico\"},\n",
        "]\n",
        "'''\n",
        "perguntas = [\n",
        "    {\"pergunta\": \"Qual é a capital do Brasil?\", \"resposta\": \"Brasília\"},\n",
        "    {\"pergunta\": \"Quantos dias tem um ano bissexto?\", \"resposta\": \"366\"},\n",
        "    {\"pergunta\": \"Qual é o maior oceano do mundo?\", \"resposta\": \"Pacífico\"},\n",
        "]\n",
        "pontuacao = 0\n",
        "for pergunta in perguntas:\n",
        "  print(f'Pergunta: {pergunta[\"pergunta\"]}')\n",
        "  resposta = input('Digite sua resposta (sair para encerrar): ')\n",
        "  if resposta == pergunta['resposta']:\n",
        "    print('Resposta correta + 1 ponto')\n",
        "    pontuacao += 1\n",
        "  elif resposta == 'sair':\n",
        "    break\n",
        "\n",
        "print(f'Pontuação final: {pontuacao}')"
      ],
      "metadata": {
        "id": "kpVKGNTInjeF",
        "colab": {
          "base_uri": "https://localhost:8080/"
        },
        "outputId": "8edc4de9-ae9d-4e67-e3a4-94dcd589019a"
      },
      "execution_count": null,
      "outputs": [
        {
          "output_type": "stream",
          "name": "stdout",
          "text": [
            "Pergunta: Qual é a capital do Brasil?\n",
            "Digite sua resposta: Brasilia\n",
            "Pergunta: Quantos dias tem um ano bissexto?\n",
            "Digite sua resposta: sair\n",
            "Pontuação final: 0\n"
          ]
        }
      ]
    },
    {
      "cell_type": "code",
      "source": [
        "perguntas = [\n",
        "    {\"pergunta\": \"Qual é a capital do Brasil?\", \"resposta\": \"Brasília\"},\n",
        "    {\"pergunta\": \"Quantos dias tem um ano bissexto?\", \"resposta\": \"366\"},\n",
        "    {\"pergunta\": \"Qual é o maior oceano do mundo?\", \"resposta\": \"Pacífico\"},\n",
        "]\n",
        "\n",
        "pontuacao = 0 #Inicializando uma variável para armazenar a pontuação do jogador\n",
        "indice = 0 #Controlar qual pergunta está sendo feita no momento\n",
        "\n",
        "#Enquanto o meu indice for menor do que perguntas, ele continuará executando\n",
        "while indice < len(perguntas):\n",
        "  print(perguntas[indice][\"pergunta\"]) #Exibe a pergunta pro usuário\n",
        "  resposta_user = input(\"Sua resposta (digite 'sair' para encerrar): \").strip()\n",
        "\n",
        "  if resposta_user.lower() == 'sair':\n",
        "    break\n",
        "\n",
        "  if resposta_user.lower() == perguntas[indice][\"resposta\"].lower():\n",
        "    print(\"Resposta correta! +1 ponto!\")\n",
        "    pontuacao += 1 #Acumulando a pontuação\n",
        "\n",
        "  else:\n",
        "    print(f\"Resposta errada! A resposta correta é: {perguntas[indice]['resposta']}\")\n",
        "\n",
        "  indice += 1 #Permite avançar para a próxima pergunta\n",
        "\n",
        "print(f'Você terminou o quiz! Sua pontuação foi de {pontuacao}')"
      ],
      "metadata": {
        "colab": {
          "base_uri": "https://localhost:8080/"
        },
        "id": "Xg6YKYK7k1US",
        "outputId": "29d0cfdc-f627-4df8-81ec-88338f9523a1"
      },
      "execution_count": null,
      "outputs": [
        {
          "output_type": "stream",
          "name": "stdout",
          "text": [
            "Qual é a capital do Brasil?\n",
            "Sua resposta (digite 'sair' para encerrar): Brasilia\n",
            "Resposta errada! A resposta correta é: Brasília\n",
            "Quantos dias tem um ano bissexto?\n",
            "Sua resposta (digite 'sair' para encerrar): 366\n",
            "Resposta correta! +1 ponto!\n",
            "Qual é o maior oceano do mundo?\n",
            "Sua resposta (digite 'sair' para encerrar): Pacífico\n",
            "Resposta correta! +1 ponto!\n",
            "Você terminou o quiz! Sua pontuação foi de 2\n"
          ]
        }
      ]
    }
  ]
}