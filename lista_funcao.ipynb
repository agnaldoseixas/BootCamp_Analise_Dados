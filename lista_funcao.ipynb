{
  "nbformat": 4,
  "nbformat_minor": 0,
  "metadata": {
    "colab": {
      "provenance": [],
      "include_colab_link": true
    },
    "kernelspec": {
      "name": "python3",
      "display_name": "Python 3"
    },
    "language_info": {
      "name": "python"
    }
  },
  "cells": [
    {
      "cell_type": "markdown",
      "metadata": {
        "id": "view-in-github",
        "colab_type": "text"
      },
      "source": [
        "<a href=\"https://colab.research.google.com/github/agnaldoseixas/BootCamp_Analise_Dados/blob/main/lista_funcao.ipynb\" target=\"_parent\"><img src=\"https://colab.research.google.com/assets/colab-badge.svg\" alt=\"Open In Colab\"/></a>"
      ]
    },
    {
      "cell_type": "code",
      "execution_count": null,
      "metadata": {
        "colab": {
          "base_uri": "https://localhost:8080/"
        },
        "id": "MrVCPjuzFW0X",
        "outputId": "4f1bf337-84fc-461a-9c02-e175627b9b82"
      },
      "outputs": [
        {
          "output_type": "stream",
          "name": "stdout",
          "text": [
            "Digite o valor da conta: 200\n",
            "Digite a porcentagem da gorjeta: 20\n",
            "O Valor total: 240.0\n"
          ]
        }
      ],
      "source": [
        "'''\n",
        "Atividade 1\n",
        "\n",
        "Crie uma função chamada calcular_gorjeta que receba o valor de\n",
        "uma conta e a porcentagem da gorjeta desejada. A função deve\n",
        "retornar o valor total (conta + gorjeta).\n",
        "'''\n",
        "def calcular_gorjeta(valor_conta, porcentagem_gorjeta):\n",
        "    gorjeta = valor_conta * (porcentagem_gorjeta / 100)\n",
        "    total = valor_conta + gorjeta\n",
        "    return total\n",
        "\n",
        "v_conta = float(input(\"Digite o valor da conta: \").strip())\n",
        "p_gorjeta = float(input(\"Digite a porcentagem da gorjeta: \").strip('%'))\n",
        "print(f'O Valor total é: {calcular_gorjeta(v_conta, p_gorjeta)}')"
      ]
    },
    {
      "cell_type": "code",
      "source": [
        "'''\n",
        "Atividade 2\n",
        "\n",
        "Crie uma função chamada celsius_para_fahrenheit que converta\n",
        "uma temperatura de Celsius para Fahrenheit. Use a fórmula:\n",
        "F = C * 9/5 + 32.\n",
        "'''\n",
        "def celsius_para_fahrenheit(celsius):\n",
        "    fahrenheit = celsius * 9/5 + 32\n",
        "    return fahrenheit\n",
        "\n",
        "c = float(input(\"Digite a temperatura em Celsius: \").strip('º'))\n",
        "temperatura  = celsius_para_fahrenheit(c)\n",
        "print(f'A temperatura em Fahrenheit é: {temperatura}')"
      ],
      "metadata": {
        "colab": {
          "base_uri": "https://localhost:8080/"
        },
        "id": "8Rb-jS-sFuTl",
        "outputId": "f40fca02-b902-4e87-adbe-b0b8d78008a8"
      },
      "execution_count": null,
      "outputs": [
        {
          "output_type": "stream",
          "name": "stdout",
          "text": [
            "Digite a temperatura em Celsius: 25\n",
            "A temperatura em Fahrenheit é: 77.0\n"
          ]
        }
      ]
    },
    {
      "cell_type": "code",
      "source": [
        "'''\n",
        "Atividade 3\n",
        "\n",
        "Crie uma função chamada quantidade_total que receba uma lista\n",
        "com quantidades de itens (por exemplo, [2, 3, 5]) e some tudo.\n",
        "'''\n",
        "def quantidade_total(lista):\n",
        "    total = sum(lista)\n",
        "    return total\n",
        "lista = [2, 3, 5]\n",
        "print(f'A quantidade total é: {quantidade_total(lista)}')"
      ],
      "metadata": {
        "colab": {
          "base_uri": "https://localhost:8080/"
        },
        "id": "ezV30djFF6vm",
        "outputId": "7f300d8e-921a-408d-b04e-39c9ed595df5"
      },
      "execution_count": null,
      "outputs": [
        {
          "output_type": "stream",
          "name": "stdout",
          "text": [
            "A quantidade total é: 10\n"
          ]
        }
      ]
    },
    {
      "cell_type": "code",
      "source": [
        "def quantidade_total(lista):\n",
        "  return sum(lista)\n",
        "\n",
        "lista = []\n",
        "quantidade = int(input(\"Informe quantos números terá a lista: \"))\n",
        "\n",
        "for i in range(quantidade):\n",
        "  numero = float(input(\"Digite um número: \"))\n",
        "  lista.append(numero)\n",
        "\n",
        "total = quantidade_total(lista)\n",
        "print(f'O total é {total}')"
      ],
      "metadata": {
        "colab": {
          "base_uri": "https://localhost:8080/"
        },
        "id": "ZkYOHDSTMr_8",
        "outputId": "b5df0d24-5fef-415f-b8e3-f5041c524f78"
      },
      "execution_count": null,
      "outputs": [
        {
          "output_type": "stream",
          "name": "stdout",
          "text": [
            "Informe quantos números terá a lista: 4\n",
            "Digite um número: 2\n",
            "Digite um número: 3\n",
            "Digite um número: 4\n",
            "Digite um número: 5\n",
            "O total é 14.0\n"
          ]
        }
      ]
    },
    {
      "cell_type": "code",
      "source": [
        "'''\n",
        "Atividade 4\n",
        "\n",
        "Crie uma função chamada verificar_maioridade que receba uma\n",
        "idade e retorne \"Maior de idade\" se a pessoa tiver 18 anos ou\n",
        "mais, ou \"Menor de idade\" caso contrário.\n",
        "'''\n",
        "def verificar_maioridade(idade):\n",
        "    if idade >= 18:\n",
        "        return \"Maior de idade\"\n",
        "    else:\n",
        "        return \"Menor de idade\"\n",
        "\n",
        "idade = int(input(\"Digite a idade: \").strip())\n",
        "maioridade = verificar_maioridade(idade)\n",
        "print(f'Você é: {maioridade}')"
      ],
      "metadata": {
        "colab": {
          "base_uri": "https://localhost:8080/"
        },
        "id": "A_uZB9-lGJhf",
        "outputId": "93885db9-78b9-4dc8-fdbf-ea4d01507557"
      },
      "execution_count": null,
      "outputs": [
        {
          "output_type": "stream",
          "name": "stdout",
          "text": [
            "Digite a idade: 20\n",
            "Você é: Maior de idade\n"
          ]
        }
      ]
    },
    {
      "cell_type": "code",
      "source": [
        "'''\n",
        "Atividade 5\n",
        "\n",
        "Crie uma função chamada calcular_desconto que receba o preço de\n",
        "um produto e a porcentagem de desconto. Retorne o preço com o\n",
        "desconto aplicado.\n",
        "'''\n",
        "def calcular_desconto(preco, desconto):\n",
        "    preco_com_desconto = preco - (preco * (desconto / 100)) #Calcula o desconto e já subtrai do preço\n",
        "    return preco_com_desconto\n",
        "\n",
        "preco = float(input(\"Digite o preço do produto: R$\").strip()) # strip() elimina espaços em barnco\n",
        "desconto = float(input(\"Digite a porcentagem de desconto: \").strip('%')) # strip('%') elimina o objeto de porcentagem\n",
        "preco_final = calcular_desconto(preco, desconto)\n",
        "print(f'O preço com desconto é: R${preco_final}')\n"
      ],
      "metadata": {
        "colab": {
          "base_uri": "https://localhost:8080/"
        },
        "id": "Wxy14iIpGVvB",
        "outputId": "afae59fb-1fcb-4364-af99-6d0174b15f0d"
      },
      "execution_count": null,
      "outputs": [
        {
          "output_type": "stream",
          "name": "stdout",
          "text": [
            "Digite o preço do produto: R$240\n",
            "Digite a porcentagem de desconto: 25\n",
            "O preço com desconto é: R$180.0\n"
          ]
        }
      ]
    },
    {
      "cell_type": "code",
      "source": [
        "'''\n",
        "Atividade 6\n",
        "\n",
        "Crie uma função chamada contar_palavras que receba uma frase e\n",
        "diga quantas palavras ela tem.\n",
        "'''\n",
        "def contar_palavras(frase):\n",
        "    palavras = frase.split() #O split() quebra a frase no espaço em barnco e cria uma lista de palavras\n",
        "    return len(palavras) #O Len() pega quantos elementos tem na lista\n",
        "\n",
        "frase = input(\"Digite uma frase: \")\n",
        "total = contar_palavras(frase)\n",
        "print(f'A frase tem {total} palavras')"
      ],
      "metadata": {
        "colab": {
          "base_uri": "https://localhost:8080/"
        },
        "id": "awgWpo0AGnyq",
        "outputId": "60172e19-44f9-4d77-9013-5094ce56c2c0"
      },
      "execution_count": null,
      "outputs": [
        {
          "output_type": "stream",
          "name": "stdout",
          "text": [
            "Digite uma frase: Olá mundo\n",
            "A frase tem 2 palavras\n"
          ]
        }
      ]
    },
    {
      "cell_type": "code",
      "source": [
        "'''\n",
        "Atividade 7\n",
        "\n",
        "Crie uma função chamada revisar_texto que receba um texto e uma\n",
        "palavra. A função deve contar quantas vezes a palavra aparece\n",
        "no texto.\n",
        "'''\n",
        "def revisar_texto(texto, palavra):\n",
        "    texto = texto.lower() #O lower() deixa todas as letras minúsculas\n",
        "    palavra = palavra.lower()\n",
        "    palavras = texto.split()\n",
        "    contador = 0\n",
        "    for p in palavras:\n",
        "        if p == palavra:\n",
        "            contador += 1\n",
        "    return contador\n",
        "\n",
        "texto = input(\"Digite um texto: \")\n",
        "palavra = input(\"Digite uma palavra: \")\n",
        "print(f'A palavra aparece {revisar_texto(texto, palavra)} vezes')"
      ],
      "metadata": {
        "colab": {
          "base_uri": "https://localhost:8080/"
        },
        "id": "_bGfIBp2GxoM",
        "outputId": "0fde5550-1a3b-435f-fc55-716167863a6c"
      },
      "execution_count": null,
      "outputs": [
        {
          "output_type": "stream",
          "name": "stdout",
          "text": [
            "Digite um texto: todas as letras, todas as flores e todas as abelhas\n",
            "Digite uma palavra: todas\n",
            "A palavra aparece 3 vezes\n"
          ]
        }
      ]
    },
    {
      "cell_type": "code",
      "source": [
        "def revisar_texto(texto,palavra):\n",
        "  #Fazem a contagem de quantas a palavra se repete no texto\n",
        "  #Transformando elas para minúsculo para padronizar\n",
        "  return texto.lower().count(palavra.lower())\n",
        "\n",
        "texto = input(\"Digite um texto: \")\n",
        "palavra = input(\"Informa a palavra a ser contada: \")\n",
        "contagem = revisar_texto(texto,palavra)\n",
        "print(contagem)\n"
      ],
      "metadata": {
        "colab": {
          "base_uri": "https://localhost:8080/"
        },
        "id": "VeD8uZ5MAo_4",
        "outputId": "be9b5ef7-b790-4c69-8a8b-5d18d1febe93"
      },
      "execution_count": null,
      "outputs": [
        {
          "output_type": "stream",
          "name": "stdout",
          "text": [
            "Digite um texto: quanto  tempo o tempo tem tempo\n",
            "Informa a palavra a ser contada: tempo\n",
            "3\n"
          ]
        }
      ]
    },
    {
      "cell_type": "code",
      "source": [
        "'''\n",
        "Atividade 8\n",
        "\n",
        "Crie uma função chamada calcular_tempo_viagem que receba a\n",
        "distância em km e a velocidade média em km/h. Retorne o tempo\n",
        "estimado de viagem em horas.\n",
        "'''\n",
        "def calcular_tempo_viagem(distancia, velocidade_media):\n",
        "    tempo_viagem = distancia / velocidade_media\n",
        "    return tempo_viagem\n",
        "\n",
        "distancia = float(input(\"Digite a distância em km: \").strip())\n",
        "velocidade_media = float(input(\"Digite a velocidade média em km/h: \").strip())\n",
        "tempo_viagem = calcular_tempo_viagem(distancia, velocidade_media)\n",
        "print(f'O tempo estimado de viagem é: {tempo_viagem:.2f} horas')"
      ],
      "metadata": {
        "colab": {
          "base_uri": "https://localhost:8080/"
        },
        "id": "VFLHXrolHC9m",
        "outputId": "7a54f75c-e9ad-419e-f6e7-4473d1d11748"
      },
      "execution_count": null,
      "outputs": [
        {
          "output_type": "stream",
          "name": "stdout",
          "text": [
            "Digite a distância em km: 530\n",
            "Digite a velocidade média em km/h: 110\n",
            "O tempo estimado de viagem é: 4.82 horas\n"
          ]
        }
      ]
    },
    {
      "cell_type": "code",
      "source": [
        "'''\n",
        "Atividade 9\n",
        "\n",
        "Crie uma função chamada par_ou_impar que receba um número e\n",
        "retorne se ele é \"Par\" ou \"Ímpar\".\n",
        "'''\n",
        "def par_ou_impar(numero):\n",
        "    if numero % 2 == 0:\n",
        "        return \"Par\"\n",
        "    else:\n",
        "        return \"Ímpar\"\n",
        "\n",
        "numero = int(input(\"Digite um número: \").strip())\n",
        "verifica = par_ou_impar(numero)\n",
        "print(f'O número é: {verifica}')"
      ],
      "metadata": {
        "id": "7G1UDuKqHRhG",
        "colab": {
          "base_uri": "https://localhost:8080/"
        },
        "outputId": "1c88c498-398f-46be-c8ed-f2748cd112e7"
      },
      "execution_count": null,
      "outputs": [
        {
          "output_type": "stream",
          "name": "stdout",
          "text": [
            "Digite um número: 534\n",
            "O número é: Par\n"
          ]
        }
      ]
    },
    {
      "cell_type": "code",
      "source": [
        "'''\n",
        "Atividade 10\n",
        "\n",
        "Crie uma função chamada calcular_media que receba três notas de\n",
        "um aluno e retorne a média. Depois, diga se o aluno foi aprovado\n",
        "(média maior ou igual a 6) ou reprovado.\n",
        "'''\n",
        "def calcular_media(nota1, nota2, nota3):\n",
        "    media = (nota1 + nota2 + nota3) / 3\n",
        "    if media >= 6:\n",
        "        return media,'Aprovado' #Retornando 2 resultados\n",
        "    else:\n",
        "        return media, 'Reprovado'\n",
        "\n",
        "\n",
        "n1 = float(input(\"Digite a primeira nota: \").strip())\n",
        "n2 = float(input(\"Digite a segunda nota: \").strip())\n",
        "n3 = float(input(\"Digite a terceira nota: \").strip())\n",
        "#Armazenando a media na variável media e \"aprovado\" ou \"reprovado\" na variável status\n",
        "media, status = calcular_media(n1, n2, n3)\n",
        "print(f'O Aluno foi {status} com média {media:.2f}')\n",
        "\n"
      ],
      "metadata": {
        "colab": {
          "base_uri": "https://localhost:8080/"
        },
        "id": "ydPHtDBqHe7A",
        "outputId": "04430b85-7a13-49ed-b2ff-f54238bec8cc"
      },
      "execution_count": null,
      "outputs": [
        {
          "output_type": "stream",
          "name": "stdout",
          "text": [
            "Digite a primeira nota: 6\n",
            "Digite a segunda nota: 6\n",
            "Digite a terceira nota: 6\n",
            "O Aluno foi Aprovado com média 6.00\n"
          ]
        }
      ]
    },
    {
      "cell_type": "code",
      "source": [
        "'''\n",
        "Atividade 11\n",
        "\n",
        "Crie uma função chamada calcular_comissao que calcule a comissão\n",
        "de um vendedor, levando em consideração o valor total das vendas.\n",
        "Se o valor das vendas for superior a R$ 10.000, a comissão será\n",
        "de 8%, caso contrário será 5%.\n",
        "'''\n",
        "def calcular_comissao(valor_vendas):\n",
        "    if valor_vendas > 10000:\n",
        "        comissao = valor_vendas * 0.08\n",
        "    else:\n",
        "        comissao = valor_vendas * 0.05\n",
        "    return comissao\n",
        "\n",
        "valor_vendas = float(input(\"Digite o valor das vendas: R$\").strip())\n",
        "comissao = calcular_comissao(valor_vendas)\n",
        "print(f'O Valor da comissão é: R${comissao:.2f}')"
      ],
      "metadata": {
        "colab": {
          "base_uri": "https://localhost:8080/"
        },
        "id": "F9ocPFi3Hvw5",
        "outputId": "e0973952-1f57-426b-855a-6768c86b83fa"
      },
      "execution_count": null,
      "outputs": [
        {
          "output_type": "stream",
          "name": "stdout",
          "text": [
            "Digite o valor das vendas: R$10500\n",
            "O Valor da comissão é: R$840.00\n"
          ]
        }
      ]
    },
    {
      "cell_type": "code",
      "source": [
        "'''\n",
        "Atividade 12\n",
        "\n",
        "Crie uma função chamada converter_temperatura que receba uma\n",
        "temperatura e o tipo de conversão desejada (Celsius para\n",
        "Fahrenheit, Celsius para Kelvin, Fahrenheit para Celsius, etc.).\n",
        "Use um parâmetro adicional para determinar a conversão.\n",
        "'''\n",
        "def converter_temperatura(temperatura, tipo_conversao):\n",
        "    if tipo_conversao == 1:\n",
        "        return (temperatura * 9/5) + 32\n",
        "    elif tipo_conversao == 2:\n",
        "        return temperatura + 273.15\n",
        "    elif tipo_conversao == 3:\n",
        "        return (temperatura - 32) * 5/9\n",
        "    elif tipo_conversao == 4:\n",
        "        return (temperatura - 32) * 5/9 + 273.15\n",
        "    elif tipo_conversao == 5:\n",
        "        return temperatura - 273.15\n",
        "    elif tipo_conversao == 6:\n",
        "        return (temperatura - 273.15) * 9/5 + 32\n",
        "    else:\n",
        "        return \"Tipo de conversão inválido!\"\n",
        "\n",
        "def exibir_menu():\n",
        "    print(\"Escolha o tipo de conversão de temperatura:\")\n",
        "    print(\"1. Celsius para Fahrenheit\")\n",
        "    print(\"2. Celsius para Kelvin\")\n",
        "    print(\"3. Fahrenheit para Celsius\")\n",
        "    print(\"4. Fahrenheit para Kelvin\")\n",
        "    print(\"5. Kelvin para Celsius\")\n",
        "    print(\"6. Kelvin para Fahrenheit\")\n",
        "    opcao = int(input(\"Digite o número da opção desejada: \"))\n",
        "    return opcao\n",
        "\n",
        "temperatura = float(input(\"Digite a temperatura: \").strip('º'))\n",
        "tipo_conversao = exibir_menu()\n",
        "resultado = converter_temperatura(temperatura, tipo_conversao)\n",
        "print(f\"O resultado da conversão é: {resultado:.2f}\")\n"
      ],
      "metadata": {
        "colab": {
          "base_uri": "https://localhost:8080/"
        },
        "id": "_KJh4dsWIEo7",
        "outputId": "c413cba6-ba97-428b-bfed-f7f128702d29"
      },
      "execution_count": null,
      "outputs": [
        {
          "output_type": "stream",
          "name": "stdout",
          "text": [
            "Digite a temperatura: 30\n",
            "Escolha o tipo de conversão de temperatura:\n",
            "1. Celsius para Fahrenheit\n",
            "2. Celsius para Kelvin\n",
            "3. Fahrenheit para Celsius\n",
            "4. Fahrenheit para Kelvin\n",
            "5. Kelvin para Celsius\n",
            "6. Kelvin para Fahrenheit\n",
            "Digite o número da opção desejada: 2\n",
            "O resultado da conversão é: 303.15\n"
          ]
        }
      ]
    },
    {
      "cell_type": "code",
      "source": [
        "#Codigo feito pelo professor\n",
        "def converter_temperatura(temperatura,opcao):\n",
        "  if opcao == 1:\n",
        "    return (temperatura * 9/5) + 32\n",
        "  elif opcao == 2:\n",
        "    return (temperatura + 273.15)\n",
        "  elif opcao == 3:\n",
        "    return (temperatura - 32) * 5/9\n",
        "  elif opcao == 4:\n",
        "    return (temperatura - 32) * 5/9 + 273.15\n",
        "  else:\n",
        "    return \"Opção inválida\"\n",
        "\n",
        "while True:\n",
        "  print(\"1 - Celsius para Fahrenheit\")\n",
        "  print(\"2 - Celsius para Kelvin\")\n",
        "  print(\"3 - Fahrenheit para Celsius\")\n",
        "  print(\"4 - Fahrenheit para Kelvin\")\n",
        "  print(\"5 - Sair\")\n",
        "\n",
        "  opcao = int(input(\"Escolha uma opção (1 - 5): \"))\n",
        "\n",
        "  if opcao == 5:\n",
        "    print(\"Saindo...\")\n",
        "    break\n",
        "\n",
        "  temperatura = float(input(\"Digite a temperatura: \"))\n",
        "\n",
        "  resultado = converter_temperatura(temperatura, opcao)\n",
        "\n",
        "  print(f'Resultado da conversão: {resultado}')\n"
      ],
      "metadata": {
        "colab": {
          "base_uri": "https://localhost:8080/"
        },
        "id": "BK_ztloMUN28",
        "outputId": "e0cd763e-4c4c-401c-e160-abf9c81ed271"
      },
      "execution_count": null,
      "outputs": [
        {
          "output_type": "stream",
          "name": "stdout",
          "text": [
            "1 - Celsius para Fahrenheit\n",
            "2 - Celsius para Kelvin\n",
            "3 - Fahrenheit para Celsius\n",
            "4 - Fahrenheit para Kelvin\n",
            "5 - Sair\n",
            "Escolha uma opção (1 - 5): 1\n",
            "Digite a temperatura: 25\n",
            "Resultado da conversão: 77.0\n",
            "1 - Celsius para Fahrenheit\n",
            "2 - Celsius para Kelvin\n",
            "3 - Fahrenheit para Celsius\n",
            "4 - Fahrenheit para Kelvin\n",
            "5 - Sair\n",
            "Escolha uma opção (1 - 5): 5\n",
            "Saindo...\n"
          ]
        }
      ]
    },
    {
      "cell_type": "code",
      "source": [
        "'''\n",
        "Atividade 13\n",
        "\n",
        "Crie uma função chamada calcular_media_ponderada que receba três\n",
        "notas e seus respectivos pesos. A função deve retornar a média\n",
        "ponderada.\n",
        "'''\n",
        "def calcular_media_ponderada(nota1, nota2, nota3, peso1, peso2, peso3):\n",
        "    media_ponderada = (nota1 * peso1 + nota2 * peso2 + nota3 * peso3) / (peso1 + peso2 + peso3) #calcula o somatório dos produtos dos valores pelos pesos, depois divide pela soma dos pesos para obter a média ponderada.\n",
        "    return media_ponderada\n",
        "\n",
        "n1 = float(input(\"Digite a primeira nota: \").strip())\n",
        "n2 = float(input(\"Digite a segunda nota: \").strip())\n",
        "n3 = float(input(\"Digite a terceira nota: \").strip())\n",
        "p1 = float(input(\"Digite o peso da primeira nota: \").strip())\n",
        "p2 = float(input(\"Digite o peso da segunda nota: \").strip())\n",
        "p3 = float(input(\"Digite o peso da terceira nota: \").strip())\n",
        "media = calcular_media_ponderada(n1, n2, n3, p1, p2, p3)\n",
        "print(f'A média ponderada é: {media:.2f}')"
      ],
      "metadata": {
        "colab": {
          "base_uri": "https://localhost:8080/"
        },
        "id": "EIAn9NA0IdTm",
        "outputId": "20235ea0-27e0-4bf9-c4a8-61495fa81c3d"
      },
      "execution_count": null,
      "outputs": [
        {
          "output_type": "stream",
          "name": "stdout",
          "text": [
            "Digite a primeira nota: 7\n",
            "Digite a segunda nota: 5\n",
            "Digite a terceira nota: 6\n",
            "Digite o peso da primeira nota: 1\n",
            "Digite o peso da segunda nota: 2\n",
            "Digite o peso da terceira nota: 1\n",
            "A média ponderada é: 5.75\n"
          ]
        }
      ]
    },
    {
      "cell_type": "code",
      "source": [
        "'''\n",
        "Atividade 14\n",
        "\n",
        "Crie uma função chamada contar_caracteres que receba um texto e\n",
        "uma lista de caracteres. A função deve contar quantas vezes cada\n",
        "um dos caracteres aparece no texto.\n",
        "'''\n",
        "def contar_caracteres(texto, caracteres):\n",
        "    contagem = {} #Dicionario vazio\n",
        "    for caracter in caracteres:\n",
        "      #conta quantas vezes o caracter aparece na string\n",
        "      #armazena a contagem no dicionario contagem\n",
        "      #associa o ocaracter a sua devida contagem\n",
        "        contagem[caracter] = texto.count(caracter)\n",
        "    return contagem\n",
        "\n",
        "texto = input(\"Digite um texto: \")\n",
        "caracteres = input(\"Digite os caracteres que deseja contar: \")\n",
        "contagem = contar_caracteres(texto.lower(), caracteres.lower())\n",
        "print(\"Contagem dos caracteres:\")\n",
        "for caracter, quantidade in contagem.items():\n",
        "    print(f\"{caracter}: {quantidade}\")"
      ],
      "metadata": {
        "colab": {
          "base_uri": "https://localhost:8080/"
        },
        "id": "duC8QwD-Ix4g",
        "outputId": "568e4fbe-340d-4693-f61e-ad0afef7e50e"
      },
      "execution_count": null,
      "outputs": [
        {
          "output_type": "stream",
          "name": "stdout",
          "text": [
            "Digite um texto: Ola a todo mundo hoje\n",
            "Digite os caracteres que deseja contar: aeiou\n",
            "Contagem dos caracteres:\n",
            "a: 2\n",
            "e: 1\n",
            "i: 0\n",
            "o: 5\n",
            "u: 1\n"
          ]
        }
      ]
    },
    {
      "cell_type": "code",
      "source": [
        "'''\n",
        "Atividade 15\n",
        "\n",
        "Crie uma função chamada verificar_primo que verifique se um\n",
        "número é primo ou não. Um número é primo se for maior que 1 e\n",
        "não puder ser dividido por nenhum outro número, exceto por 1 e\n",
        "ele mesmo.\n",
        "'''\n",
        "def verificar_primo(numero):\n",
        "    if numero <= 1:\n",
        "        return 'Não é Primo'\n",
        "    for i in range(2, numero):\n",
        "        if numero % i == 0:\n",
        "            return 'Não é Primo'\n",
        "    return 'É Primo'\n",
        "\n",
        "numero = int(input(\"Digite um número: \").strip())\n",
        "verifica = verificar_primo(numero)\n",
        "print(f'O número {numero} : {verifica}')"
      ],
      "metadata": {
        "colab": {
          "base_uri": "https://localhost:8080/"
        },
        "id": "IEOITJacJbvk",
        "outputId": "00325bc8-0f6b-4f12-9bc7-f7488993f9d0"
      },
      "execution_count": null,
      "outputs": [
        {
          "output_type": "stream",
          "name": "stdout",
          "text": [
            "Digite um número: 5\n",
            "O número 5 : É Primo\n"
          ]
        }
      ]
    },
    {
      "cell_type": "code",
      "source": [
        "'''\n",
        "Atividade 16\n",
        "\n",
        "Crie uma função chamada calcular_fatorial que calcule o fatorial\n",
        "de um número inteiro (fatorial de n é o produto de todos os\n",
        "números de 1 até n).\n",
        "'''\n",
        "def calcular_fatorial(numero):\n",
        "    fatorial = 1\n",
        "    for i in range(1, numero + 1):\n",
        "        fatorial *= i\n",
        "    return fatorial\n",
        "\n",
        "numero = int(input(\"Digite um número: \").strip())\n",
        "fatorial = calcular_fatorial(numero)\n",
        "print(f'O fatorial é: {fatorial}')"
      ],
      "metadata": {
        "colab": {
          "base_uri": "https://localhost:8080/"
        },
        "id": "yv_731y_KLPJ",
        "outputId": "8d5bda9c-bfd4-4a69-d4cf-3623bb78a223"
      },
      "execution_count": null,
      "outputs": [
        {
          "output_type": "stream",
          "name": "stdout",
          "text": [
            "Digite um número: 3\n",
            "O fatorial é: 6\n"
          ]
        }
      ]
    },
    {
      "cell_type": "code",
      "source": [
        "'''\n",
        "Atividade 17\n",
        "\n",
        "Crie uma função chamada media_notas que receba um dicionário com\n",
        "os nomes dos alunos e suas respectivas notas em uma lista. A\n",
        "função deve calcular a média das notas de cada aluno e retornar\n",
        "um novo dicionário com o nome do aluno e sua média.\n",
        "\n",
        "alunos = {\"João\": [7, 8, 9], \"Maria\": [10, 9, 8], \"Carlos\": [6, 5, 7]}\n",
        "'''\n",
        "alunos = {\"João\": [7, 8, 9], \"Maria\": [10, 9, 8], \"Carlos\": [6, 5, 7]}\n",
        "def media_notas(alunos):\n",
        "    medias = {}\n",
        "    for nome, notas in alunos.items():\n",
        "        media = sum(notas) / len(notas)\n",
        "        medias[nome] = media\n",
        "    return medias\n",
        "\n",
        "medias = media_notas(alunos)\n",
        "\n",
        "for nome, media in medias.items():\n",
        "    print(f'O aluno {nome} teve a média: {media}')\n",
        "\n"
      ],
      "metadata": {
        "colab": {
          "base_uri": "https://localhost:8080/"
        },
        "id": "I2w83WBqKgF7",
        "outputId": "01fbcf0e-4ae2-4983-977c-836cc8c9a068"
      },
      "execution_count": null,
      "outputs": [
        {
          "output_type": "stream",
          "name": "stdout",
          "text": [
            "O aluno João teve a média: 8.0\n",
            "O aluno Maria teve a média: 9.0\n",
            "O aluno Carlos teve a média: 6.0\n"
          ]
        }
      ]
    },
    {
      "cell_type": "code",
      "source": [
        "'''\n",
        "Atividade 18\n",
        "\n",
        "Crie uma função chamada tabela_multiplicacao que receba um\n",
        "número e retorne uma função que, quando chamada, mostre a tabela\n",
        "de multiplicação desse número (de 1 a 10).\n",
        "'''\n",
        "def tabela_multiplicacao(numero):\n",
        "    def mostrar_tabela():\n",
        "        for i in range(1, 11):\n",
        "            print(f'{numero} x {i} = {numero * i}')\n",
        "    return mostrar_tabela\n",
        "\n",
        "numero = int(input(\"Digite um número: \").strip())\n",
        "tabela = tabela_multiplicacao(numero)\n",
        "tabela()"
      ],
      "metadata": {
        "colab": {
          "base_uri": "https://localhost:8080/"
        },
        "id": "pY4h3HlBK8fO",
        "outputId": "e0d7064f-7bc0-431d-ac4d-31884bd40c48"
      },
      "execution_count": null,
      "outputs": [
        {
          "output_type": "stream",
          "name": "stdout",
          "text": [
            "Digite um número: 2\n",
            "2 x 1 = 2\n",
            "2 x 2 = 4\n",
            "2 x 3 = 6\n",
            "2 x 4 = 8\n",
            "2 x 5 = 10\n",
            "2 x 6 = 12\n",
            "2 x 7 = 14\n",
            "2 x 8 = 16\n",
            "2 x 9 = 18\n",
            "2 x 10 = 20\n"
          ]
        }
      ]
    },
    {
      "cell_type": "code",
      "source": [
        "def tabela_multiplicacao(numero):\n",
        "    for i in range(1, 11):\n",
        "      print(f'{numero} x {i} = {numero * i}')\n",
        "    return\n",
        "\n",
        "numero = int(input(\"Digite um número: \").strip())\n",
        "tabela_multiplicacao(numero)\n"
      ],
      "metadata": {
        "colab": {
          "base_uri": "https://localhost:8080/"
        },
        "id": "WG1qjCW7ss_-",
        "outputId": "151f9b0c-e967-4f98-c399-5ff53b8afb49"
      },
      "execution_count": null,
      "outputs": [
        {
          "output_type": "stream",
          "name": "stdout",
          "text": [
            "Digite um número: 2\n",
            "2 x 1 = 2\n",
            "2 x 2 = 4\n",
            "2 x 3 = 6\n",
            "2 x 4 = 8\n",
            "2 x 5 = 10\n",
            "2 x 6 = 12\n",
            "2 x 7 = 14\n",
            "2 x 8 = 16\n",
            "2 x 9 = 18\n",
            "2 x 10 = 20\n"
          ]
        }
      ]
    },
    {
      "cell_type": "code",
      "source": [
        "'''\n",
        "Atividade 19\n",
        "\n",
        "Crie uma função chamada reverter_palavras que receba uma frase\n",
        "e retorne a mesma frase com as palavras em ordem invertida.\n",
        "A função não deve usar métodos prontos como split() ou join().\n",
        "'''\n",
        "def reverter_palavras(frase):\n",
        "    palavras = frase.split()\n",
        "    palavras_invertidas = []\n",
        "    for i in range(len(palavras) - 1, -1, -1):\n",
        "        palavras_invertidas.append(palavras[i])\n",
        "        frase_invertida = ' '.join(palavras_invertidas)\n",
        "    return frase_invertida\n",
        "\n",
        "frase = input(\"Digite uma frase: \")\n",
        "frase_invertida = reverter_palavras(frase)\n",
        "print(f'A frase invertida é: {frase_invertida}')"
      ],
      "metadata": {
        "colab": {
          "base_uri": "https://localhost:8080/"
        },
        "id": "Ka_oeQD_Mz0Z",
        "outputId": "950d02be-aaf0-44e2-e45c-1e613eed559b"
      },
      "execution_count": null,
      "outputs": [
        {
          "output_type": "stream",
          "name": "stdout",
          "text": [
            "Digite uma frase: Ola mudo hoje\n",
            "A frase invertida é: hoje mudo Ola\n"
          ]
        }
      ]
    },
    {
      "cell_type": "code",
      "source": [
        "'''\n",
        "Atividade 20\n",
        "\n",
        "Crie uma função chamada numero_espelho que receba dois números\n",
        "inteiros positivos e verifique se o segundo número é o \"espelho\"\n",
        "do primeiro. Um número é espelho do outro se os dígitos de um\n",
        "estão na ordem inversa do outro.\n",
        "'''\n",
        "def numero_espelho(numero1, numero2):\n",
        "    numero1_str = str(numero1)\n",
        "    numero2_str = str(numero2)\n",
        "    if numero2_str[::-1] == numero1_str:\n",
        "        return 'É um número espelho'\n",
        "    else:\n",
        "        return 'Não é um número espelho'\n",
        "\n",
        "numero1 = int(input(\"Digite o primeiro número: \").strip())\n",
        "numero2 = int(input(\"Digite o segundo número: \").strip())\n",
        "verifica = numero_espelho(numero1, numero2)\n",
        "print(f'O número é: {verifica}')\n"
      ],
      "metadata": {
        "colab": {
          "base_uri": "https://localhost:8080/"
        },
        "id": "KS5nVXFtNnKf",
        "outputId": "7759526a-5893-4c49-9720-c6d3537e9d1c"
      },
      "execution_count": null,
      "outputs": [
        {
          "output_type": "stream",
          "name": "stdout",
          "text": [
            "Digite o primeiro número: 14\n",
            "Digite o segundo número: 14\n",
            "O número é: Não é um número espelho\n"
          ]
        }
      ]
    }
  ]
}