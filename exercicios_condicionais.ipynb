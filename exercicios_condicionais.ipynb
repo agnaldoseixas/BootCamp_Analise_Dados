{
  "nbformat": 4,
  "nbformat_minor": 0,
  "metadata": {
    "colab": {
      "provenance": [],
      "include_colab_link": true
    },
    "kernelspec": {
      "name": "python3",
      "display_name": "Python 3"
    },
    "language_info": {
      "name": "python"
    }
  },
  "cells": [
    {
      "cell_type": "markdown",
      "metadata": {
        "id": "view-in-github",
        "colab_type": "text"
      },
      "source": [
        "<a href=\"https://colab.research.google.com/github/agnaldoseixas/BootCamp_Analise_Dados/blob/main/exercicios_condicionais.ipynb\" target=\"_parent\"><img src=\"https://colab.research.google.com/assets/colab-badge.svg\" alt=\"Open In Colab\"/></a>"
      ]
    },
    {
      "cell_type": "code",
      "execution_count": null,
      "metadata": {
        "colab": {
          "base_uri": "https://localhost:8080/"
        },
        "id": "1X4cKT5E3Jwo",
        "outputId": "81cdc7ea-eabf-466b-8d8c-3b80af58dc04"
      },
      "outputs": [
        {
          "output_type": "stream",
          "name": "stdout",
          "text": [
            "Digite sua idade: 17\n",
            "Você não pode tirar carteira de motorista\n"
          ]
        }
      ],
      "source": [
        "'''\n",
        "1. Verificação de idade para habilitação\n",
        "\n",
        "Escreva um programa que pergunte a idade de uma pessoa e informe se\n",
        "ela pode ou não tirar carteira de motorista (idade mínima: 18 anos).\n",
        "'''\n",
        "idade = int(input(\"Digite sua idade: \"))\n",
        "if idade >= 18:\n",
        "    print(\"Você pode tirar carteira de motorista\")\n",
        "else:\n",
        "    print(\"Você não pode tirar carteira de motorista\")"
      ]
    },
    {
      "cell_type": "code",
      "source": [
        "'''\n",
        "2. Verificar se uma loja dá desconto\n",
        "\n",
        "Pergunte o valor total da compra e verifique se ela é maior que\n",
        "R$100. Se for, aplique 10% de desconto e mostre o valor final.\n",
        "Caso contrário, informe que não há desconto.\n",
        "'''\n",
        "\n",
        "valor_compra = float(input(\"Digite o valor total da compra: \"))\n",
        "if valor_compra > 100:\n",
        "    valor_desconto = valor_compra * 0.1 # valor_compra * 10/100\n",
        "    valor_final = valor_compra - valor_desconto\n",
        "    print(f'Você recebeu um desconto de R$ {valor_desconto:.2f}. O valor final da sua compra foi de R$ {valor_final:.2f}')\n",
        "else:\n",
        "    print(f'Sem desconto. Valor final de R$ {valor_compra:.2f}')"
      ],
      "metadata": {
        "colab": {
          "base_uri": "https://localhost:8080/"
        },
        "id": "cFCwvYmU3e9w",
        "outputId": "2e8e4451-5a61-475e-a881-a545babfd46e"
      },
      "execution_count": null,
      "outputs": [
        {
          "output_type": "stream",
          "name": "stdout",
          "text": [
            "Digite o valor total da compra: 110\n",
            "Você recebeu um desconto de R$ 11.00. O valor final da sua compra foi de R$ 99.00\n"
          ]
        }
      ]
    },
    {
      "cell_type": "code",
      "source": [
        "'''\n",
        "3. Descobrir se um número é par ou ímpar\n",
        "\n",
        "Pergunte um número ao usuário e informe se ele é par ou ímpar.\n",
        "\n",
        "Toda divisão de numero par por 2 tem como resto 0.\n",
        "Toda divisão de numero ímpar por 2 tem como resto 1.\n",
        "'''\n",
        "numero = int(input(\"Digite um número: \"))\n",
        "if numero % 2 == 0:\n",
        "    print(f\"O número {numero} é par\")\n",
        "else:\n",
        "    print(f\"O número {numero} é ímpar\")"
      ],
      "metadata": {
        "colab": {
          "base_uri": "https://localhost:8080/"
        },
        "id": "QcEg8Hec300S",
        "outputId": "dddee1e1-c565-4ff5-bc96-010608b3d027"
      },
      "execution_count": null,
      "outputs": [
        {
          "output_type": "stream",
          "name": "stdout",
          "text": [
            "Digite um número: 3\n",
            "O número 3 é ímpar\n"
          ]
        }
      ]
    },
    {
      "cell_type": "code",
      "source": [
        "'''\n",
        "4. Verificar categoria de um atleta\n",
        "\n",
        "Pergunte a idade de um atleta e classifique-o nas categorias: Infantil\n",
        "(até 12 anos), Juvenil (13 a 17 anos) ou Adulto (18 anos ou mais).\n",
        "'''\n",
        "\n",
        "idade = int(input(\"Digite a idade do atleta: \"))\n",
        "if idade <= 12:\n",
        "    print(\"Categoria Infantil\")\n",
        "elif 13 <= idade <= 17:\n",
        "    print(\"Categoria Juvenil\")\n",
        "else:\n",
        "    print(\"Categoria Adulto\")"
      ],
      "metadata": {
        "colab": {
          "base_uri": "https://localhost:8080/"
        },
        "id": "IgZhqka83_gj",
        "outputId": "dd500bfd-781b-4c06-db36-07311fd6d25d"
      },
      "execution_count": null,
      "outputs": [
        {
          "output_type": "stream",
          "name": "stdout",
          "text": [
            "Digite a idade do atleta: 18\n",
            "Categoria Adulto\n"
          ]
        }
      ]
    },
    {
      "cell_type": "code",
      "source": [
        "'''\n",
        "5. Classificação de temperatura\n",
        "\n",
        "Pergunte a temperatura em graus Celsius e classifique:\n",
        "\n",
        "Menor que 15°C: Frio\n",
        "Entre 15°C e 25°C: Agradável\n",
        "Maior que 25°C: Quente\n",
        "'''\n",
        "temperatura = float(input(\"Digite a temperatura em graus Celsius: \"))\n",
        "if temperatura < 15:\n",
        "    print(f\"{temperatura}°C, está Frio\")\n",
        "elif temperatura >= 15 and temperatura <= 25:\n",
        "    print(f\"{temperatura}°C, está Agradável\")\n",
        "else:\n",
        "    print(f\"{temperatura}°C, está Quente\")"
      ],
      "metadata": {
        "colab": {
          "base_uri": "https://localhost:8080/"
        },
        "id": "9OY0w6d742Bw",
        "outputId": "0db78148-e62a-4ad7-cd75-ec58ff4cbba6"
      },
      "execution_count": null,
      "outputs": [
        {
          "output_type": "stream",
          "name": "stdout",
          "text": [
            "Digite a temperatura em graus Celsius: 27\n",
            "27.0°C, está Quente\n"
          ]
        }
      ]
    },
    {
      "cell_type": "code",
      "source": [
        "'''\n",
        "6. Calcular preço do transporte\n",
        "\n",
        "Pergunte a distância da viagem e calcule o preço do transporte:\n",
        "\n",
        "Até 100 km: R$0,50 por km.\n",
        "Acima de 100 km: R$0,35 por km.\n",
        "'''\n",
        "\n",
        "distancia = float(input(\"Digite a distância da viagem em km: \"))\n",
        "if distancia <= 100:\n",
        "    preco = distancia * 0.5\n",
        "else:\n",
        "    preco = distancia * 0.35\n",
        "\n",
        "print(f\"O preço da viagem é de R$ {preco:.2f}\")\n"
      ],
      "metadata": {
        "colab": {
          "base_uri": "https://localhost:8080/"
        },
        "id": "RJc3wFvM5Is6",
        "outputId": "59dafbff-0b8a-4c56-b098-7be1eec58bf0"
      },
      "execution_count": null,
      "outputs": [
        {
          "output_type": "stream",
          "name": "stdout",
          "text": [
            "Digite a distância da viagem em km: 50\n",
            "O preço da viagem é de R$ 25.00\n"
          ]
        }
      ]
    },
    {
      "cell_type": "code",
      "source": [
        "'''\n",
        "7 - Validação de horário de funcionamento\n",
        "\n",
        "Escreva um programa que pergunte a hora atual (em formato 24h) e informe se um estabelecimento está aberto.\n",
        "\n",
        "Horário de funcionamento: das 8h às 18h.\n",
        "'''\n",
        "\n",
        "hora = int(input(\"Digite a hora atual (em formato 24h): \"))\n",
        "if 8 <= hora <= 18:\n",
        "    print(\"O estabelecimento está aberto\")\n",
        "else:\n",
        "    print(\"O estabelecimento está fechado\")"
      ],
      "metadata": {
        "colab": {
          "base_uri": "https://localhost:8080/"
        },
        "id": "cFl0tol466fs",
        "outputId": "29a8d471-26ac-40a7-88cf-fea8f1e0f364"
      },
      "execution_count": null,
      "outputs": [
        {
          "output_type": "stream",
          "name": "stdout",
          "text": [
            "Digite a hora atual (em formato 24h): 20\n",
            "O estabelecimento está fechado\n"
          ]
        }
      ]
    },
    {
      "cell_type": "code",
      "source": [
        "'''\n",
        "8 - Determinar o tipo de triângulo\n",
        "\n",
        "Peça ao usuário para digitar os comprimentos de três lados e\n",
        "determine se eles formam um triângulo equilátero, isósceles ou escaleno.\n",
        "'''\n",
        "\n",
        "print(\"Digite os comprimentos dos lados do triângulo\")\n",
        "lado1 = float(input(\"Lado 1: \"))\n",
        "lado2 = float(input(\"Lado 2: \"))\n",
        "lado3 = float(input(\"Lado 3: \"))\n",
        "\n",
        "if lado1 == lado2 == lado3:\n",
        "    print(\"Triângulo Equilátero\")\n",
        "elif lado1 == lado2 or lado1 == lado3 or lado2 == lado3:\n",
        "    print(\"Triângulo Isósceles\")\n",
        "else:\n",
        "    print(\"Triângulo Escaleno\")"
      ],
      "metadata": {
        "colab": {
          "base_uri": "https://localhost:8080/"
        },
        "id": "XIuw90FtcI5Y",
        "outputId": "687d69bc-ca25-488f-bc10-d279e48c7125"
      },
      "execution_count": null,
      "outputs": [
        {
          "output_type": "stream",
          "name": "stdout",
          "text": [
            "Digite os comprimentos dos lados do triângulo\n",
            "Lado 1: 10\n",
            "Lado 2: 11\n",
            "Lado 3: 10\n",
            "Triângulo Isósceles\n"
          ]
        }
      ]
    },
    {
      "cell_type": "code",
      "source": [
        "'''\n",
        "9 - Verificar dias de multa na devolução de um livro\n",
        "\n",
        "Pergunte ao usuário a data de devolução e a data prevista (em dias) e informe:\n",
        "\n",
        "Se devolvido antes ou na data: \"Devolução sem multa\".\n",
        "Se devolvido após a data, calcule a multa de R$2,00 por dia de atraso.\n",
        "'''\n",
        "data_devolucao = int(input(\"Digite a data de devolução em dias: \"))\n",
        "data_prevista = int(input(\"Digite a data prevista em dias: \"))\n",
        "\n",
        "if data_devolucao <= data_prevista:\n",
        "    print(\"Devolução sem multa\")\n",
        "else:\n",
        "    dias_atraso = data_devolucao - data_prevista\n",
        "    multa = dias_atraso * 2\n",
        "    print(f\"Devolução com multa de R$ {multa:.2f}\")\n",
        "\n"
      ],
      "metadata": {
        "id": "g6LJSk1r7q4Y",
        "colab": {
          "base_uri": "https://localhost:8080/"
        },
        "outputId": "e763f9ba-7323-415c-bf52-87939950185f"
      },
      "execution_count": null,
      "outputs": [
        {
          "output_type": "stream",
          "name": "stdout",
          "text": [
            "Digite a data de devolução em dias: 15\n",
            "Digite a data prevista em dias: 10\n",
            "Devolução com multa de R$ 10.00\n"
          ]
        }
      ]
    },
    {
      "cell_type": "code",
      "source": [
        "from datetime import datetime\n",
        "prevista = input(\"Digite a data prevista (dd/mm/aaaa): \")\n",
        "devolucao = input(\"Digite a data de devolução (dd/mm/aaaa): \")\n",
        "prevista = datetime.strptime(prevista, \"%d/%m/%Y\").date()\n",
        "devolucao = datetime.strptime(devolucao, \"%d/%m/%Y\").date()\n",
        "if devolucao <= prevista:\n",
        "    print(\"Devolução sem multa\")\n",
        "else:\n",
        "    dias_atraso = (devolucao - prevista).days\n",
        "    multa = dias_atraso * 2\n",
        "    print(f\"Devolução com multa de R$ {multa:.2f} e com {dias_atraso} dias de atraso\")"
      ],
      "metadata": {
        "colab": {
          "base_uri": "https://localhost:8080/"
        },
        "id": "PUywNxDS4mUN",
        "outputId": "40e9b124-3c8a-4158-9f10-34963dd24f1d"
      },
      "execution_count": null,
      "outputs": [
        {
          "output_type": "stream",
          "name": "stdout",
          "text": [
            "Digite a data prevista (dd/mm/aaaa): 18/03/2025\n",
            "Digite a data de devolução (dd/mm/aaaa): 21/03/2025\n",
            "Devolução com multa de R$ 6.00 e com 3 dias de atraso\n"
          ]
        }
      ]
    },
    {
      "cell_type": "code",
      "source": [
        "'''\n",
        "10 - Avaliação de desempenho escolar\n",
        "\n",
        "Peça três notas de um aluno e calcule a média. Depois, informe:\n",
        "\n",
        "Média >= 7: \"Aprovado\".\n",
        "Média entre 5 e 7: \"Recuperação\".\n",
        "Média < 5: \"Reprovado\".\n",
        "'''\n",
        "nota1 = float(input(\"Digite a primeira nota: \"))\n",
        "nota2 = float(input(\"Digite a segunda nota: \"))\n",
        "nota3 = float(input(\"Digite a terceira nota: \"))\n",
        "\n",
        "media = (nota1 + nota2 + nota3) / 3\n",
        "\n",
        "if media >= 7:\n",
        "    print(f\"Aluno Aprovado com média: {media:.2f}\")\n",
        "elif 5 <= media < 7:\n",
        "    print(f\"Aluno em Recuperação com média: {media:.2f}\")\n",
        "else:\n",
        "    print(f\"Aluno Reprovado com média: {media:.2f}\")"
      ],
      "metadata": {
        "colab": {
          "base_uri": "https://localhost:8080/"
        },
        "id": "tB4OGkBsgwOw",
        "outputId": "cc4dbdff-4a7a-4fb6-e1d7-70e1890fc0bd"
      },
      "execution_count": null,
      "outputs": [
        {
          "output_type": "stream",
          "name": "stdout",
          "text": [
            "Digite a primeira nota: 4\n",
            "Digite a segunda nota: 3\n",
            "Digite a terceira nota: 5\n",
            "Aluno Reprovado com média: 4.00\n"
          ]
        }
      ]
    },
    {
      "cell_type": "code",
      "source": [
        "'''\n",
        "11 - Cálculo de taxa de estacionamento\n",
        "\n",
        "Pergunte o tempo de permanência (em horas) e calcule a taxa:\n",
        "\n",
        "Até 2 horas: R$5,00 fixo.\n",
        "De 3 a 6 horas: R$8,00 fixo.\n",
        "Acima de 6 horas: R$12,00 fixo.\n",
        "'''\n",
        "tempo = float(input(\"Digite o tempo de permanência (em horas): \"))\n",
        "if tempo <= 2:\n",
        "    taxa = 5.00\n",
        "elif 3 <= tempo <= 6:\n",
        "    taxa = 8.00\n",
        "else:\n",
        "    taxa = 12.00\n",
        "print(f'O valor a ser pago é de: R${taxa:.2f}')"
      ],
      "metadata": {
        "colab": {
          "base_uri": "https://localhost:8080/"
        },
        "id": "Puko6JwS8Wz0",
        "outputId": "42b5dfa3-241f-4d6d-9660-d83d16e0efc7"
      },
      "execution_count": null,
      "outputs": [
        {
          "output_type": "stream",
          "name": "stdout",
          "text": [
            "Digite o tempo de permanência (em horas): 3\n",
            "O valor a ser pago é de: R$8.00\n"
          ]
        }
      ]
    },
    {
      "cell_type": "code",
      "source": [
        "'''\n",
        "12 - Pergunte o consumo em kWh e calcule o valor da conta:\n",
        "\n",
        "Até 100 kWh: R$0,50 por kWh.\n",
        "De 101 a 200 kWh: R$0,70 por kWh.\n",
        "Acima de 200 kWh: R$1,00 por kWh.\n",
        "'''\n",
        "consumo = float(input(\"Digite o consumo em kWh: \"))\n",
        "if consumo <= 100:\n",
        "    valor = consumo * 0.5\n",
        "elif 101 <= consumo <= 200:\n",
        "    valor = consumo * 0.7\n",
        "else:\n",
        "    valor = consumo * 1.0\n",
        "\n",
        "print(f'O valor a ser pago é de: R${valor:.2f}')"
      ],
      "metadata": {
        "colab": {
          "base_uri": "https://localhost:8080/"
        },
        "id": "HWqAOGNo8pN2",
        "outputId": "4ca2e303-5061-4eee-bd9e-640df5ff9ff3"
      },
      "execution_count": null,
      "outputs": [
        {
          "output_type": "stream",
          "name": "stdout",
          "text": [
            "Digite o consumo em kWh: 210\n",
            "O valor a ser pago é de: R$210.00\n"
          ]
        }
      ]
    },
    {
      "cell_type": "code",
      "source": [
        "'''\n",
        "13 - Verificação de maioridade\n",
        "\n",
        "Pergunte a idade de uma pessoa e informe se ela é menor de idade, maior de idade ou idosa.\n",
        "\n",
        "Menor de 18 anos: \"Menor de idade\".\n",
        "Entre 18 e 59 anos: \"Maior de idade\".\n",
        "A partir de 60 anos: \"Idoso\".\n",
        "'''\n",
        "idade = int(input(\"Digite a idade: \"))\n",
        "if idade < 18:\n",
        "    print(\"Menor de idade\")\n",
        "elif 18 <= idade <= 59:\n",
        "    print(\"Maior de idade\")\n",
        "else:\n",
        "    print(\"Idoso\")"
      ],
      "metadata": {
        "colab": {
          "base_uri": "https://localhost:8080/"
        },
        "id": "t5J_xE_H9vfl",
        "outputId": "6732ac96-6a9d-48c9-cb0f-dfbacb935b40"
      },
      "execution_count": null,
      "outputs": [
        {
          "output_type": "stream",
          "name": "stdout",
          "text": [
            "Digite a idade: 60\n",
            "Idoso\n"
          ]
        }
      ]
    },
    {
      "cell_type": "code",
      "source": [
        "'''\n",
        "14 - Avaliação de estoque\n",
        "\n",
        "Peça ao usuário o número de unidades de um produto no estoque e informe:\n",
        "\n",
        "Estoque menor que 10: \"Reposição urgente necessária\".\n",
        "Estoque entre 10 e 20: \"Estoque baixo, considere repor\".\n",
        "Estoque maior que 20: \"Estoque suficiente\".\n",
        "'''\n",
        "\n",
        "qtd_produto = int(input(\"Digite o número de unidades do produto no estoque: \"))\n",
        "\n",
        "if qtd_produto < 10:\n",
        "    print(f\"{qtd_produto} peças - Reposição urgente necessária\")\n",
        "elif 10 <= qtd_produto <= 20:\n",
        "    print(f\"{qtd_produto} peças - Estoque baixo, considere repor\")\n",
        "else:\n",
        "    print(f\"{qtd_produto} peças - Estoque suficiente\")"
      ],
      "metadata": {
        "id": "wSLhJYX79__V",
        "colab": {
          "base_uri": "https://localhost:8080/"
        },
        "outputId": "b1d30833-1741-414e-b3f1-257d758b686b"
      },
      "execution_count": null,
      "outputs": [
        {
          "output_type": "stream",
          "name": "stdout",
          "text": [
            "Digite o número de unidades do produto no estoque: 3\n",
            "3 peças - Reposição urgente necessária\n"
          ]
        }
      ]
    },
    {
      "cell_type": "code",
      "source": [
        "'''\n",
        "15 - Verificação de elegibilidade para doação de sangue\n",
        "\n",
        "Pergunte a idade de uma pessoa e informe se ela pode doar sangue.\n",
        "\n",
        "Idade entre 18 e 69 anos: \"Apto para doar sangue\".\n",
        "Fora dessa faixa: \"Não apto para doar sangue\".\n",
        "'''\n",
        "idade = int(input(\"Digite a sua idade: \"))\n",
        "if 18 <= idade <= 69:\n",
        "    print(f\"{idade} anos - Apto para doar sangue\")\n",
        "else:\n",
        "    print(f\"{idade} anos - Não apto para doar sangue\")"
      ],
      "metadata": {
        "id": "wY5Dfoov-QcP",
        "colab": {
          "base_uri": "https://localhost:8080/"
        },
        "outputId": "6b55afa4-8eab-4805-9f85-68de9616371d"
      },
      "execution_count": null,
      "outputs": [
        {
          "output_type": "stream",
          "name": "stdout",
          "text": [
            "Digite a sua idade: 70\n",
            "70 anos - Não apto para doar sangue\n"
          ]
        }
      ]
    },
    {
      "cell_type": "code",
      "source": [
        "'''\n",
        "16 - Verificação de faixa de velocidade\n",
        "\n",
        "Pergunte a velocidade de um veículo e informe:\n",
        "\n",
        "Até 40 km/h: \"Velocidade segura\".\n",
        "Entre 41 e 80 km/h: \"Velocidade moderada\".\n",
        "Acima de 80 km/h: \"Velocidade perigosa\".\n",
        "'''\n",
        "velocidade = float(input(\"Digite a velocidade do veículo: \"))\n",
        "\n",
        "if velocidade <= 40:\n",
        "    print(f\"{velocidade} km/h - Velocidade segura\")\n",
        "elif 41 <= velocidade <= 80:\n",
        "    print(f\"{velocidade} km/h - Velocidade moderada\")\n",
        "else:\n",
        "    print(f\"{velocidade} km/h - Velocidade perigosa\")"
      ],
      "metadata": {
        "colab": {
          "base_uri": "https://localhost:8080/"
        },
        "id": "_pCfzHGW-ehg",
        "outputId": "3f75477a-a899-4b8b-d344-1e6963fcee3d"
      },
      "execution_count": null,
      "outputs": [
        {
          "output_type": "stream",
          "name": "stdout",
          "text": [
            "Digite a velocidade do veículo: 81\n",
            "81.0 km/h - Velocidade perigosa\n"
          ]
        }
      ]
    },
    {
      "cell_type": "code",
      "source": [
        "'''\n",
        "17. Cálculo do imposto de renda\n",
        "\n",
        "Pergunte o salário de uma pessoa e calcule o imposto de renda:\n",
        "\n",
        "Até R$2.112,00: Isento\n",
        "De R$2.112,01 a R$2.826,65: 7,5% (menos parcela de dedução de R$158,40)\n",
        "De R$2.826,66 a R$3.751,05: 15% (menos parcela de dedução de R$370,40)\n",
        "De R$3.751,06 a R$4.664,68: 22,5% (menos parcela de dedução de R$651,73)\n",
        "Acima de R$4.664,68: 27,5% (menos parcela de dedução de R$884,96)\n",
        "'''\n",
        "salario = float(input(\"Digite o salário: \"))\n",
        "\n",
        "if salario <= 2112.00:\n",
        "  imposto = 0\n",
        "elif 2112.01 <= salario <= 2826.65:\n",
        "  imposto = (salario * 0.075) - 158.40\n",
        "elif 2826.66 <= salario <= 3751.05:\n",
        "  imposto = (salario * 0.15) - 370.40\n",
        "elif 3751.06 <= salario <= 4664.68:\n",
        "  imposto = (salario * 0.225) - 651.73\n",
        "else:\n",
        "  imposto = (salario * 0.275) - 884.96\n",
        "\n",
        "print(f\"O imposto de renda é de R$ {imposto:.2f}\")\n",
        "\n"
      ],
      "metadata": {
        "colab": {
          "base_uri": "https://localhost:8080/"
        },
        "id": "iwwzZrvSceL8",
        "outputId": "b5271bd2-e2d5-4e8a-bd3f-75fd31a1f7f9"
      },
      "execution_count": null,
      "outputs": [
        {
          "output_type": "stream",
          "name": "stdout",
          "text": [
            "Digite o salário: 4000\n",
            "O imposto de renda é de R$ 248.27\n"
          ]
        }
      ]
    },
    {
      "cell_type": "code",
      "source": [
        "'''\n",
        "18 - Cálculo da mensalidade de academia\n",
        "\n",
        "Uma academia tem planos baseados na faixa etária e no horário de treino:\n",
        "\n",
        "Idade até 18 anos:\n",
        "  Horário comum (6h às 18h): R$50/mês.\n",
        "  Horário estendido (18h às 22h): R$60/mês.\n",
        "Idade entre 19 e 59 anos:\n",
        "  Horário comum: R$80/mês.\n",
        "  Horário estendido: R$100/mês.\n",
        "Idade acima de 60 anos:\n",
        "  Horário comum: R$40/mês.\n",
        "  Horário estendido: R$50/mês.\n",
        "'''\n",
        "idade = int(input(\"Digite a sua idade: \"))\n",
        "horario = input(\"Digite o horário de treino (comum ou estendido): \")\n",
        "\n",
        "if idade <= 18:\n",
        "    if horario == \"comum\":\n",
        "        print(f\"Mensalidade: R$50/mês\")\n",
        "    elif horario == \"estendido\":\n",
        "        print(f\"Mensalidade: R$60/mês\")\n",
        "elif 19 <= idade <= 59:\n",
        "    if horario == \"comum\":\n",
        "        print(f\"Mensalidade: R$80/mês\")\n",
        "    elif horario == \"estendido\":\n",
        "        print(f\"Mensalidade: R$100/mês\")\n",
        "else:\n",
        "    if horario == \"comum\":\n",
        "        print(f\"Mensalidade: R$40/mês\")\n",
        "    elif horario == \"estendido\":\n",
        "        print(f\"Mensalidade: R$50/mês\")\n"
      ],
      "metadata": {
        "colab": {
          "base_uri": "https://localhost:8080/"
        },
        "id": "Gn2Try2s_zT3",
        "outputId": "6db658c9-681f-4f28-a9f4-a78de99ea190"
      },
      "execution_count": null,
      "outputs": [
        {
          "output_type": "stream",
          "name": "stdout",
          "text": [
            "Digite a sua idade: 60\n",
            "Digite o horário de treino (comum ou estendido): comum\n",
            "Mensalidade: R$40/mês\n"
          ]
        }
      ]
    },
    {
      "cell_type": "code",
      "source": [
        "'''\n",
        "19 - Sistema de notas escolares com bônus por frequência\n",
        "\n",
        "Um sistema deve calcular a média final de um aluno e incluir um bônus por frequência:\n",
        "\n",
        "Pergunte 3 notas do aluno e sua frequência (%).\n",
        "Regras:\n",
        "  Média >= 7.0 e frequência >= 75%: \"Aprovado\".\n",
        "  Média >= 5.0 e frequência >= 75%: \"Recuperação\".\n",
        "  Média < 5.0 ou frequência < 75%: \"Reprovado\".\n",
        "  Se a frequência for maior que 90%, adicione +0.5 na média final.\n",
        "'''\n",
        "nota1 = float(input('Digite a primeira Nota: '))\n",
        "nota2 = float(input('Digite a segunda Nota: '))\n",
        "nota3 = float(input('Digite a terceira Nota: '))\n",
        "frequencia = int(input('Digite a frequência: '))\n",
        "\n",
        "media = (nota1+nota2+nota3)/3\n",
        "\n",
        "if frequencia > 90:\n",
        "  media += 0.5\n",
        "  print('Frequencia > 90% foi acrescido 0.5 na sua media final')\n",
        "\n",
        "if media >=7 and frequencia >= 75:\n",
        "  print(f'Média Final: {media:.2f} - Aprovado')\n",
        "elif media >=5 and frequencia >=75:\n",
        "  print(f'Média Final: {media:.2f} - Recuperação')\n",
        "elif media <5 and frequencia <75:\n",
        "  print(f'Média Final: {media:.2f} - Reprovado')\n",
        "else:\n",
        "  print('Nota Invalida')\n"
      ],
      "metadata": {
        "colab": {
          "base_uri": "https://localhost:8080/"
        },
        "id": "gk4j80bqAo08",
        "outputId": "39c0f2ff-797c-4643-b5fc-7c226ff357ed"
      },
      "execution_count": null,
      "outputs": [
        {
          "output_type": "stream",
          "name": "stdout",
          "text": [
            "Digite a primeira Nota: 7\n",
            "Digite a segunda Nota: 7\n",
            "Digite a terceira Nota: 7\n",
            "Digite a frequência: 97\n",
            "Parabéns foi acrescido 0.5 na sua media final\n",
            "Média Final: 7.50 - Aprovado\n"
          ]
        }
      ]
    },
    {
      "cell_type": "code",
      "source": [
        "'''\n",
        "20 - Cálculo de tarifa de transporte público com base em idade e horário\n",
        "\n",
        " Um sistema de transporte público calcula tarifas com base na idade e no horário de uso:\n",
        "\n",
        "Idade até 5 anos ou acima de 65: \"Gratuito\".\n",
        "\n",
        "Idade entre 6 e 17:\n",
        "  Horário de pico (7h-9h ou 17h-19h): R$2,50.\n",
        "  Fora do horário de pico: R$1,50.\n",
        "\n",
        "Idade entre 18 e 64:\n",
        "  Horário de pico: R$5,00.\n",
        "  Fora do horário de pico: R$3,00.\n",
        "\n",
        "Pergunte a idade e o horário para calcular a tarifa.\n",
        "'''\n",
        "idade = int(input('Digite sua idade: '))\n",
        "horario = input('Digite o horario (Pico - Fora de Pico)')\n",
        "\n",
        "if idade <= 5 or idade > 65:\n",
        "  print('Gratuito')\n",
        "elif 6 <= idade <= 17:\n",
        "  if horario == 'Pico':\n",
        "    print('Horário de pico: R$2,50.')\n",
        "  else: print('Fora do horário de pico: R$1,50.')\n",
        "else:\n",
        "  if horario == 'Pico':\n",
        "    print('Horário de pico: R$5,00.')\n",
        "  else: print('Fora do horário de pico: R$3,00.')\n"
      ],
      "metadata": {
        "id": "nsPqX15XBXqo",
        "colab": {
          "base_uri": "https://localhost:8080/"
        },
        "outputId": "3788eb3d-8339-4547-f5a3-5091ab37bf13"
      },
      "execution_count": null,
      "outputs": [
        {
          "output_type": "stream",
          "name": "stdout",
          "text": [
            "Digite sua idade: 18\n",
            "Digite o horario (Pico - Fora de Pico)Pico\n",
            "Horário de pico: R$5,00.\n"
          ]
        }
      ]
    }
  ]
}