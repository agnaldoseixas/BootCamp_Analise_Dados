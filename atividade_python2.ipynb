{
  "nbformat": 4,
  "nbformat_minor": 0,
  "metadata": {
    "colab": {
      "provenance": [],
      "include_colab_link": true
    },
    "kernelspec": {
      "name": "python3",
      "display_name": "Python 3"
    },
    "language_info": {
      "name": "python"
    }
  },
  "cells": [
    {
      "cell_type": "markdown",
      "metadata": {
        "id": "view-in-github",
        "colab_type": "text"
      },
      "source": [
        "<a href=\"https://colab.research.google.com/github/agnaldoseixas/BootCamp_Analise_Dados/blob/main/atividade_python2.ipynb\" target=\"_parent\"><img src=\"https://colab.research.google.com/assets/colab-badge.svg\" alt=\"Open In Colab\"/></a>"
      ]
    },
    {
      "cell_type": "code",
      "execution_count": null,
      "metadata": {
        "id": "FVySnz0tPn1t",
        "colab": {
          "base_uri": "https://localhost:8080/"
        },
        "outputId": "41e126bd-b3cc-4136-d0a7-f59868be1334"
      },
      "outputs": [
        {
          "output_type": "stream",
          "name": "stdout",
          "text": [
            "Itens disponíveis para escolha:\n",
            "1. Espada Longa\n",
            "2. Cajado\n",
            "3. Cachimbo c/ erva de fumo\n",
            "4. Algibeira\n",
            "5. Pergaminho antigo\n",
            "6. Uma semente misteriosa\n",
            "Escolha um item (digite o número correspondente): 2\n",
            "Escolha um item (digite o número correspondente): 4\n",
            "Escolha um item (digite o número correspondente): 2\n",
            "Você já escolheu esse item. Escolha outro.\n",
            "Escolha um item (digite o número correspondente): 5\n",
            "Itens escolhidos:\n",
            "2 - Cajado\n",
            "4 - Algibeira\n",
            "5 - Pergaminho antigo\n"
          ]
        }
      ],
      "source": [
        "'''\n",
        "1 - Contexto:\n",
        "\n",
        "Gandalf decide sair em viagem à procura de um ladrão para a comitiva de Thorin,\n",
        "escudo de carvalho. Analisando a situação e procurando não levar muito itens,\n",
        "Gandalf então decide levar apenas 3 dos itens abaixo:\n",
        "\n",
        "- Espada Longa\n",
        "- Cajado\n",
        "- Cachimbo c/ erva de fumo\n",
        "- Algibeira\n",
        "- Pergaminho antigo\n",
        "- Uma semente misteriosa\n",
        "\n",
        "Ajude o Gandalf a escolher os seus itens\n",
        "'''\n",
        "itens = {\n",
        "    1: \"Espada Longa\",\n",
        "    2: \"Cajado\",\n",
        "    3: \"Cachimbo c/ erva de fumo\",\n",
        "    4: \"Algibeira\",\n",
        "    5: \"Pergaminho antigo\",\n",
        "    6: \"Uma semente misteriosa\"\n",
        "}\n",
        "\n",
        "def exibir_itens():\n",
        "  print(\"Itens disponíveis para escolha:\")\n",
        "  for i, item in itens.items():\n",
        "    print(f\"{i}. {item}\")\n",
        "\n",
        "def escolher_itens():\n",
        "  exibir_itens()\n",
        "  escolha = []\n",
        "  while len(escolha) <  3:\n",
        "    escolha_usuario = int(input(\"Escolha um item (digite o número correspondente): \"))\n",
        "    if escolha_usuario in itens:\n",
        "      if escolha_usuario not in escolha:\n",
        "        escolha.append(escolha_usuario)\n",
        "      else:\n",
        "        print(\"Você já escolheu esse item. Escolha outro.\")\n",
        "  return escolha\n",
        "\n",
        "opcao = escolher_itens()\n",
        "\n",
        "print(\"Itens escolhidos:\")\n",
        "for x in opcao:\n",
        "  print(f'{x} - {itens[x]}')"
      ]
    },
    {
      "cell_type": "code",
      "source": [
        "'''\n",
        "2 - Contexto:\n",
        "Em um RPG, o jogador deve escolher uma classe para seu personagem. Cada classe\n",
        "tem uma habilidade única.\n",
        "\n",
        "Tarefa:\n",
        "\n",
        "Crie uma função escolher_classe() que:\n",
        "\n",
        "Mostre as classes disponíveis com um loop for.\n",
        "\n",
        "Use while para validar a escolha do usuário.\n",
        "\n",
        "Retorne a classe escolhida e sua habilidade.\n",
        "\n",
        "Lista de Classes:\n",
        "\n",
        "classes = {\n",
        "    \"Guerreiro\": \"Ataque Poderoso\",\n",
        "    \"Mago\": \"Bola de Fogo\",\n",
        "    \"Ladino\": \"Furtividade\"\n",
        "}\n",
        "'''\n",
        "classes = {\n",
        "    \"Guerreiro\": \"Ataque Poderoso\",\n",
        "    \"Mago\": \"Bola de Fogo\",\n",
        "    \"Ladino\": \"Furtividade\"\n",
        "}\n",
        "\n",
        "def exibir_classes():\n",
        "  print(\"Classes disponíveis:\")\n",
        "  for classe, habilidade in classes.items():\n",
        "    print(f\"{classe}: {habilidade}\")\n",
        "\n",
        "def escolher_classe():\n",
        "  exibir_classes()\n",
        "  while True:\n",
        "    classe_escolhida = input(\"Escolha uma classe (digite o nome correspondente): \")\n",
        "    if classe_escolhida in classes:\n",
        "      habilidade = classes[classe_escolhida]\n",
        "      return classe_escolhida\n",
        "    else:\n",
        "      print(\"Classe inválida. Escolha novamente.\")\n",
        "\n",
        "classe_escolhida = escolher_classe()\n",
        "print(f\"Você escolheu a classe {classe_escolhida} com a habilidade {classes[classe_escolhida]}.\")"
      ],
      "metadata": {
        "id": "5Y21oby-RB-L",
        "colab": {
          "base_uri": "https://localhost:8080/"
        },
        "outputId": "d0ac71f2-e744-4297-8611-c7df04e2d06b"
      },
      "execution_count": null,
      "outputs": [
        {
          "output_type": "stream",
          "name": "stdout",
          "text": [
            "Classes disponíveis:\n",
            "Guerreiro: Ataque Poderoso\n",
            "Mago: Bola de Fogo\n",
            "Ladino: Furtividade\n",
            "Escolha uma classe (digite o nome correspondente): Mago\n",
            "Você escolheu a classe Mago com a habilidade Bola de Fogo.\n"
          ]
        }
      ]
    },
    {
      "cell_type": "code",
      "source": [
        "'''\n",
        "3 - Contexto:\n",
        "Um monstro tem 50 pontos de vida. O jogador ataca com um valor fixo por turno até derrotá-lo.\n",
        "\n",
        "Tarefa:\n",
        "Crie uma função combate() que:\n",
        "\n",
        "Use um loop while para simular os turnos.\n",
        "\n",
        "A cada turno, subtraia o dano do jogador (10) da vida do monstro.\n",
        "\n",
        "Mostre a vida restante do monstro a cada ataque.\n",
        "'''\n",
        "\n",
        "def combate():\n",
        "  vida_monstro = 50\n",
        "  ataque = 0\n",
        "  while vida_monstro > 0:\n",
        "    acao = int(input(\"Digite 1 para atacar o monstro ou 2 para não atacar: \").strip())\n",
        "    if acao == 1:\n",
        "      vida_monstro -= 10\n",
        "      ataque += 1\n",
        "      print(f\"Ataque {ataque} realizado -->\")\n",
        "      print(f\"Vida do monstro: {vida_monstro}\")\n",
        "    else:\n",
        "      print(\"Você não atacou o monstro.\")\n",
        "\n",
        "  print(\"O monstro foi derrotado!\")\n",
        "\n",
        "combate()\n"
      ],
      "metadata": {
        "id": "pAX7k8x7W9IC",
        "colab": {
          "base_uri": "https://localhost:8080/"
        },
        "outputId": "a097e73e-8731-4297-ec37-d2f0ce77ebdf"
      },
      "execution_count": null,
      "outputs": [
        {
          "output_type": "stream",
          "name": "stdout",
          "text": [
            "Digite 1 para atacar o monstro ou 2 para não atacar: 1\n",
            "Ataque 1 realizado -->\n",
            "Vida do monstro: 40\n",
            "Digite 1 para atacar o monstro ou 2 para não atacar: 2\n",
            "Você não atacou o monstro.\n",
            "Digite 1 para atacar o monstro ou 2 para não atacar: 1\n",
            "Ataque 2 realizado -->\n",
            "Vida do monstro: 30\n",
            "Digite 1 para atacar o monstro ou 2 para não atacar: 1\n",
            "Ataque 3 realizado -->\n",
            "Vida do monstro: 20\n",
            "Digite 1 para atacar o monstro ou 2 para não atacar: 1\n",
            "Ataque 4 realizado -->\n",
            "Vida do monstro: 10\n",
            "Digite 1 para atacar o monstro ou 2 para não atacar: 1\n",
            "Ataque 5 realizado -->\n",
            "Vida do monstro: 0\n",
            "O monstro foi derrotado!\n"
          ]
        }
      ]
    },
    {
      "cell_type": "code",
      "source": [
        "'''\n",
        "4 - Contexto:\n",
        "Uma escola precisa analisar as notas de seus alunos e determinar se cada aluno\n",
        "foi aprovado ou reprovado. As notas serão armazenadas em uma lista e a análise\n",
        "deve ser realizada em um loop.\n",
        "\n",
        "Requisitos:\n",
        "Peça ao usuário para inserir o nome e a nota de cinco alunos.\n",
        "Armazene os nomes e as notas em listas separadas.\n",
        "Para cada aluno, verifique se a nota é maior ou igual a 60. Se sim, o aluno está\n",
        "aprovado; caso contrário, está reprovado.\n",
        "Exiba uma mensagem para cada aluno informando seu nome, nota e se foi aprovado\n",
        "ou reprovado.\n",
        "'''\n",
        "\n",
        "def inserir_nomes_notas():\n",
        "  nomes = []\n",
        "  notas = []\n",
        "  for i in range(5):\n",
        "    nome = input(f\"Digite o nome do aluno {i+1}: \")\n",
        "    nota = float(input(f\"Digite a nota do aluno {i+1}: \"))\n",
        "    nomes.append(nome)\n",
        "    notas.append(nota)\n",
        "  return nomes, notas\n",
        "\n",
        "def analisar_aprovacao(nomes, notas):\n",
        "  for i in range(5):\n",
        "    if notas[i] >= 60:\n",
        "      print(f\"O aluno {nomes[i]} foi aprovado com a nota {notas[i]}\")\n",
        "    else:\n",
        "      print(f\"O aluno {nomes[i]} foi reprovado com a nota {notas[i]}\")\n",
        "\n",
        "nomes, notas = inserir_nomes_notas()\n",
        "analisar_aprovacao(nomes, notas)"
      ],
      "metadata": {
        "id": "pGNioYriPujx",
        "colab": {
          "base_uri": "https://localhost:8080/"
        },
        "outputId": "5cc1b912-1c59-46f4-adb3-17e577e4a043"
      },
      "execution_count": null,
      "outputs": [
        {
          "output_type": "stream",
          "name": "stdout",
          "text": [
            "Digite o nome do aluno 1: Agnaldo\n",
            "Digite a nota do aluno 1: 60\n",
            "Digite o nome do aluno 2: Ailton\n",
            "Digite a nota do aluno 2: 70\n",
            "Digite o nome do aluno 3: Agda\n",
            "Digite a nota do aluno 3: 50\n",
            "Digite o nome do aluno 4: Alessando\n",
            "Digite a nota do aluno 4: 40\n",
            "Digite o nome do aluno 5: Ramon\n",
            "Digite a nota do aluno 5: 100\n",
            "O aluno Agnaldo foi aprovado com a nota 60.0\n",
            "O aluno Ailton foi aprovado com a nota 70.0\n",
            "O aluno Agda foi reprovado com a nota 50.0\n",
            "O aluno Alessando foi reprovado com a nota 40.0\n",
            "O aluno Ramon foi aprovado com a nota 100.0\n"
          ]
        }
      ]
    },
    {
      "cell_type": "code",
      "source": [
        "'''\n",
        "5 - Contexto:\n",
        "Uma empresa deseja realizar uma pesquisa de opinião com cinco participantes\n",
        "sobre um novo produto. As respostas devem ser armazenadas e analisadas para\n",
        "verificar a satisfação dos clientes.\n",
        "\n",
        "Requisitos\n",
        "Peça ao usuário para inserir o nome e a opinião (satisfeito/insatisfeito) de\n",
        "cinco participantes.\n",
        "Armazene os nomes e as opiniões em um dicionário.\n",
        "Conte o número de participantes satisfeitos e insatisfeitos.\n",
        "Exiba a lista de participantes satisfeitos e insatisfeitos, bem como o número\n",
        "total de cada categoria.\n",
        "'''\n",
        "\n",
        "def inserir_nome_opniao():\n",
        "  pesquisa = {}\n",
        "  for i in range(5):\n",
        "    nome = input(f\"Digite o nome do participante {i+1}: \")\n",
        "    opniao = input(f\"Digite a opinião do participante {i+1} (satisfeito/insatisfeito): \")\n",
        "    pesquisa[nome] = opniao\n",
        "  return pesquisa\n",
        "\n",
        "def analisar_pesquisa(pesquisa):\n",
        "  satisfeitos = 0\n",
        "  insatisfeitos = 0\n",
        "  for nome, opniao in pesquisa.items():\n",
        "    if opniao == \"satisfeito\":\n",
        "      satisfeitos += 1\n",
        "    elif opniao == \"insatisfeito\":\n",
        "      insatisfeitos += 1\n",
        "\n",
        "  print(\"Lista de participantes satisfeitos:\")\n",
        "  for nome, opniao in pesquisa.items():\n",
        "    if opniao == \"satisfeito\":\n",
        "      print(f\"{nome}\")\n",
        "\n",
        "  print(\"Lista de participantes insatisfeitos:\")\n",
        "  for nome, opniao in pesquisa.items():\n",
        "    if opniao == \"insatisfeito\":\n",
        "      print(f\"{nome}\")\n",
        "\n",
        "  print(f\"Total de participantes satisfeitos: {satisfeitos}\")\n",
        "  print(f\"Total de participantes insatisfeitos: {insatisfeitos}\")\n",
        "\n",
        "pesquisa = inserir_nome_opniao()\n",
        "analisar_pesquisa(pesquisa)"
      ],
      "metadata": {
        "id": "ia4IqHaLPzCx",
        "colab": {
          "base_uri": "https://localhost:8080/"
        },
        "outputId": "9db5c19e-8e76-4e34-8468-272052011d5d"
      },
      "execution_count": null,
      "outputs": [
        {
          "output_type": "stream",
          "name": "stdout",
          "text": [
            "Digite o nome do participante 1: Agnaldo\n",
            "Digite a opinião do participante 1 (satisfeito/insatisfeito): satisfeito\n",
            "Digite o nome do participante 2: Agda\n",
            "Digite a opinião do participante 2 (satisfeito/insatisfeito): satisfeito\n",
            "Digite o nome do participante 3: Ailton\n",
            "Digite a opinião do participante 3 (satisfeito/insatisfeito): insatisfeito\n",
            "Digite o nome do participante 4: Alessandro\n",
            "Digite a opinião do participante 4 (satisfeito/insatisfeito): satisfeito\n",
            "Digite o nome do participante 5: Ramon\n",
            "Digite a opinião do participante 5 (satisfeito/insatisfeito): insatisfeito\n",
            "Lista de participantes satisfeitos:\n",
            "Agnaldo\n",
            "Agda\n",
            "Alessandro\n",
            "Lista de participantes insatisfeitos:\n",
            "Ailton\n",
            "Ramon\n",
            "Total de participantes satisfeitos: 3\n",
            "Total de participantes insatisfeitos: 2\n"
          ]
        }
      ]
    }
  ]
}