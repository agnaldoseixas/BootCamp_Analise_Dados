{
  "nbformat": 4,
  "nbformat_minor": 0,
  "metadata": {
    "colab": {
      "provenance": [],
      "authorship_tag": "ABX9TyN82DcLxAj+uSyTktFnyMq4",
      "include_colab_link": true
    },
    "kernelspec": {
      "name": "python3",
      "display_name": "Python 3"
    },
    "language_info": {
      "name": "python"
    }
  },
  "cells": [
    {
      "cell_type": "markdown",
      "metadata": {
        "id": "view-in-github",
        "colab_type": "text"
      },
      "source": [
        "<a href=\"https://colab.research.google.com/github/agnaldoseixas/BootCamp_Analise_Dados/blob/main/apostila_python.ipynb\" target=\"_parent\"><img src=\"https://colab.research.google.com/assets/colab-badge.svg\" alt=\"Open In Colab\"/></a>"
      ]
    },
    {
      "cell_type": "markdown",
      "source": [
        "#1 - Primeiro Passo"
      ],
      "metadata": {
        "id": "51DafmgjxJeT"
      }
    },
    {
      "cell_type": "code",
      "execution_count": null,
      "metadata": {
        "colab": {
          "base_uri": "https://localhost:8080/"
        },
        "id": "Ou4g0vxjvsyP",
        "outputId": "f6ceb430-acef-490a-bec6-2caa7e57c6d1"
      },
      "outputs": [
        {
          "output_type": "stream",
          "name": "stdout",
          "text": [
            "Olá Mundo!\n"
          ]
        }
      ],
      "source": [
        "#Printar na tela\n",
        "print(\"Olá Mundo!\")"
      ]
    },
    {
      "cell_type": "markdown",
      "source": [
        "#2 - Variaveis"
      ],
      "metadata": {
        "id": "nrdw1AxsyL4T"
      }
    },
    {
      "cell_type": "code",
      "source": [
        "#É um espaço na memória do computador que usamos para armazenar um valor"
      ],
      "metadata": {
        "id": "ctU8XwI3x-aq"
      },
      "execution_count": null,
      "outputs": []
    },
    {
      "cell_type": "code",
      "source": [
        "nome = 'Agnaldo'\n",
        "idade = 50\n",
        "altura = 1.63\n",
        "estuda = True"
      ],
      "metadata": {
        "id": "yCKJR_Xwy-wR"
      },
      "execution_count": null,
      "outputs": []
    },
    {
      "cell_type": "code",
      "source": [
        "print(nome)\n",
        "print(idade)\n",
        "print(altura)\n",
        "print(estuda)"
      ],
      "metadata": {
        "colab": {
          "base_uri": "https://localhost:8080/"
        },
        "id": "dBZrK9zAzkz7",
        "outputId": "9f7dfb20-3cb7-4b67-9640-b5074675d1a4"
      },
      "execution_count": null,
      "outputs": [
        {
          "output_type": "stream",
          "name": "stdout",
          "text": [
            "Agnaldo\n",
            "50\n",
            "1.63\n",
            "True\n"
          ]
        }
      ]
    },
    {
      "cell_type": "markdown",
      "source": [
        "#3 - Tipos de Dados"
      ],
      "metadata": {
        "id": "fN-Y2DR11eZp"
      }
    },
    {
      "cell_type": "code",
      "source": [
        "nome = 'Agnaldo' # Em Python, String. Na Estatistica, variavel quelitativa\n",
        "idade = 50 # Em Python, int (inteiro). Na Estatistica, variavell quentitativa discreta.\n",
        "altura = 1.63 # Em Python, float ( numero decimal). Na estatistica, variavel quantitativa continua.\n",
        "estuda = True # Em Python é boolean (verdadeiro ou falso). Na estatistica,, variavel qualitativa"
      ],
      "metadata": {
        "id": "0KPJX4W31mpI"
      },
      "execution_count": null,
      "outputs": []
    },
    {
      "cell_type": "code",
      "source": [
        "#Retorna o tipo da variavel\n",
        "type(nome)"
      ],
      "metadata": {
        "colab": {
          "base_uri": "https://localhost:8080/"
        },
        "id": "VGgnWVOo4VeB",
        "outputId": "7858cd75-1c34-453f-ab29-b318a3fbbbb8"
      },
      "execution_count": null,
      "outputs": [
        {
          "output_type": "execute_result",
          "data": {
            "text/plain": [
              "str"
            ]
          },
          "metadata": {},
          "execution_count": 10
        }
      ]
    },
    {
      "cell_type": "code",
      "source": [
        "type(idade)"
      ],
      "metadata": {
        "colab": {
          "base_uri": "https://localhost:8080/"
        },
        "id": "ZcdWsHDA4v_i",
        "outputId": "34fc8974-f765-4a92-d489-a88e4bf89af0"
      },
      "execution_count": null,
      "outputs": [
        {
          "output_type": "execute_result",
          "data": {
            "text/plain": [
              "int"
            ]
          },
          "metadata": {},
          "execution_count": 11
        }
      ]
    },
    {
      "cell_type": "code",
      "source": [
        "type(altura)"
      ],
      "metadata": {
        "colab": {
          "base_uri": "https://localhost:8080/"
        },
        "id": "nkdGdpUs40yx",
        "outputId": "f1249212-0df9-47ad-8442-c847e064a240"
      },
      "execution_count": null,
      "outputs": [
        {
          "output_type": "execute_result",
          "data": {
            "text/plain": [
              "float"
            ]
          },
          "metadata": {},
          "execution_count": 12
        }
      ]
    },
    {
      "cell_type": "code",
      "source": [
        "type(estuda)"
      ],
      "metadata": {
        "colab": {
          "base_uri": "https://localhost:8080/"
        },
        "id": "DnxGZKXq47dg",
        "outputId": "25a251a3-a57b-4361-88c2-fadf8fd44b70"
      },
      "execution_count": null,
      "outputs": [
        {
          "output_type": "execute_result",
          "data": {
            "text/plain": [
              "bool"
            ]
          },
          "metadata": {},
          "execution_count": 13
        }
      ]
    },
    {
      "cell_type": "code",
      "source": [
        "print('Nome: ',nome)"
      ],
      "metadata": {
        "colab": {
          "base_uri": "https://localhost:8080/"
        },
        "id": "fTgBXJMC5AcZ",
        "outputId": "965dac4f-e493-4dbd-8bb5-43a626312787"
      },
      "execution_count": null,
      "outputs": [
        {
          "output_type": "stream",
          "name": "stdout",
          "text": [
            "Nome:  Agnaldo\n"
          ]
        }
      ]
    },
    {
      "cell_type": "markdown",
      "source": [
        "#4 - Operadores"
      ],
      "metadata": {
        "id": "6j6XtbF2MLDN"
      }
    },
    {
      "cell_type": "markdown",
      "source": [
        "##4.1 - Operadores Aritimeticos"
      ],
      "metadata": {
        "id": "aBb6vA3jMUzE"
      }
    },
    {
      "cell_type": "code",
      "source": [
        "#Adição\n",
        "5 + 3"
      ],
      "metadata": {
        "colab": {
          "base_uri": "https://localhost:8080/"
        },
        "id": "etO0jmkrMPZ8",
        "outputId": "f4482163-4141-40ab-a68e-cf7e68ca65ff"
      },
      "execution_count": null,
      "outputs": [
        {
          "output_type": "execute_result",
          "data": {
            "text/plain": [
              "8"
            ]
          },
          "metadata": {},
          "execution_count": 1
        }
      ]
    },
    {
      "cell_type": "code",
      "source": [
        "x=3\n",
        "y=5\n",
        "resultado= x+y\n",
        "print('O resultado é:', resultado)"
      ],
      "metadata": {
        "colab": {
          "base_uri": "https://localhost:8080/"
        },
        "id": "UzeiU6eEMwPU",
        "outputId": "6d47dc7a-9832-47ba-a812-2329e7c46953"
      },
      "execution_count": null,
      "outputs": [
        {
          "output_type": "stream",
          "name": "stdout",
          "text": [
            "O resultado é: 8\n"
          ]
        }
      ]
    },
    {
      "cell_type": "code",
      "source": [
        "#Subtração\n",
        "8-3"
      ],
      "metadata": {
        "colab": {
          "base_uri": "https://localhost:8080/"
        },
        "id": "v270T1yyNO1U",
        "outputId": "d0e1b897-894c-4b24-a912-3fc450413919"
      },
      "execution_count": null,
      "outputs": [
        {
          "output_type": "execute_result",
          "data": {
            "text/plain": [
              "5"
            ]
          },
          "metadata": {},
          "execution_count": 3
        }
      ]
    },
    {
      "cell_type": "code",
      "source": [
        "x=8\n",
        "y=3\n",
        "resultado= x-y\n",
        "print('O resultado é:', resultado)"
      ],
      "metadata": {
        "colab": {
          "base_uri": "https://localhost:8080/"
        },
        "id": "g67BXmywOeN9",
        "outputId": "a1deccdf-f392-4744-c10e-c26d488999a5"
      },
      "execution_count": null,
      "outputs": [
        {
          "output_type": "stream",
          "name": "stdout",
          "text": [
            "O resultado é: 5\n"
          ]
        }
      ]
    },
    {
      "cell_type": "code",
      "source": [
        "#multiplicação\n",
        "5*3"
      ],
      "metadata": {
        "colab": {
          "base_uri": "https://localhost:8080/"
        },
        "id": "l_sKYNrLO33l",
        "outputId": "5e8a62e1-e207-480e-e15e-446b825f806f"
      },
      "execution_count": null,
      "outputs": [
        {
          "output_type": "execute_result",
          "data": {
            "text/plain": [
              "15"
            ]
          },
          "metadata": {},
          "execution_count": 6
        }
      ]
    },
    {
      "cell_type": "code",
      "source": [
        "x=5\n",
        "y=3\n",
        "resultado= x*y\n",
        "print('O resultado é:', resultado)"
      ],
      "metadata": {
        "colab": {
          "base_uri": "https://localhost:8080/"
        },
        "id": "OjasT9azPA59",
        "outputId": "0c5aa06d-fd2d-4adc-ba97-6e1bf0beae2c"
      },
      "execution_count": null,
      "outputs": [
        {
          "output_type": "stream",
          "name": "stdout",
          "text": [
            "O resultado é: 15\n"
          ]
        }
      ]
    },
    {
      "cell_type": "code",
      "source": [
        "#Divisão\n",
        "6/2"
      ],
      "metadata": {
        "colab": {
          "base_uri": "https://localhost:8080/"
        },
        "id": "SWSEyhqOPQxE",
        "outputId": "8b651f6d-137c-46fe-fd8e-e6ebd3735cd4"
      },
      "execution_count": null,
      "outputs": [
        {
          "output_type": "execute_result",
          "data": {
            "text/plain": [
              "3.0"
            ]
          },
          "metadata": {},
          "execution_count": 8
        }
      ]
    },
    {
      "cell_type": "code",
      "source": [
        "x=6\n",
        "y=2\n",
        "resultado= x/y\n",
        "print('O resultado é:', resultado)"
      ],
      "metadata": {
        "colab": {
          "base_uri": "https://localhost:8080/"
        },
        "id": "ZTACgCeVPaRl",
        "outputId": "b835f8ff-c461-42fb-bde6-e61c129511b4"
      },
      "execution_count": null,
      "outputs": [
        {
          "output_type": "stream",
          "name": "stdout",
          "text": [
            "O resultado é: 3.0\n"
          ]
        }
      ]
    },
    {
      "cell_type": "code",
      "source": [
        "#Divisão Inteira\n",
        "5 // 2"
      ],
      "metadata": {
        "colab": {
          "base_uri": "https://localhost:8080/"
        },
        "id": "lmw6CNzTPwYc",
        "outputId": "c092d992-358b-492c-a116-2978b4f90180"
      },
      "execution_count": null,
      "outputs": [
        {
          "output_type": "execute_result",
          "data": {
            "text/plain": [
              "2"
            ]
          },
          "metadata": {},
          "execution_count": 10
        }
      ]
    },
    {
      "cell_type": "code",
      "source": [
        "x=5\n",
        "y=2\n",
        "resultado= x//y\n",
        "print('O resultado é:', resultado)"
      ],
      "metadata": {
        "colab": {
          "base_uri": "https://localhost:8080/"
        },
        "id": "iygagZNgQFpE",
        "outputId": "90e817c1-5401-4e36-f694-1b47f05fa1fe"
      },
      "execution_count": null,
      "outputs": [
        {
          "output_type": "stream",
          "name": "stdout",
          "text": [
            "O resultado é: 2\n"
          ]
        }
      ]
    },
    {
      "cell_type": "code",
      "source": [
        "#Resto da divisão\n",
        "5 % 2"
      ],
      "metadata": {
        "colab": {
          "base_uri": "https://localhost:8080/"
        },
        "id": "aqlm8lEDQOLc",
        "outputId": "ab4518cc-8802-43a1-9a8b-7fb16b10b5d4"
      },
      "execution_count": null,
      "outputs": [
        {
          "output_type": "execute_result",
          "data": {
            "text/plain": [
              "1"
            ]
          },
          "metadata": {},
          "execution_count": 12
        }
      ]
    },
    {
      "cell_type": "code",
      "source": [
        "x=5\n",
        "y=2\n",
        "resultado= x%y\n",
        "print('O resultado é:', resultado)"
      ],
      "metadata": {
        "colab": {
          "base_uri": "https://localhost:8080/"
        },
        "id": "SIG9GEbOQY0n",
        "outputId": "4973f5d7-214c-4c71-f589-ad517ab60a4c"
      },
      "execution_count": null,
      "outputs": [
        {
          "output_type": "stream",
          "name": "stdout",
          "text": [
            "O resultado é: 1\n"
          ]
        }
      ]
    },
    {
      "cell_type": "code",
      "source": [
        "#Exponenciação\n",
        "3 ** 2"
      ],
      "metadata": {
        "colab": {
          "base_uri": "https://localhost:8080/"
        },
        "id": "rYmaiLT0Rk7s",
        "outputId": "fde21073-2c97-4a7e-859f-e18419677370"
      },
      "execution_count": null,
      "outputs": [
        {
          "output_type": "execute_result",
          "data": {
            "text/plain": [
              "9"
            ]
          },
          "metadata": {},
          "execution_count": 15
        }
      ]
    },
    {
      "cell_type": "code",
      "source": [
        "x=3\n",
        "y=2\n",
        "resultado= x**y\n",
        "print('O resultado é:', resultado)"
      ],
      "metadata": {
        "colab": {
          "base_uri": "https://localhost:8080/"
        },
        "id": "r3J0SmsmRs41",
        "outputId": "01a523e1-1c16-4731-f658-ffc64d8549c8"
      },
      "execution_count": null,
      "outputs": [
        {
          "output_type": "stream",
          "name": "stdout",
          "text": [
            "O resultado é: 9\n"
          ]
        }
      ]
    },
    {
      "cell_type": "code",
      "source": [
        "# prompt: Crie um programa que calcule a area de retangulo cuja base é igual a 2\n",
        "# e altura é igual a 3, depois imprima na tela\n",
        "# a formula é area = base * altura\n",
        "\n",
        "base = 2\n",
        "altura = 3\n",
        "area = base * altura\n",
        "print(\"A área do retângulo é:\", area)\n"
      ],
      "metadata": {
        "colab": {
          "base_uri": "https://localhost:8080/"
        },
        "id": "4rcpfE7MS4QM",
        "outputId": "bc22793a-bf8c-4482-873b-4e7d7c635593"
      },
      "execution_count": null,
      "outputs": [
        {
          "output_type": "stream",
          "name": "stdout",
          "text": [
            "A área do retângulo é: 6\n"
          ]
        }
      ]
    },
    {
      "cell_type": "code",
      "source": [
        "# prompt: Crie um programa que calcule a média de três notas. O aluno recebeu nota 7 na primeira prova, 6 na segunda e 8 na terceira. Media = soma das notas/qtd de notas. Depois imprima o resultado\n",
        "\n",
        "# Notas do aluno\n",
        "nota1 = 7\n",
        "nota2 = 6\n",
        "nota3 = 8\n",
        "\n",
        "# Calcula a média\n",
        "media = (nota1 + nota2 + nota3) / 3\n",
        "\n",
        "# Imprime o resultado\n",
        "print(\"A média do aluno é:\", media)\n"
      ],
      "metadata": {
        "colab": {
          "base_uri": "https://localhost:8080/"
        },
        "id": "EbEJ5D2qTHjF",
        "outputId": "9a56357e-2fcf-4237-e9ee-d7b9e3d3e130"
      },
      "execution_count": null,
      "outputs": [
        {
          "output_type": "stream",
          "name": "stdout",
          "text": [
            "A média do aluno é: 7.0\n"
          ]
        }
      ]
    },
    {
      "cell_type": "markdown",
      "source": [
        "##4.2 - Operadores de Comparação"
      ],
      "metadata": {
        "id": "OBDDpPeQVtV7"
      }
    },
    {
      "cell_type": "code",
      "source": [
        "#Igualdade (==)\n",
        "5 == 3"
      ],
      "metadata": {
        "colab": {
          "base_uri": "https://localhost:8080/"
        },
        "id": "XV4Zt3JaVzyj",
        "outputId": "15d19420-4aa8-45e5-9df6-e67a22a3be06"
      },
      "execution_count": null,
      "outputs": [
        {
          "output_type": "execute_result",
          "data": {
            "text/plain": [
              "False"
            ]
          },
          "metadata": {},
          "execution_count": 24
        }
      ]
    },
    {
      "cell_type": "code",
      "source": [
        "5 == 5"
      ],
      "metadata": {
        "colab": {
          "base_uri": "https://localhost:8080/"
        },
        "id": "oWg2RqikWAF8",
        "outputId": "08f78d0c-8989-4e88-e157-508556e59512"
      },
      "execution_count": null,
      "outputs": [
        {
          "output_type": "execute_result",
          "data": {
            "text/plain": [
              "True"
            ]
          },
          "metadata": {},
          "execution_count": 25
        }
      ]
    },
    {
      "cell_type": "code",
      "source": [
        "#Diferente de (!=)\n",
        "3 != 5"
      ],
      "metadata": {
        "colab": {
          "base_uri": "https://localhost:8080/"
        },
        "id": "af4T-yghWDau",
        "outputId": "1c7469a5-1b38-455b-930a-90ab540e453f"
      },
      "execution_count": null,
      "outputs": [
        {
          "output_type": "execute_result",
          "data": {
            "text/plain": [
              "True"
            ]
          },
          "metadata": {},
          "execution_count": 26
        }
      ]
    },
    {
      "cell_type": "code",
      "source": [
        "3 != 3"
      ],
      "metadata": {
        "colab": {
          "base_uri": "https://localhost:8080/"
        },
        "id": "sca8qA2lWNEz",
        "outputId": "94b785f2-7232-4b60-9916-6da611d3ee08"
      },
      "execution_count": null,
      "outputs": [
        {
          "output_type": "execute_result",
          "data": {
            "text/plain": [
              "False"
            ]
          },
          "metadata": {},
          "execution_count": 27
        }
      ]
    },
    {
      "cell_type": "code",
      "source": [
        "#Maior que\n",
        "5 > 3"
      ],
      "metadata": {
        "colab": {
          "base_uri": "https://localhost:8080/"
        },
        "id": "NH-ENODPWRM1",
        "outputId": "8256f46f-ccb1-46bc-c85c-7fabb50f15ea"
      },
      "execution_count": null,
      "outputs": [
        {
          "output_type": "execute_result",
          "data": {
            "text/plain": [
              "True"
            ]
          },
          "metadata": {},
          "execution_count": 28
        }
      ]
    },
    {
      "cell_type": "code",
      "source": [
        "#Menor que\n",
        "5 < 3"
      ],
      "metadata": {
        "colab": {
          "base_uri": "https://localhost:8080/"
        },
        "id": "o4U2d0okWbIT",
        "outputId": "f0671d76-837c-4a4c-bece-7dc8f6bdfece"
      },
      "execution_count": null,
      "outputs": [
        {
          "output_type": "execute_result",
          "data": {
            "text/plain": [
              "False"
            ]
          },
          "metadata": {},
          "execution_count": 29
        }
      ]
    },
    {
      "cell_type": "code",
      "source": [
        "#Maior ou igual\n",
        "6 >= 3"
      ],
      "metadata": {
        "colab": {
          "base_uri": "https://localhost:8080/"
        },
        "id": "vL_CqY4MWndV",
        "outputId": "00011b39-bfd7-4c9e-a8ff-89399031ccbc"
      },
      "execution_count": null,
      "outputs": [
        {
          "output_type": "execute_result",
          "data": {
            "text/plain": [
              "True"
            ]
          },
          "metadata": {},
          "execution_count": 30
        }
      ]
    },
    {
      "cell_type": "code",
      "source": [
        "#Menor ou igual\n",
        "6 <= 3"
      ],
      "metadata": {
        "colab": {
          "base_uri": "https://localhost:8080/"
        },
        "id": "fiCYkWyXWtjk",
        "outputId": "ebe5a459-df1b-4ead-c086-2df8fd328076"
      },
      "execution_count": null,
      "outputs": [
        {
          "output_type": "execute_result",
          "data": {
            "text/plain": [
              "False"
            ]
          },
          "metadata": {},
          "execution_count": 31
        }
      ]
    },
    {
      "cell_type": "code",
      "source": [
        "'''\n",
        "== Igual\n",
        "> Maior que\n",
        "< Menor que\n",
        ">= Maior ou igual\n",
        "<= Menor ou igual\n",
        "'''"
      ],
      "metadata": {
        "id": "MKLwqYmNW2Ik"
      },
      "execution_count": null,
      "outputs": []
    },
    {
      "cell_type": "markdown",
      "source": [
        "##4.3 - Operadores Logicos"
      ],
      "metadata": {
        "id": "-P8vEyiHXRFr"
      }
    },
    {
      "cell_type": "markdown",
      "source": [
        "###4.3.1 - And"
      ],
      "metadata": {
        "id": "ntdwApgaXWVj"
      }
    },
    {
      "cell_type": "code",
      "source": [
        "# Só retorna verdadeiro se duas condições forem verdadeiras\n",
        "True and False"
      ],
      "metadata": {
        "colab": {
          "base_uri": "https://localhost:8080/"
        },
        "id": "qnIB6aVUXcwE",
        "outputId": "0016449f-f352-4e28-a90b-6d164c3caa14"
      },
      "execution_count": null,
      "outputs": [
        {
          "output_type": "execute_result",
          "data": {
            "text/plain": [
              "False"
            ]
          },
          "metadata": {},
          "execution_count": 32
        }
      ]
    },
    {
      "cell_type": "code",
      "source": [
        "False and True"
      ],
      "metadata": {
        "colab": {
          "base_uri": "https://localhost:8080/"
        },
        "id": "ZPC83bvQXr43",
        "outputId": "c52f6ccd-54e0-4b45-e551-b3308c080d92"
      },
      "execution_count": null,
      "outputs": [
        {
          "output_type": "execute_result",
          "data": {
            "text/plain": [
              "False"
            ]
          },
          "metadata": {},
          "execution_count": 33
        }
      ]
    },
    {
      "cell_type": "code",
      "source": [
        "False and False"
      ],
      "metadata": {
        "colab": {
          "base_uri": "https://localhost:8080/"
        },
        "id": "gpKcFm6OXyDL",
        "outputId": "5b8e2be5-5e53-4799-88f9-b6cee1bb13b8"
      },
      "execution_count": null,
      "outputs": [
        {
          "output_type": "execute_result",
          "data": {
            "text/plain": [
              "False"
            ]
          },
          "metadata": {},
          "execution_count": 34
        }
      ]
    },
    {
      "cell_type": "code",
      "source": [
        "True and True"
      ],
      "metadata": {
        "colab": {
          "base_uri": "https://localhost:8080/"
        },
        "id": "fb8NtwAkX-4D",
        "outputId": "4f07c2fa-ad41-40e9-8e45-ecabb4514f7d"
      },
      "execution_count": null,
      "outputs": [
        {
          "output_type": "execute_result",
          "data": {
            "text/plain": [
              "True"
            ]
          },
          "metadata": {},
          "execution_count": 35
        }
      ]
    },
    {
      "cell_type": "code",
      "source": [
        "'''\n",
        "Verdadeiro e Verdadeiro = Verdadeiro\n",
        "Verdadeiro e Falso = Falso\n",
        "Falso e Verdadeiro = Falso\n",
        "Falso e Falso = Falso\n",
        "'''"
      ],
      "metadata": {
        "id": "Qg3ZlTlKYHH0"
      },
      "execution_count": null,
      "outputs": []
    },
    {
      "cell_type": "markdown",
      "source": [
        "###4.3.2 - Or"
      ],
      "metadata": {
        "id": "9iEuUONfYf7s"
      }
    },
    {
      "cell_type": "code",
      "source": [
        "# Só é falso se as duas condições forem falsas\n",
        "False or False"
      ],
      "metadata": {
        "colab": {
          "base_uri": "https://localhost:8080/"
        },
        "id": "_p_meuPPYkOz",
        "outputId": "18d61666-e0ec-4ce2-9503-f1a25bf34299"
      },
      "execution_count": null,
      "outputs": [
        {
          "output_type": "execute_result",
          "data": {
            "text/plain": [
              "False"
            ]
          },
          "metadata": {},
          "execution_count": 36
        }
      ]
    },
    {
      "cell_type": "code",
      "source": [
        "False or True"
      ],
      "metadata": {
        "colab": {
          "base_uri": "https://localhost:8080/"
        },
        "id": "hTTLe7cnYuoF",
        "outputId": "18b16533-c7ef-418e-db81-9e770bb58c15"
      },
      "execution_count": null,
      "outputs": [
        {
          "output_type": "execute_result",
          "data": {
            "text/plain": [
              "True"
            ]
          },
          "metadata": {},
          "execution_count": 37
        }
      ]
    },
    {
      "cell_type": "code",
      "source": [
        "True or False"
      ],
      "metadata": {
        "colab": {
          "base_uri": "https://localhost:8080/"
        },
        "id": "gE320k_tY4Xe",
        "outputId": "be54959d-ed0b-4612-85ba-242f62f9951f"
      },
      "execution_count": null,
      "outputs": [
        {
          "output_type": "execute_result",
          "data": {
            "text/plain": [
              "True"
            ]
          },
          "metadata": {},
          "execution_count": 38
        }
      ]
    },
    {
      "cell_type": "code",
      "source": [
        "True or True"
      ],
      "metadata": {
        "colab": {
          "base_uri": "https://localhost:8080/"
        },
        "id": "Ehi1QonJY8Mz",
        "outputId": "87ecdd26-0c87-43e0-8ce7-eb493e96364c"
      },
      "execution_count": null,
      "outputs": [
        {
          "output_type": "execute_result",
          "data": {
            "text/plain": [
              "True"
            ]
          },
          "metadata": {},
          "execution_count": 39
        }
      ]
    },
    {
      "cell_type": "code",
      "source": [
        "'''\n",
        "Verdadeiro ou Verdadeiro = Verdadeiro\n",
        "Verdadeiro ou Falso = Verdadeiro\n",
        "Falso ou Verdadeiro = Verdadeiro\n",
        "Falso ou Falso = Falso\n",
        "'''"
      ],
      "metadata": {
        "id": "AmFqUWqfZBlE"
      },
      "execution_count": null,
      "outputs": []
    },
    {
      "cell_type": "markdown",
      "source": [
        "##4.4 - Operadores de Atribuição"
      ],
      "metadata": {
        "id": "eQAFKkWlbjCj"
      }
    },
    {
      "cell_type": "code",
      "source": [
        "#Atribuição Simples\n",
        "x = 2\n",
        "print (x)"
      ],
      "metadata": {
        "colab": {
          "base_uri": "https://localhost:8080/"
        },
        "id": "5PI5DJSZbpc0",
        "outputId": "3ab23e7e-b5db-4798-d227-fd3f672dbf18"
      },
      "execution_count": null,
      "outputs": [
        {
          "output_type": "stream",
          "name": "stdout",
          "text": [
            "2\n"
          ]
        }
      ]
    },
    {
      "cell_type": "code",
      "source": [
        "#Adiciona e atribui\n",
        "x = 3\n",
        "#x = x (3) + 1\n",
        "x += 1\n",
        "print(x)"
      ],
      "metadata": {
        "colab": {
          "base_uri": "https://localhost:8080/"
        },
        "id": "BnS4Rl4kbz9b",
        "outputId": "54ebe982-9497-4f26-ae4f-3791286c997b"
      },
      "execution_count": null,
      "outputs": [
        {
          "output_type": "stream",
          "name": "stdout",
          "text": [
            "4\n"
          ]
        }
      ]
    },
    {
      "cell_type": "code",
      "source": [
        "#Subtrai e atribui\n",
        "x = 4\n",
        "#Atribui a X o valor de X e subtraii 2\n",
        "x -= 2\n",
        "print(x)"
      ],
      "metadata": {
        "colab": {
          "base_uri": "https://localhost:8080/"
        },
        "id": "LuhSHM9KcOwU",
        "outputId": "35fb82e7-b7b5-4373-a7ed-c619cf263a95"
      },
      "execution_count": null,
      "outputs": [
        {
          "output_type": "stream",
          "name": "stdout",
          "text": [
            "2\n"
          ]
        }
      ]
    },
    {
      "cell_type": "code",
      "source": [
        "#Multiplica e atribui\n",
        "x = 2\n",
        "x *= 4\n",
        "print(x)"
      ],
      "metadata": {
        "colab": {
          "base_uri": "https://localhost:8080/"
        },
        "id": "6olOBMVqclu7",
        "outputId": "a3906956-2f5c-4961-b9d1-f274df79dc81"
      },
      "execution_count": null,
      "outputs": [
        {
          "output_type": "stream",
          "name": "stdout",
          "text": [
            "8\n"
          ]
        }
      ]
    },
    {
      "cell_type": "code",
      "source": [
        "#Divide a atribui\n",
        "x = 8\n",
        "#Atribui a x o valor de x e divide por 4\n",
        "x /= 4\n",
        "print(x)"
      ],
      "metadata": {
        "colab": {
          "base_uri": "https://localhost:8080/"
        },
        "id": "YsEmH2a3dBSD",
        "outputId": "db693784-71d4-4e06-8b82-88d3481d6787"
      },
      "execution_count": null,
      "outputs": [
        {
          "output_type": "stream",
          "name": "stdout",
          "text": [
            "2.0\n"
          ]
        }
      ]
    },
    {
      "cell_type": "code",
      "source": [
        "#Divisão inteira e atribui\n",
        "x = 5\n",
        "#ATribuii a x o valr de X e fz a divisão por2\n",
        "x //=2\n",
        "print(x)"
      ],
      "metadata": {
        "colab": {
          "base_uri": "https://localhost:8080/"
        },
        "id": "z3NRwlXrdb_L",
        "outputId": "1c5c63de-f4d6-4553-a11f-5d036bb14c16"
      },
      "execution_count": null,
      "outputs": [
        {
          "output_type": "stream",
          "name": "stdout",
          "text": [
            "2\n"
          ]
        }
      ]
    },
    {
      "cell_type": "code",
      "source": [
        "#Modulo e atribui\n",
        "x = 9\n",
        "\n",
        "x %= 3\n",
        "print(x)"
      ],
      "metadata": {
        "colab": {
          "base_uri": "https://localhost:8080/"
        },
        "id": "Oowbo-pGduX4",
        "outputId": "0f8e9462-1dd3-4b92-e1e3-56f8b36f09d3"
      },
      "execution_count": null,
      "outputs": [
        {
          "output_type": "stream",
          "name": "stdout",
          "text": [
            "0\n"
          ]
        }
      ]
    },
    {
      "cell_type": "code",
      "source": [
        "#exponencia e atribui\n",
        "x = 2\n",
        "#Atribuo a x o valor de x e faço a potenciaçãoa por 3\n",
        "x **= 3\n",
        "print(x)"
      ],
      "metadata": {
        "colab": {
          "base_uri": "https://localhost:8080/"
        },
        "id": "rVfFRINnd6Ar",
        "outputId": "9812d419-3f3d-479a-9f04-5a07c9126e43"
      },
      "execution_count": null,
      "outputs": [
        {
          "output_type": "stream",
          "name": "stdout",
          "text": [
            "8\n"
          ]
        }
      ]
    },
    {
      "cell_type": "markdown",
      "source": [
        "#5 - Input"
      ],
      "metadata": {
        "id": "cD969IL3fSXr"
      }
    },
    {
      "cell_type": "code",
      "source": [
        "'''\n",
        "Usaremos para receber entradas de dados do usuário\n",
        "Sempre retorna uma string, mas podemos converter para outros tipos de dados\n",
        "'''\n",
        "nome = input('Qual o seu nome? ')\n",
        "print('Olá', nome)"
      ],
      "metadata": {
        "colab": {
          "base_uri": "https://localhost:8080/"
        },
        "id": "ULpm1-fRfV1V",
        "outputId": "78186f95-0e54-4ddb-e9e4-ddbcaebc80bd"
      },
      "execution_count": null,
      "outputs": [
        {
          "output_type": "stream",
          "name": "stdout",
          "text": [
            "Qual o seu nome? Agnaldo\n",
            "Olá Agnaldo\n"
          ]
        }
      ]
    },
    {
      "cell_type": "code",
      "source": [
        "type (nome)"
      ],
      "metadata": {
        "colab": {
          "base_uri": "https://localhost:8080/"
        },
        "id": "IWTuyzdsgG1u",
        "outputId": "b5d242f7-97ec-4a28-f605-734a878c4348"
      },
      "execution_count": null,
      "outputs": [
        {
          "output_type": "execute_result",
          "data": {
            "text/plain": [
              "str"
            ]
          },
          "metadata": {},
          "execution_count": 49
        }
      ]
    },
    {
      "cell_type": "code",
      "source": [
        "peso = input('Qual o seu peso? ')\n",
        "print('O peso é', peso)"
      ],
      "metadata": {
        "colab": {
          "base_uri": "https://localhost:8080/"
        },
        "id": "hse18upGgeJr",
        "outputId": "9f2ec1d3-bc1a-420c-9ff6-7dcb03f97bf1"
      },
      "execution_count": null,
      "outputs": [
        {
          "output_type": "stream",
          "name": "stdout",
          "text": [
            "Qual o seu peso? 60\n",
            "O peso é 60\n"
          ]
        }
      ]
    },
    {
      "cell_type": "code",
      "source": [
        "type(peso)"
      ],
      "metadata": {
        "colab": {
          "base_uri": "https://localhost:8080/"
        },
        "id": "E6K8aKgMhAn8",
        "outputId": "44249297-7658-46ff-81ff-57b28a6faacd"
      },
      "execution_count": null,
      "outputs": [
        {
          "output_type": "execute_result",
          "data": {
            "text/plain": [
              "str"
            ]
          },
          "metadata": {},
          "execution_count": 51
        }
      ]
    },
    {
      "cell_type": "code",
      "source": [
        "peso = float(input('Qual o seu peso? '))\n",
        "print('O peso é', peso)"
      ],
      "metadata": {
        "colab": {
          "base_uri": "https://localhost:8080/"
        },
        "id": "-_NGPgT1hQ4z",
        "outputId": "bde93229-a1cf-4639-8ac5-3a2109fc59c9"
      },
      "execution_count": null,
      "outputs": [
        {
          "output_type": "stream",
          "name": "stdout",
          "text": [
            "Qual o seu peso? 60\n",
            "O peso é 60.0\n"
          ]
        }
      ]
    },
    {
      "cell_type": "code",
      "source": [
        "type(peso)"
      ],
      "metadata": {
        "colab": {
          "base_uri": "https://localhost:8080/"
        },
        "id": "h8X6RqBAhdE0",
        "outputId": "a157f9ff-2756-44e9-a2ee-b2ec9a16afa9"
      },
      "execution_count": null,
      "outputs": [
        {
          "output_type": "execute_result",
          "data": {
            "text/plain": [
              "float"
            ]
          },
          "metadata": {},
          "execution_count": 53
        }
      ]
    },
    {
      "cell_type": "code",
      "source": [
        "idade = int(input('Qual a sua idade? '))\n",
        "print('A idade é', idade)"
      ],
      "metadata": {
        "colab": {
          "base_uri": "https://localhost:8080/"
        },
        "id": "jRJ15MXQh0Kb",
        "outputId": "5c759db6-399a-4021-82da-dda7f9296061"
      },
      "execution_count": null,
      "outputs": [
        {
          "output_type": "stream",
          "name": "stdout",
          "text": [
            "Qual a sua idade? 50\n",
            "A idade é 50\n"
          ]
        }
      ]
    },
    {
      "cell_type": "code",
      "source": [
        "type(idade)"
      ],
      "metadata": {
        "colab": {
          "base_uri": "https://localhost:8080/"
        },
        "id": "AUpLE0N8h7-T",
        "outputId": "cb27dcfd-59a6-425e-9331-91fb68438a50"
      },
      "execution_count": null,
      "outputs": [
        {
          "output_type": "execute_result",
          "data": {
            "text/plain": [
              "int"
            ]
          },
          "metadata": {},
          "execution_count": 55
        }
      ]
    },
    {
      "cell_type": "code",
      "source": [
        "'''\n",
        "Imagine que voce precisa calcular o imc do cliente e armazenar\n",
        "o imc numa variavel\n",
        "imc = peso/altura**2\n",
        "'''\n",
        "peso = float(input('Qual o seu peso? '))\n",
        "altura = float(input('Qual a sua altura? '))\n",
        "imc = peso/altura**2\n",
        "print('O IMC é', round(imc,2))"
      ],
      "metadata": {
        "colab": {
          "base_uri": "https://localhost:8080/"
        },
        "id": "qnv5AnJliK1L",
        "outputId": "0f47e282-9278-4aa5-81be-84eb253a01a6"
      },
      "execution_count": null,
      "outputs": [
        {
          "output_type": "stream",
          "name": "stdout",
          "text": [
            "Qual o seu peso? 60\n",
            "Qual a sua altura? 1.75\n",
            "O IMC é 19.59\n"
          ]
        }
      ]
    },
    {
      "cell_type": "markdown",
      "source": [
        "#6 - Print"
      ],
      "metadata": {
        "id": "f0G9klWAsFVB"
      }
    },
    {
      "cell_type": "code",
      "source": [
        "'''\n",
        "A forma mais simples de se trabalhar com o print é passando um\n",
        "ou mais valores como argumento\n",
        "'''\n",
        "print('Olá Mundo')"
      ],
      "metadata": {
        "colab": {
          "base_uri": "https://localhost:8080/"
        },
        "id": "aWtERwhysJDP",
        "outputId": "f3bad2d4-1e47-4c15-ae45-27e69264afae"
      },
      "execution_count": null,
      "outputs": [
        {
          "output_type": "stream",
          "name": "stdout",
          "text": [
            "Olá Mundo\n"
          ]
        }
      ]
    },
    {
      "cell_type": "code",
      "source": [
        "\n",
        "print('Meu nome é','Agnaldo','tenho 50 anos')"
      ],
      "metadata": {
        "colab": {
          "base_uri": "https://localhost:8080/"
        },
        "id": "Z8RuMwFhsnEv",
        "outputId": "6ccb49bd-c4cb-4398-dd5d-825a3e63fa8a"
      },
      "execution_count": null,
      "outputs": [
        {
          "output_type": "stream",
          "name": "stdout",
          "text": [
            "Meu nome é Agnaldo tenho 50 anos\n"
          ]
        }
      ]
    },
    {
      "cell_type": "code",
      "source": [
        "nome = 'Agnaldo'\n",
        "idade = 50\n",
        "print('Meu nome é',nome,'tenho',idade,'anos')"
      ],
      "metadata": {
        "colab": {
          "base_uri": "https://localhost:8080/"
        },
        "id": "lWNNSUHws5HG",
        "outputId": "5c6c302b-101f-4e0c-aa12-0cb923441d8d"
      },
      "execution_count": null,
      "outputs": [
        {
          "output_type": "stream",
          "name": "stdout",
          "text": [
            "Meu nome é Agnaldo tenho 50 anos\n"
          ]
        }
      ]
    },
    {
      "cell_type": "code",
      "source": [
        "'''\n",
        "Por padrão o print() separa os argumentos com um espaço, mas podemos mudar isso\n",
        "'''\n",
        "print(\"Python\",\"é\",\"massa\",sep=\"-\")"
      ],
      "metadata": {
        "colab": {
          "base_uri": "https://localhost:8080/"
        },
        "id": "xrkOSVb3tOpx",
        "outputId": "e041b792-fefa-45a8-f87a-a30b2e89cac8"
      },
      "execution_count": null,
      "outputs": [
        {
          "output_type": "stream",
          "name": "stdout",
          "text": [
            "Python-é-massa\n"
          ]
        }
      ]
    },
    {
      "cell_type": "code",
      "source": [
        "dia = 18\n",
        "mes = 3\n",
        "ano = 2025\n",
        "print(dia,mes,ano,sep=\"/\")"
      ],
      "metadata": {
        "colab": {
          "base_uri": "https://localhost:8080/"
        },
        "id": "60WRJTW6tq74",
        "outputId": "f073fdf4-04b2-4f3e-eebb-0410e78e5207"
      },
      "execution_count": null,
      "outputs": [
        {
          "output_type": "stream",
          "name": "stdout",
          "text": [
            "18/3/2025\n"
          ]
        }
      ]
    },
    {
      "cell_type": "code",
      "source": [
        "print (\"Oresultado é:\", end=\" \")\n",
        "print(42)"
      ],
      "metadata": {
        "colab": {
          "base_uri": "https://localhost:8080/"
        },
        "id": "ShXqrH4Tt8rI",
        "outputId": "2ac8a92a-b969-4510-b1f7-0ac3eccf1629"
      },
      "execution_count": null,
      "outputs": [
        {
          "output_type": "stream",
          "name": "stdout",
          "text": [
            "Oresultado é: 42\n"
          ]
        }
      ]
    },
    {
      "cell_type": "code",
      "source": [
        "print(\"Carregando\", end=\"...\")\n",
        "print(\"Pronto!\")"
      ],
      "metadata": {
        "colab": {
          "base_uri": "https://localhost:8080/"
        },
        "id": "9nI1-rDyuV7G",
        "outputId": "52521902-a69d-40c1-b9dd-caeaaffb6507"
      },
      "execution_count": null,
      "outputs": [
        {
          "output_type": "stream",
          "name": "stdout",
          "text": [
            "Carregando...Pronto!\n"
          ]
        }
      ]
    },
    {
      "cell_type": "code",
      "source": [
        "'''\n",
        "No print podemos realizar a concatenação de string\n",
        "Tudo tem que ser string\n",
        "'''\n",
        "nome = 'Agnaldo'\n",
        "print('Olá, '+ nome + '!')"
      ],
      "metadata": {
        "colab": {
          "base_uri": "https://localhost:8080/"
        },
        "id": "j0CybAaPugWd",
        "outputId": "2a56f39c-593e-4fe1-eafb-90cb40306124"
      },
      "execution_count": null,
      "outputs": [
        {
          "output_type": "stream",
          "name": "stdout",
          "text": [
            "Olá, Agnaldo!\n"
          ]
        }
      ]
    },
    {
      "cell_type": "code",
      "source": [
        "#O exemplo abaixo retorna errp, pois só podemos concatenar strings\n",
        "idade = 25\n",
        "print(\"Idade: \"+idade)"
      ],
      "metadata": {
        "colab": {
          "base_uri": "https://localhost:8080/",
          "height": 159
        },
        "id": "UFEgt1XXvQVv",
        "outputId": "8bf0c23d-5e13-4d30-8856-6c7e848415de"
      },
      "execution_count": null,
      "outputs": [
        {
          "output_type": "error",
          "ename": "TypeError",
          "evalue": "can only concatenate str (not \"int\") to str",
          "traceback": [
            "\u001b[0;31m---------------------------------------------------------------------------\u001b[0m",
            "\u001b[0;31mTypeError\u001b[0m                                 Traceback (most recent call last)",
            "\u001b[0;32m<ipython-input-67-10d4df05c918>\u001b[0m in \u001b[0;36m<cell line: 0>\u001b[0;34m()\u001b[0m\n\u001b[1;32m      1\u001b[0m \u001b[0midade\u001b[0m \u001b[0;34m=\u001b[0m \u001b[0;36m25\u001b[0m\u001b[0;34m\u001b[0m\u001b[0;34m\u001b[0m\u001b[0m\n\u001b[0;32m----> 2\u001b[0;31m \u001b[0mprint\u001b[0m\u001b[0;34m(\u001b[0m\u001b[0;34m\"Idade: \"\u001b[0m\u001b[0;34m+\u001b[0m\u001b[0midade\u001b[0m\u001b[0;34m)\u001b[0m\u001b[0;34m\u001b[0m\u001b[0;34m\u001b[0m\u001b[0m\n\u001b[0m",
            "\u001b[0;31mTypeError\u001b[0m: can only concatenate str (not \"int\") to str"
          ]
        }
      ]
    },
    {
      "cell_type": "code",
      "source": [
        "#cONVERTENDO A IDADE para string, funciona\n",
        "print(\"Idade: \"+str(idade))"
      ],
      "metadata": {
        "colab": {
          "base_uri": "https://localhost:8080/"
        },
        "id": "A708m9YtvveB",
        "outputId": "fe998108-c45e-4165-abe3-0e8e6081464e"
      },
      "execution_count": null,
      "outputs": [
        {
          "output_type": "stream",
          "name": "stdout",
          "text": [
            "Idade: 25\n"
          ]
        }
      ]
    },
    {
      "cell_type": "code",
      "source": [
        "#Podemos quebrar linhas com o \\n\n",
        "print('linha1\\nLinha2\\nLinha3\\n')"
      ],
      "metadata": {
        "colab": {
          "base_uri": "https://localhost:8080/"
        },
        "id": "OydeoXRZwmLI",
        "outputId": "a2d2ffde-f811-423d-b318-191566ca3305"
      },
      "execution_count": null,
      "outputs": [
        {
          "output_type": "stream",
          "name": "stdout",
          "text": [
            "linha1\n",
            "Linha2\n",
            "Linha3\n",
            "\n"
          ]
        }
      ]
    },
    {
      "cell_type": "code",
      "source": [
        "#Também temos o \\t para tabulação\n",
        "print('Nome: \\tAgnaldo')\n",
        "print('Idade: \\t50')"
      ],
      "metadata": {
        "colab": {
          "base_uri": "https://localhost:8080/"
        },
        "id": "HZZhdsDhw4YN",
        "outputId": "490008b3-f339-4e00-bed1-2963e524c9bc"
      },
      "execution_count": null,
      "outputs": [
        {
          "output_type": "stream",
          "name": "stdout",
          "text": [
            "Nome: \tAgnaldo\n",
            "Idade: \t50\n"
          ]
        }
      ]
    },
    {
      "cell_type": "markdown",
      "source": [
        "##6.1 - F-String"
      ],
      "metadata": {
        "id": "sYq9oboYxUV1"
      }
    },
    {
      "cell_type": "code",
      "source": [
        "# As F-strings são a forma mais moderna e recomendada de formatar string\n",
        "#colocar um f antes da string e incluir as variaveis entre {}\n",
        "nome = 'Agnaldo'\n",
        "idade = 50\n",
        "altura = 1.65\n",
        "peso = 60\n",
        "\n",
        "print(f'O nome do cliente é {nome}, a idade é {idade} anos, a altura é {altura} e o peso é {peso}kg')"
      ],
      "metadata": {
        "colab": {
          "base_uri": "https://localhost:8080/"
        },
        "id": "3QI63_hQxarv",
        "outputId": "c0770fdd-4d63-4bd3-ed5c-3ba6191d2836"
      },
      "execution_count": null,
      "outputs": [
        {
          "output_type": "stream",
          "name": "stdout",
          "text": [
            "O nome do cliente é Agnaldo, a idade é 50 anos, a altura é 1.65 e o peso é 60kg\n"
          ]
        }
      ]
    },
    {
      "cell_type": "code",
      "source": [
        "#usando a quebra de linha ea tabulação numa f-string\n",
        "\n",
        "print(f'Nome:\\t{nome}\\nIdade:\\t{idade}')"
      ],
      "metadata": {
        "colab": {
          "base_uri": "https://localhost:8080/"
        },
        "id": "EAM_nOhJy6Om",
        "outputId": "c0656439-5ab6-4be9-f72b-5e6730f15e73"
      },
      "execution_count": null,
      "outputs": [
        {
          "output_type": "stream",
          "name": "stdout",
          "text": [
            "Nome:\tAgnaldo\n",
            "Idade:\t50\n"
          ]
        }
      ]
    },
    {
      "cell_type": "markdown",
      "source": [
        "##6.2 - Método Format"
      ],
      "metadata": {
        "id": "ABAy9Ufnzlcf"
      }
    },
    {
      "cell_type": "code",
      "source": [
        "#Não é mais tão usado\n",
        "\n",
        "print('Olá, meu nome é {} eu tenho {}'.format(nome,idade))"
      ],
      "metadata": {
        "colab": {
          "base_uri": "https://localhost:8080/"
        },
        "id": "IVG08iuyzsi_",
        "outputId": "6c5b6528-3b46-4178-c84e-e58f50f58dd3"
      },
      "execution_count": null,
      "outputs": [
        {
          "output_type": "stream",
          "name": "stdout",
          "text": [
            "Olá, meu nome é Agnaldo eu tenho 50\n"
          ]
        }
      ]
    },
    {
      "cell_type": "markdown",
      "source": [
        "#7 - Round"
      ],
      "metadata": {
        "id": "njfg-amZ0Icw"
      }
    },
    {
      "cell_type": "code",
      "source": [
        "#É  uma função de arredondamento que recebe uma variavel e quantidade de casas decimais\n",
        "\n",
        "peso = float(input('Qual o seu peso? '))\n",
        "altura = float(input('Qual a sua altura? '))\n",
        "imc = peso/altura**2\n",
        "print(f'O IMC do cliente é {round(imc,2)}')# arredondando para 2 casa decimais"
      ],
      "metadata": {
        "colab": {
          "base_uri": "https://localhost:8080/"
        },
        "id": "blzLBtdu0Mgg",
        "outputId": "3644d158-788b-45f5-edef-110f3f7b1148"
      },
      "execution_count": null,
      "outputs": [
        {
          "output_type": "stream",
          "name": "stdout",
          "text": [
            "Qual o seu peso? 60\n",
            "Qual a sua altura? 1.65\n",
            "O IMC do cliente é 22.04\n"
          ]
        }
      ]
    },
    {
      "cell_type": "code",
      "source": [
        "'''\n",
        "Peça o ano de nascimento do usuario e calcule a sua idade aproximada\n",
        "'''\n",
        "\n",
        "ano_nascimento = int(input('Qual o seu ano de nascimento? '))\n",
        "ano_atual = 2025\n",
        "idade = ano_atual - ano_nascimento\n",
        "print(f'A sua idade é {idade} anos')"
      ],
      "metadata": {
        "colab": {
          "base_uri": "https://localhost:8080/"
        },
        "id": "A4l-ZlE91e0h",
        "outputId": "d17f0f2d-a81f-48ba-cd12-f9148b396669"
      },
      "execution_count": null,
      "outputs": [
        {
          "output_type": "stream",
          "name": "stdout",
          "text": [
            "Qual o seu ano de nascimento? 1975\n",
            "A sua idade é 50 anos\n"
          ]
        }
      ]
    },
    {
      "cell_type": "markdown",
      "source": [
        "#8 - Métodos de String"
      ],
      "metadata": {
        "id": "PlCgeboF3DZp"
      }
    },
    {
      "cell_type": "markdown",
      "source": [
        "##8.1 - Fatiamento de Strings(slicing)"
      ],
      "metadata": {
        "id": "2LKSf8-r3Iuu"
      }
    },
    {
      "cell_type": "code",
      "source": [
        "# -14 -13 -12 -11 -10 -9 -8 -7 -6 -5   -4   -3   -2 -1 (índice reverso - como o python pensa)\n",
        "#   0   1   2   3   4  5  6  7  8  9   10  11  12   13 (índice - como o python pensa)\n",
        "#  1º  2º  3º  4º  5º 6º 7º 8º 9º 10º  11º 12º 13º 14º (ordinal - como nós pensamos)\n",
        "#  d   o   u   g   @  g  m  a  i   l   .    c   o  m\n"
      ],
      "metadata": {
        "id": "ExvLGHIY3S4J"
      },
      "execution_count": null,
      "outputs": []
    },
    {
      "cell_type": "code",
      "source": [
        "email = 'doug@gmail.com'"
      ],
      "metadata": {
        "id": "nv6cl93n4deo"
      },
      "execution_count": null,
      "outputs": []
    },
    {
      "cell_type": "code",
      "source": [
        "#Qual é a 5 letra desta string\n",
        "email[4]"
      ],
      "metadata": {
        "colab": {
          "base_uri": "https://localhost:8080/",
          "height": 35
        },
        "id": "4I9scQ2V4mRs",
        "outputId": "5c7a3a09-be20-4b16-e899-7c1300e2b4b2"
      },
      "execution_count": null,
      "outputs": [
        {
          "output_type": "execute_result",
          "data": {
            "text/plain": [
              "'@'"
            ],
            "application/vnd.google.colaboratory.intrinsic+json": {
              "type": "string"
            }
          },
          "metadata": {},
          "execution_count": 82
        }
      ]
    },
    {
      "cell_type": "code",
      "source": [
        "#Pegar a ultima letra da string\n",
        "print(email[-1])\n",
        "print(email[13])"
      ],
      "metadata": {
        "colab": {
          "base_uri": "https://localhost:8080/"
        },
        "id": "rr7IhGDx430q",
        "outputId": "092c95ca-9aca-4ca0-e783-c19761d230a1"
      },
      "execution_count": null,
      "outputs": [
        {
          "output_type": "stream",
          "name": "stdout",
          "text": [
            "m\n",
            "m\n"
          ]
        }
      ]
    },
    {
      "cell_type": "code",
      "source": [
        "#pega o primeiro caracter\n",
        "print(email[0])"
      ],
      "metadata": {
        "colab": {
          "base_uri": "https://localhost:8080/"
        },
        "id": "XZP549Yk5hVp",
        "outputId": "dd73063e-e64c-439d-c635-8636025f6886"
      },
      "execution_count": null,
      "outputs": [
        {
          "output_type": "stream",
          "name": "stdout",
          "text": [
            "d\n"
          ]
        }
      ]
    },
    {
      "cell_type": "code",
      "source": [
        "#Crie umam variavel chamada setima, ela deve ter o 7 caracter do nosso emai\n",
        "\n",
        "setima = email[6]\n",
        "print(setima)"
      ],
      "metadata": {
        "colab": {
          "base_uri": "https://localhost:8080/"
        },
        "id": "99J5NxOP51Mm",
        "outputId": "5bb526c5-ba04-429e-d103-fa6250b952d1"
      },
      "execution_count": null,
      "outputs": [
        {
          "output_type": "stream",
          "name": "stdout",
          "text": [
            "m\n"
          ]
        }
      ]
    },
    {
      "cell_type": "code",
      "source": [
        "'''\n",
        "Imagine que você deseja criar uma variável que armazena todos os caracteres depois\n",
        "do @.\n",
        "\n",
        "Para isso podemos utilizar o fatiamento. Como funciona:\n",
        "\n",
        "O que vem antes dos : marca o inicio do fatiamento e é inclusivo.\n",
        "O que vem depois dos : marca o fim do fatiamento e é exclusivo (Pega até um\n",
        "antes do número informado)\n",
        "'''\n",
        "\n",
        "email='doug@gmail.com'\n",
        "provedor = email[5:13]\n",
        "print(provedor)"
      ],
      "metadata": {
        "colab": {
          "base_uri": "https://localhost:8080/"
        },
        "id": "l3kXInF86oFl",
        "outputId": "443839cd-9f65-4415-c47b-e8369c7cbcc0"
      },
      "execution_count": null,
      "outputs": [
        {
          "output_type": "stream",
          "name": "stdout",
          "text": [
            "gmail.co\n"
          ]
        }
      ]
    },
    {
      "cell_type": "code",
      "source": [
        "'''\n",
        "Para termos o comportamento esperado, teriamos que adicionar 1 ao indice final\n",
        "'''\n",
        "print(email[5:14])"
      ],
      "metadata": {
        "colab": {
          "base_uri": "https://localhost:8080/"
        },
        "id": "1bY4KtS_74Zr",
        "outputId": "e3313abf-2030-4f1b-cf5a-24c1f60706a0"
      },
      "execution_count": null,
      "outputs": [
        {
          "output_type": "stream",
          "name": "stdout",
          "text": [
            "gmail.com\n"
          ]
        }
      ]
    },
    {
      "cell_type": "code",
      "source": [
        "'''\n",
        "Podemos omitir o indie de termino, desse modo ele pega até o final\n",
        "'''\n",
        "print(email[5:])"
      ],
      "metadata": {
        "colab": {
          "base_uri": "https://localhost:8080/"
        },
        "id": "u1TRE49C8C52",
        "outputId": "6f8d226c-0e37-49ae-ac52-f787924033a8"
      },
      "execution_count": null,
      "outputs": [
        {
          "output_type": "stream",
          "name": "stdout",
          "text": [
            "gmail.com\n"
          ]
        }
      ]
    },
    {
      "cell_type": "code",
      "source": [
        "# string[start:stop:step]\n",
        "#start : Marca o inicio\n",
        "#stop: Marca o fim\n",
        "#step: é de quantos em quantos\n",
        "\n",
        "print(email)\n",
        "print(email[::2])"
      ],
      "metadata": {
        "colab": {
          "base_uri": "https://localhost:8080/"
        },
        "id": "tyf3ig-p9OYq",
        "outputId": "b7b31476-e4b4-46c3-c7e3-3418daee660b"
      },
      "execution_count": null,
      "outputs": [
        {
          "output_type": "stream",
          "name": "stdout",
          "text": [
            "doug@gmail.com\n",
            "du@mi.o\n"
          ]
        }
      ]
    },
    {
      "cell_type": "code",
      "source": [
        "#inverte a string\n",
        "#Pode ser usado para identificar se a palavra é um palindromo\n",
        "\n",
        "print(email[::-1])"
      ],
      "metadata": {
        "colab": {
          "base_uri": "https://localhost:8080/"
        },
        "id": "bcaZxx9T92u7",
        "outputId": "8ed2788c-b611-4e2d-aae3-cdea7b0c369a"
      },
      "execution_count": null,
      "outputs": [
        {
          "output_type": "stream",
          "name": "stdout",
          "text": [
            "moc.liamg@guod\n"
          ]
        }
      ]
    },
    {
      "cell_type": "code",
      "source": [
        "'''\n",
        "Uma placa de carro tem o formato \"ABC-1234\"\n",
        "Extraia apenas os numeros da placa usando slicing.\n",
        "Exemplo: No caso da placa acima, a saída deve ser \"1234\"\n",
        "'''\n",
        "placa = 'ABC-1234'\n",
        "print(placa[4:])\n",
        "print(placa[4:8])"
      ],
      "metadata": {
        "colab": {
          "base_uri": "https://localhost:8080/"
        },
        "id": "yEjQ31e9-T7F",
        "outputId": "0a01c93a-e600-4783-dd0e-397a5b58403b"
      },
      "execution_count": null,
      "outputs": [
        {
          "output_type": "stream",
          "name": "stdout",
          "text": [
            "1234\n",
            "1234\n"
          ]
        }
      ]
    },
    {
      "cell_type": "markdown",
      "source": [
        "##8.2 - Operador IN"
      ],
      "metadata": {
        "id": "XB35jL3VVvp-"
      }
    },
    {
      "cell_type": "code",
      "source": [
        "#O operado IN é utilizado para verificar se um valor esta presenete em uma seeqquencia\n",
        "# essa sequencia pode ser uma string, uma lista uma tuplia ou até mesmo um dicionario.\n",
        "#Retorna um valor booleanno: True ou false\n",
        "\n",
        "email = 'nathan@gmail.com'\n",
        "\n",
        "'@' in email"
      ],
      "metadata": {
        "colab": {
          "base_uri": "https://localhost:8080/"
        },
        "id": "XrXckVGbV1H6",
        "outputId": "0385ee04-8b96-4707-a1ec-efa74656380b"
      },
      "execution_count": null,
      "outputs": [
        {
          "output_type": "execute_result",
          "data": {
            "text/plain": [
              "True"
            ]
          },
          "metadata": {},
          "execution_count": 4
        }
      ]
    },
    {
      "cell_type": "code",
      "source": [
        "email = 'nathan@gmail.com'\n",
        "\n",
        "'X' in email"
      ],
      "metadata": {
        "colab": {
          "base_uri": "https://localhost:8080/"
        },
        "id": "O6K6HaF5WwmH",
        "outputId": "336a9528-734a-44de-c30b-0418349b2194"
      },
      "execution_count": null,
      "outputs": [
        {
          "output_type": "execute_result",
          "data": {
            "text/plain": [
              "False"
            ]
          },
          "metadata": {},
          "execution_count": 2
        }
      ]
    },
    {
      "cell_type": "code",
      "source": [
        "email = 'nathan@gmail.com'\n",
        "\n",
        "'N' in email"
      ],
      "metadata": {
        "colab": {
          "base_uri": "https://localhost:8080/"
        },
        "id": "OEjWqCYJW4J6",
        "outputId": "98e49329-5ef0-4f14-c536-4b9a4e692446"
      },
      "execution_count": null,
      "outputs": [
        {
          "output_type": "execute_result",
          "data": {
            "text/plain": [
              "False"
            ]
          },
          "metadata": {},
          "execution_count": 3
        }
      ]
    },
    {
      "cell_type": "code",
      "source": [
        "#Verifique se um nomme de um produto ocontem a palavra promoção.\n",
        "\n",
        "produto = 'Liquidificador em promoção'\n",
        "\n",
        "'promoção' in produto"
      ],
      "metadata": {
        "colab": {
          "base_uri": "https://localhost:8080/"
        },
        "id": "ccSkzWxWXD1z",
        "outputId": "6abedb6a-9a16-4511-885e-2be24ae6008e"
      },
      "execution_count": null,
      "outputs": [
        {
          "output_type": "execute_result",
          "data": {
            "text/plain": [
              "True"
            ]
          },
          "metadata": {},
          "execution_count": 4
        }
      ]
    },
    {
      "cell_type": "markdown",
      "source": [
        "##8.3 - Startswith"
      ],
      "metadata": {
        "id": "kIErBKzvXdD6"
      }
    },
    {
      "cell_type": "code",
      "source": [
        "#Checa se uma string começa com algum caracter ou conjunto de\n",
        "#caracteres.\n",
        "\n",
        "email = 'nathan@gmail.com'\n",
        "email.startswith('pedro')"
      ],
      "metadata": {
        "colab": {
          "base_uri": "https://localhost:8080/"
        },
        "id": "1Kr2alz_Xj4U",
        "outputId": "d552afdc-419d-4f38-f8a5-d4ea88b047d9"
      },
      "execution_count": null,
      "outputs": [
        {
          "output_type": "execute_result",
          "data": {
            "text/plain": [
              "False"
            ]
          },
          "metadata": {},
          "execution_count": 9
        }
      ]
    },
    {
      "cell_type": "code",
      "source": [
        "#Podemos procurar por um caracter apenas\n",
        "email.startswith('n')"
      ],
      "metadata": {
        "colab": {
          "base_uri": "https://localhost:8080/"
        },
        "id": "X2OGrNLVX5fS",
        "outputId": "61b73713-0e6b-4204-80cb-68185e93f1bd"
      },
      "execution_count": null,
      "outputs": [
        {
          "output_type": "execute_result",
          "data": {
            "text/plain": [
              "True"
            ]
          },
          "metadata": {},
          "execution_count": 6
        }
      ]
    },
    {
      "cell_type": "code",
      "source": [
        "#podemos procurar por um conjunto de caracteres\n",
        "email.startswith('gmail')"
      ],
      "metadata": {
        "colab": {
          "base_uri": "https://localhost:8080/"
        },
        "id": "tHJv3oYcYCg6",
        "outputId": "e936e53f-515f-4006-b400-0cbd1cefccb8"
      },
      "execution_count": null,
      "outputs": [
        {
          "output_type": "execute_result",
          "data": {
            "text/plain": [
              "False"
            ]
          },
          "metadata": {},
          "execution_count": 7
        }
      ]
    },
    {
      "cell_type": "code",
      "source": [
        "#Verifique se um numero de tlefone começa com o DDD 11\n",
        "#Exemplo 11-91234-5678\n",
        "\n",
        "telefone = '11-91234-5678'\n",
        "telefone.startswith('11')"
      ],
      "metadata": {
        "colab": {
          "base_uri": "https://localhost:8080/"
        },
        "id": "n_Fh_zgqYQH8",
        "outputId": "eafa3f51-ebb7-4862-a065-023ffc36a98c"
      },
      "execution_count": null,
      "outputs": [
        {
          "output_type": "execute_result",
          "data": {
            "text/plain": [
              "True"
            ]
          },
          "metadata": {},
          "execution_count": 8
        }
      ]
    },
    {
      "cell_type": "markdown",
      "source": [
        "##8.4 - Endswith"
      ],
      "metadata": {
        "id": "EK6k62flZWcs"
      }
    },
    {
      "cell_type": "code",
      "source": [
        "#checa se uma string termina com algum caracter ou sequencia de caracteres\n",
        "email='nathan@gmail.com'\n",
        "email.endswith('br')"
      ],
      "metadata": {
        "colab": {
          "base_uri": "https://localhost:8080/"
        },
        "id": "swgI6DqYZbcx",
        "outputId": "78b096a1-be16-4148-bb20-8bfed711c690"
      },
      "execution_count": null,
      "outputs": [
        {
          "output_type": "execute_result",
          "data": {
            "text/plain": [
              "False"
            ]
          },
          "metadata": {},
          "execution_count": 10
        }
      ]
    },
    {
      "cell_type": "code",
      "source": [
        "email.endswith('com')"
      ],
      "metadata": {
        "colab": {
          "base_uri": "https://localhost:8080/"
        },
        "id": "PZXIuQE5Zm2S",
        "outputId": "3226a984-4040-4a19-c835-0cf14e4e2c40"
      },
      "execution_count": null,
      "outputs": [
        {
          "output_type": "execute_result",
          "data": {
            "text/plain": [
              "True"
            ]
          },
          "metadata": {},
          "execution_count": 11
        }
      ]
    },
    {
      "cell_type": "markdown",
      "source": [
        "##8.5 - Captalize"
      ],
      "metadata": {
        "id": "0-0-6HWCa7py"
      }
    },
    {
      "cell_type": "code",
      "source": [
        "#Captalize é uma metodo que quando aplicado deixa apenas aprimeira letra da string\n",
        "#em maiuscula\n",
        "nome = 'nathan james'\n",
        "print(nome)"
      ],
      "metadata": {
        "colab": {
          "base_uri": "https://localhost:8080/"
        },
        "id": "W1PYzRWebFbb",
        "outputId": "7249195d-feac-490d-8725-fd51e15c1b4b"
      },
      "execution_count": null,
      "outputs": [
        {
          "output_type": "stream",
          "name": "stdout",
          "text": [
            "nathan james\n"
          ]
        }
      ]
    },
    {
      "cell_type": "code",
      "source": [
        "print(nome)\n",
        "nome2 = nome.capitalize()\n",
        "print(nome2)"
      ],
      "metadata": {
        "colab": {
          "base_uri": "https://localhost:8080/"
        },
        "id": "S8rdUfeKbSQa",
        "outputId": "495a6df2-1047-41ab-a11d-793c7a6da6ea"
      },
      "execution_count": null,
      "outputs": [
        {
          "output_type": "stream",
          "name": "stdout",
          "text": [
            "nathan james\n",
            "Nathan james\n"
          ]
        }
      ]
    },
    {
      "cell_type": "markdown",
      "source": [
        "##8.6 - Title"
      ],
      "metadata": {
        "id": "o19AtTknblwr"
      }
    },
    {
      "cell_type": "code",
      "source": [
        "#Deixa todas as primeira letras da string em maiuscula\n",
        "\n",
        "nome_completo = 'nathan james arrais vasconcelos'\n",
        "print(nome_completo)\n",
        "nome_completo2 = nome_completo.title()\n",
        "print(nome_completo2)"
      ],
      "metadata": {
        "colab": {
          "base_uri": "https://localhost:8080/"
        },
        "id": "9UXjE7RtdXqa",
        "outputId": "937985b6-9297-4542-dcec-fa4afc67f5ea"
      },
      "execution_count": null,
      "outputs": [
        {
          "output_type": "stream",
          "name": "stdout",
          "text": [
            "nathan james arrais vasconcelos\n",
            "Nathan James Arrais Vasconcelos\n"
          ]
        }
      ]
    },
    {
      "cell_type": "code",
      "source": [
        "cidade = 'rio de janeiro'\n",
        "print(cidade)\n",
        "cidade2 = cidade.title()\n",
        "print(cidade2)"
      ],
      "metadata": {
        "colab": {
          "base_uri": "https://localhost:8080/"
        },
        "id": "fvcZI7gDevMj",
        "outputId": "87a459d4-96fa-4183-9da5-17c1c319dfd9"
      },
      "execution_count": null,
      "outputs": [
        {
          "output_type": "stream",
          "name": "stdout",
          "text": [
            "rio de janeiro\n",
            "Rio De Janeiro\n"
          ]
        }
      ]
    },
    {
      "cell_type": "markdown",
      "source": [
        "##8.7 - Upper"
      ],
      "metadata": {
        "id": "Au2sRs8yfET6"
      }
    },
    {
      "cell_type": "code",
      "source": [
        "#Usamos para colocar tudo em maisuculo\n",
        "uf = 'ba'\n",
        "print(uf )\n",
        "uf = uf.upper()\n",
        "print(uf)"
      ],
      "metadata": {
        "colab": {
          "base_uri": "https://localhost:8080/"
        },
        "id": "QSnrg1q8fJaA",
        "outputId": "1a0ad265-5e9f-410b-8133-af627411effc"
      },
      "execution_count": null,
      "outputs": [
        {
          "output_type": "stream",
          "name": "stdout",
          "text": [
            "ba\n",
            "BA\n"
          ]
        }
      ]
    },
    {
      "cell_type": "markdown",
      "source": [
        "##8.8 - Lower"
      ],
      "metadata": {
        "id": "XZSM2KKUfxaw"
      }
    },
    {
      "cell_type": "code",
      "source": [
        "#Deixa o texto em minusculo\n",
        "cidade = 'SÃO PAULO'\n",
        "print(cidade)\n",
        "cidade = cidade.lower()\n",
        "print(cidade)"
      ],
      "metadata": {
        "colab": {
          "base_uri": "https://localhost:8080/"
        },
        "id": "PpjVLLFmf0fP",
        "outputId": "e643c304-110f-41b6-ac78-c87f693016c5"
      },
      "execution_count": null,
      "outputs": [
        {
          "output_type": "stream",
          "name": "stdout",
          "text": [
            "SÃO PAULO\n",
            "são paulo\n"
          ]
        }
      ]
    },
    {
      "cell_type": "markdown",
      "source": [
        "#9 - Len"
      ],
      "metadata": {
        "id": "yFm-grKXhNuo"
      }
    },
    {
      "cell_type": "code",
      "source": [
        "#Retorna o tamanho\n",
        "nome = 'Agnaldo'\n",
        "len(nome)"
      ],
      "metadata": {
        "colab": {
          "base_uri": "https://localhost:8080/"
        },
        "id": "dhArCKqvhQco",
        "outputId": "f2eacd78-700c-421c-aafb-b5eec9fe1a13"
      },
      "execution_count": null,
      "outputs": [
        {
          "output_type": "execute_result",
          "data": {
            "text/plain": [
              "7"
            ]
          },
          "metadata": {},
          "execution_count": 19
        }
      ]
    },
    {
      "cell_type": "markdown",
      "source": [
        "#10 - Estrutura de Dados"
      ],
      "metadata": {
        "id": "dfDUSX6ekDaH"
      }
    },
    {
      "cell_type": "markdown",
      "source": [
        "##10.1 - Lista"
      ],
      "metadata": {
        "id": "_tUzVNrKlTDn"
      }
    },
    {
      "cell_type": "code",
      "source": [
        "#Lista é uma coleção ordenada e mutvel de elementos, podendo conter diferntes\n",
        "#elemento de dados.\n",
        "#para declara uma lista utilizamos os [] e separamos os elementos por virgulas\n",
        "\n",
        "nomes = ['Agnaldo','João','Maria','Ailton','Agda']\n",
        "print(nomes)\n"
      ],
      "metadata": {
        "colab": {
          "base_uri": "https://localhost:8080/"
        },
        "id": "MiTifET6lW3P",
        "outputId": "da4e7ac8-d409-46e4-dd6b-19d673445ee6"
      },
      "execution_count": null,
      "outputs": [
        {
          "output_type": "stream",
          "name": "stdout",
          "text": [
            "['Agnaldo', 'João', 'Maria', 'Ailton', 'Agda']\n"
          ]
        }
      ]
    },
    {
      "cell_type": "code",
      "source": [
        "type(nomes)"
      ],
      "metadata": {
        "colab": {
          "base_uri": "https://localhost:8080/"
        },
        "id": "qjvHOiSimR7H",
        "outputId": "2556407f-37c3-4384-9649-761c05267c4a"
      },
      "execution_count": null,
      "outputs": [
        {
          "output_type": "execute_result",
          "data": {
            "text/plain": [
              "list"
            ]
          },
          "metadata": {},
          "execution_count": 22
        }
      ]
    },
    {
      "cell_type": "code",
      "source": [
        "'''\n",
        "Para consultar um elemento especifico de uma lista, utilizamos o nome dela\n",
        "e passamos entre colchetes o índice do elemento a ser consultado.\n",
        "'''\n",
        "#Usamos o índice 0 para retornar o primeiro elemento da lista.\n",
        "print(nomes[0])"
      ],
      "metadata": {
        "colab": {
          "base_uri": "https://localhost:8080/"
        },
        "id": "UDagj9VDmdYf",
        "outputId": "77567ae7-95c8-4482-e0ed-3705b131b5c4"
      },
      "execution_count": null,
      "outputs": [
        {
          "output_type": "stream",
          "name": "stdout",
          "text": [
            "Agnaldo\n"
          ]
        }
      ]
    },
    {
      "cell_type": "code",
      "source": [
        "#Usamos o índice -1 para retornar o último elemento da lista.\n",
        "print(nomes[-1])"
      ],
      "metadata": {
        "colab": {
          "base_uri": "https://localhost:8080/"
        },
        "id": "MWJ4eoBFmue2",
        "outputId": "2e985e9b-6fe1-4fdb-91a8-fcac9bfeaa65"
      },
      "execution_count": null,
      "outputs": [
        {
          "output_type": "stream",
          "name": "stdout",
          "text": [
            "Agda\n"
          ]
        }
      ]
    },
    {
      "cell_type": "code",
      "source": [
        "#Podemos checar o tipo de um elemento da lista\n",
        "type(nomes[0])"
      ],
      "metadata": {
        "colab": {
          "base_uri": "https://localhost:8080/"
        },
        "id": "IDQhiMENnPjP",
        "outputId": "887ddf73-49fd-4435-c833-1eef19599a88"
      },
      "execution_count": null,
      "outputs": [
        {
          "output_type": "execute_result",
          "data": {
            "text/plain": [
              "str"
            ]
          },
          "metadata": {},
          "execution_count": 31
        }
      ]
    },
    {
      "cell_type": "code",
      "source": [
        "#Podemos atribuir a uma variável o valor de um elemento da lista\n",
        "eu = nomes[0]\n",
        "print(eu)"
      ],
      "metadata": {
        "colab": {
          "base_uri": "https://localhost:8080/"
        },
        "id": "a9D6sW_3nYk2",
        "outputId": "c26df8c6-1f18-4a80-83e7-c6a09b1c6f4a"
      },
      "execution_count": null,
      "outputs": [
        {
          "output_type": "stream",
          "name": "stdout",
          "text": [
            "Agnaldo\n"
          ]
        }
      ]
    },
    {
      "cell_type": "code",
      "source": [
        "'''\n",
        "Podemos alterar o elemento de uma posição especifica sobreescrevendo o\n",
        "conteúdo que está armazenado.\n",
        "'''\n",
        "nomes[0]='Seixas'\n",
        "print(nomes)"
      ],
      "metadata": {
        "colab": {
          "base_uri": "https://localhost:8080/"
        },
        "id": "34abbhoCn1yP",
        "outputId": "fdd0a8da-a692-485f-b0ab-ad3ae9e22de4"
      },
      "execution_count": null,
      "outputs": [
        {
          "output_type": "stream",
          "name": "stdout",
          "text": [
            "['Seixas', 'João', 'Maria', 'Ailton', 'Agda']\n"
          ]
        }
      ]
    },
    {
      "cell_type": "code",
      "source": [
        "'''\n",
        "Agora vamos inserir um elemento no final da lista, para isso\n",
        "utilizamos o método append.\n",
        "'''\n",
        "nomes = ['Agnaldo','João','Maria','Ailton','Agda']\n",
        "print(nomes)\n",
        "\n",
        "nomes.append('Pedro')\n",
        "print(nomes)"
      ],
      "metadata": {
        "colab": {
          "base_uri": "https://localhost:8080/"
        },
        "id": "AbU55WOnoHic",
        "outputId": "9eee6920-f378-46da-ec5a-b07c5cc0d21c"
      },
      "execution_count": null,
      "outputs": [
        {
          "output_type": "stream",
          "name": "stdout",
          "text": [
            "['Agnaldo', 'João', 'Maria', 'Ailton', 'Agda']\n",
            "['Agnaldo', 'João', 'Maria', 'Ailton', 'Agda', 'Pedro']\n"
          ]
        }
      ]
    },
    {
      "cell_type": "code",
      "source": [
        "#Insert é um metodo que usamos para inserir um elemento na posição especifica\n",
        "nomes.insert(5,'Ana')\n",
        "print(nomes)"
      ],
      "metadata": {
        "colab": {
          "base_uri": "https://localhost:8080/"
        },
        "id": "2eTN0f4boq2_",
        "outputId": "80480367-72ce-45d9-9477-4fd79afd0b2f"
      },
      "execution_count": null,
      "outputs": [
        {
          "output_type": "stream",
          "name": "stdout",
          "text": [
            "['Agnaldo', 'João', 'Maria', 'Ailton', 'Agda', 'Ana', 'Alesssandro', 'Pedro', 'Ana']\n"
          ]
        }
      ]
    },
    {
      "cell_type": "code",
      "source": [
        "nomes[5]='Lidy'\n",
        "print(nomes)"
      ],
      "metadata": {
        "colab": {
          "base_uri": "https://localhost:8080/"
        },
        "id": "VvgVjUctpWFH",
        "outputId": "320fd7b1-3b6f-4b70-c8f5-f7ed9342d5eb"
      },
      "execution_count": null,
      "outputs": [
        {
          "output_type": "stream",
          "name": "stdout",
          "text": [
            "['Agnaldo', 'João', 'Maria', 'Ailton', 'Agda', 'Lidy', 'Alesssandro', 'Pedro', 'Ana']\n"
          ]
        }
      ]
    },
    {
      "cell_type": "code",
      "source": [
        "#Ppodemos excluir um item utilizando o Remove\n",
        "#Remove a primeira aparição\n",
        "nomes.remove('Ana')\n",
        "print(nomes)"
      ],
      "metadata": {
        "colab": {
          "base_uri": "https://localhost:8080/"
        },
        "id": "CC0qapD_qCsW",
        "outputId": "04c1febc-4794-425b-c7b0-1d9a7be7291c"
      },
      "execution_count": null,
      "outputs": [
        {
          "output_type": "stream",
          "name": "stdout",
          "text": [
            "['Agnaldo', 'João', 'Maria', 'Ailton', 'Agda', 'Lidy', 'Alesssandro', 'Pedro']\n"
          ]
        }
      ]
    },
    {
      "cell_type": "code",
      "source": [
        "#Pop remove um item baseado no indice e o oretorna\n",
        "\n",
        "nomes.pop(0)"
      ],
      "metadata": {
        "colab": {
          "base_uri": "https://localhost:8080/",
          "height": 35
        },
        "id": "sCdzczwVqgzY",
        "outputId": "d43f5604-c491-41fa-a347-c16fd16fdbeb"
      },
      "execution_count": null,
      "outputs": [
        {
          "output_type": "execute_result",
          "data": {
            "text/plain": [
              "'Agnaldo'"
            ],
            "application/vnd.google.colaboratory.intrinsic+json": {
              "type": "string"
            }
          },
          "metadata": {},
          "execution_count": 41
        }
      ]
    },
    {
      "cell_type": "code",
      "source": [
        "#Ja que o pop retorna o elemento dletado, podemos guardar esse item numa variavel\n",
        "print(nomes)\n",
        "item_removido = nomes.pop(0)\n",
        "print(item_removido)\n",
        "print(nomes)\n"
      ],
      "metadata": {
        "colab": {
          "base_uri": "https://localhost:8080/"
        },
        "id": "0lWh37sTrAOm",
        "outputId": "13dc90f0-0f1c-4c4a-de1e-3a33e161f202"
      },
      "execution_count": null,
      "outputs": [
        {
          "output_type": "stream",
          "name": "stdout",
          "text": [
            "['Maria', 'Ailton', 'Agda', 'Lidy', 'Alesssandro', 'Pedro']\n",
            "Maria\n",
            "['Ailton', 'Agda', 'Lidy', 'Alesssandro', 'Pedro']\n"
          ]
        }
      ]
    },
    {
      "cell_type": "code",
      "source": [
        "#Podemos utiliar o comando del. Utilizamos o indice mas não retorna o elemeto\n",
        "print(nomes)\n",
        "del nomes[0]\n",
        "print(nomes)"
      ],
      "metadata": {
        "colab": {
          "base_uri": "https://localhost:8080/"
        },
        "id": "-BKhpZz8rmoX",
        "outputId": "a0d7b2ed-7e4e-4fe9-c383-ae43eaaad71d"
      },
      "execution_count": null,
      "outputs": [
        {
          "output_type": "stream",
          "name": "stdout",
          "text": [
            "['Ailton', 'Agda', 'Lidy', 'Alesssandro', 'Pedro']\n",
            "['Agda', 'Lidy', 'Alesssandro', 'Pedro']\n"
          ]
        }
      ]
    },
    {
      "cell_type": "code",
      "source": [
        "#para deletar uma lista inteira\n",
        "del nomes"
      ],
      "metadata": {
        "id": "1wTYTS2Gs5sg"
      },
      "execution_count": null,
      "outputs": []
    },
    {
      "cell_type": "code",
      "source": [
        "'''\n",
        "Usamos o del quando queremos remover um elemento pelo índice ou excluir a lista\n",
        "inteira.\n",
        "Usamos o pop quando queremos remover um elemento pelo índice e precisamos do\n",
        "retorno do valor/elemento removido.\n",
        "Usamos o remove quando sabemos o valor do item a ser removido, mas não o seu índice.\n",
        "'''\n"
      ],
      "metadata": {
        "id": "yEyvRdKAsUkm"
      },
      "execution_count": null,
      "outputs": []
    },
    {
      "cell_type": "code",
      "source": [
        "# Metodo index é usado para acessar e armazena o indice dos itens de uma variave\n",
        "nomes = ['Agnaldo','João','Maria','Ailton','Agda']\n",
        "indice = nomes.index('Maria')\n",
        "print(indice)"
      ],
      "metadata": {
        "colab": {
          "base_uri": "https://localhost:8080/"
        },
        "id": "SpLtPlWEtNaO",
        "outputId": "c60b0e67-7dc6-4f9d-c043-f22674e33304"
      },
      "execution_count": null,
      "outputs": [
        {
          "output_type": "stream",
          "name": "stdout",
          "text": [
            "2\n"
          ]
        }
      ]
    },
    {
      "cell_type": "code",
      "source": [
        "# Count retorna a quantidade de vezes que o elemento aparece\n",
        "nomes.count('Maria')"
      ],
      "metadata": {
        "colab": {
          "base_uri": "https://localhost:8080/"
        },
        "id": "qJcgoWO0tmHO",
        "outputId": "7f9c7a8b-dc68-47bf-f0c7-e5dede55aeb2"
      },
      "execution_count": null,
      "outputs": [
        {
          "output_type": "execute_result",
          "data": {
            "text/plain": [
              "1"
            ]
          },
          "metadata": {},
          "execution_count": 47
        }
      ]
    },
    {
      "cell_type": "code",
      "source": [
        "# Podemos organizar em forma crescente\n",
        "\n",
        "nomes.sort()\n",
        "print(nomes)"
      ],
      "metadata": {
        "colab": {
          "base_uri": "https://localhost:8080/"
        },
        "id": "hQarR6M9t3gO",
        "outputId": "bd8b3390-c39a-41d7-92ed-c437b7cc051a"
      },
      "execution_count": null,
      "outputs": [
        {
          "output_type": "stream",
          "name": "stdout",
          "text": [
            "['Agda', 'Agnaldo', 'Ailton', 'João', 'Maria']\n"
          ]
        }
      ]
    },
    {
      "cell_type": "code",
      "source": [
        "#Ordem decrescente\n",
        "nomes.reverse()\n",
        "print(nomes)"
      ],
      "metadata": {
        "colab": {
          "base_uri": "https://localhost:8080/"
        },
        "id": "UTfXaCYkuHyn",
        "outputId": "77fc0c58-d2e6-4c7f-c759-cc63f35739a4"
      },
      "execution_count": null,
      "outputs": [
        {
          "output_type": "stream",
          "name": "stdout",
          "text": [
            "['Maria', 'João', 'Ailton', 'Agnaldo', 'Agda']\n"
          ]
        }
      ]
    },
    {
      "cell_type": "code",
      "source": [
        "idades = [26,22,56,47,46,26]\n",
        "print(idades)"
      ],
      "metadata": {
        "colab": {
          "base_uri": "https://localhost:8080/"
        },
        "id": "chi6RZX-uZA2",
        "outputId": "c23bd42e-e59f-4fa1-ef5e-165aad0f9be4"
      },
      "execution_count": null,
      "outputs": [
        {
          "output_type": "stream",
          "name": "stdout",
          "text": [
            "[26, 22, 56, 47, 46, 26]\n"
          ]
        }
      ]
    },
    {
      "cell_type": "code",
      "source": [
        "# Mosrtar o maior elemento\n",
        "max(idades)"
      ],
      "metadata": {
        "colab": {
          "base_uri": "https://localhost:8080/"
        },
        "id": "FQbM0-4OumcG",
        "outputId": "4bf62c7f-04b2-46b1-c256-0a5b8546dd3a"
      },
      "execution_count": null,
      "outputs": [
        {
          "output_type": "execute_result",
          "data": {
            "text/plain": [
              "56"
            ]
          },
          "metadata": {},
          "execution_count": 51
        }
      ]
    },
    {
      "cell_type": "code",
      "source": [
        "# Mostrar oo menor elemento\n",
        "min(idades)"
      ],
      "metadata": {
        "colab": {
          "base_uri": "https://localhost:8080/"
        },
        "id": "H_JhkW44uuuu",
        "outputId": "0bc5b54c-07d6-4dda-c3f7-f2f3939abcfb"
      },
      "execution_count": null,
      "outputs": [
        {
          "output_type": "execute_result",
          "data": {
            "text/plain": [
              "22"
            ]
          },
          "metadata": {},
          "execution_count": 52
        }
      ]
    },
    {
      "cell_type": "code",
      "source": [
        "#Retornar a soma das idades\n",
        "\n",
        "sum(idades)"
      ],
      "metadata": {
        "colab": {
          "base_uri": "https://localhost:8080/"
        },
        "id": "rWSQeoLeu_6m",
        "outputId": "4ea4f8af-5cf9-451f-85bc-8de10db02e9e"
      },
      "execution_count": null,
      "outputs": [
        {
          "output_type": "execute_result",
          "data": {
            "text/plain": [
              "223"
            ]
          },
          "metadata": {},
          "execution_count": 53
        }
      ]
    },
    {
      "cell_type": "code",
      "source": [
        "# retornar a média\n",
        "import statistics as st\n",
        "media = st.mean(idades)\n",
        "print(media)\n",
        "media2 = sum(idades)/len(idades)\n",
        "print(media2)"
      ],
      "metadata": {
        "colab": {
          "base_uri": "https://localhost:8080/"
        },
        "id": "faX4Y5IbvhfI",
        "outputId": "e6cac055-ce34-4aaa-ca3d-3ba1a42cdb25"
      },
      "execution_count": null,
      "outputs": [
        {
          "output_type": "stream",
          "name": "stdout",
          "text": [
            "37.166666666666664\n",
            "37.166666666666664\n"
          ]
        }
      ]
    },
    {
      "cell_type": "code",
      "source": [
        "#Removendo valores duplicados\n",
        "numeros = [1,1,1,2,2,5,4]\n",
        "numeros_unicos = list(set(numeros))\n",
        "print(numeros_unicos)\n"
      ],
      "metadata": {
        "colab": {
          "base_uri": "https://localhost:8080/"
        },
        "id": "QrZuCLJmw3P4",
        "outputId": "1e68b0bb-89e1-4c95-de4d-082f17c333cc"
      },
      "execution_count": null,
      "outputs": [
        {
          "output_type": "stream",
          "name": "stdout",
          "text": [
            "[1, 2, 4, 5]\n"
          ]
        }
      ]
    },
    {
      "cell_type": "code",
      "source": [
        "#Limpando uma lista\n",
        "frutas = ['banana','maçã','uva','abacaxi']\n",
        "print(frutas)\n",
        "frutas.clear()\n",
        "print(frutas)\n"
      ],
      "metadata": {
        "colab": {
          "base_uri": "https://localhost:8080/"
        },
        "id": "JP9mvDba1rxG",
        "outputId": "389b9ac0-b402-4f2b-a7e8-2395a536c961"
      },
      "execution_count": null,
      "outputs": [
        {
          "output_type": "stream",
          "name": "stdout",
          "text": [
            "['banana', 'maçã', 'uva', 'abacaxi']\n",
            "[]\n"
          ]
        }
      ]
    },
    {
      "cell_type": "code",
      "source": [
        "'''\n",
        "Você tem uma lista de passageiros em um voo e precisa saber quantas vezes\n",
        "o nome Carlos aparece na lista\n",
        "Exemplo: [\"Carlos\",\"Maria\",\"Renata\",\"Carlos\",\"João\"]\n",
        "'''\n",
        "passageiros = [\"Carlos\",\"Maria\",\"Renata\",\"Carlos\",\"João\"]\n",
        "quantidade = passageiros.count('Carlos')\n",
        "print(quantidade)\n"
      ],
      "metadata": {
        "colab": {
          "base_uri": "https://localhost:8080/"
        },
        "id": "cDI1VuYT2PHW",
        "outputId": "49f23a1f-18c0-4856-eaf6-b16b77df3aac"
      },
      "execution_count": null,
      "outputs": [
        {
          "output_type": "stream",
          "name": "stdout",
          "text": [
            "2\n"
          ]
        }
      ]
    },
    {
      "cell_type": "markdown",
      "source": [
        "##10.2 - Tuplas"
      ],
      "metadata": {
        "id": "HupUenGo3U5m"
      }
    },
    {
      "cell_type": "code",
      "source": [
        "'''\n",
        "Tuplas são sequências imutaveis. Muito parecidas com as listas, mas uma vez que\n",
        "as declaramos não podemos alterar os seus elementos. Utilizamos quando precisamos\n",
        "garantir que os dados não sejam alterados acidentalmente.\n",
        "\n",
        "Para declarar uma tupla, colocamos os elementos entre parênteses e separamos eles\n",
        "por vírgula.\n",
        "'''\n",
        "nomes = ('Agnaldo','João','Maria','Ailton','Agda')\n",
        "print(nomes)"
      ],
      "metadata": {
        "colab": {
          "base_uri": "https://localhost:8080/"
        },
        "id": "bMRvt2UJ3Zkl",
        "outputId": "ebc61c15-98b3-413b-8574-de7444742058"
      },
      "execution_count": null,
      "outputs": [
        {
          "output_type": "stream",
          "name": "stdout",
          "text": [
            "('Agnaldo', 'João', 'Maria', 'Ailton', 'Agda')\n"
          ]
        }
      ]
    },
    {
      "cell_type": "code",
      "source": [
        "#A tupla pode conter diferentes tipos de dados\n",
        "aleatoria = ('Agnaldo', 50, 1.65, 60)\n",
        "print(aleatoria)"
      ],
      "metadata": {
        "colab": {
          "base_uri": "https://localhost:8080/"
        },
        "id": "Sfw-F3th45Le",
        "outputId": "839f8ac0-2501-4a7c-a1e3-c048d76ba3d3"
      },
      "execution_count": null,
      "outputs": [
        {
          "output_type": "stream",
          "name": "stdout",
          "text": [
            "('Agnaldo', 50, 1.65, 60)\n"
          ]
        }
      ]
    },
    {
      "cell_type": "code",
      "source": [
        "#Podemos verificar qual é o tipo da nossa estrutura\n",
        "type(aleatoria)"
      ],
      "metadata": {
        "colab": {
          "base_uri": "https://localhost:8080/"
        },
        "id": "n-wlzeMw5Set",
        "outputId": "22ec32fe-b02c-4a08-8a8e-1cac3bf0e816"
      },
      "execution_count": null,
      "outputs": [
        {
          "output_type": "execute_result",
          "data": {
            "text/plain": [
              "tuple"
            ]
          },
          "metadata": {},
          "execution_count": 63
        }
      ]
    },
    {
      "cell_type": "code",
      "source": [
        "#Acessamos os elementos da tupla de forma similar ao método utilizado nas listas\n",
        "print(nomes[0])"
      ],
      "metadata": {
        "colab": {
          "base_uri": "https://localhost:8080/"
        },
        "id": "BcbJVUSi5XKe",
        "outputId": "75558398-e581-42ca-ddb6-da40ce757f27"
      },
      "execution_count": null,
      "outputs": [
        {
          "output_type": "stream",
          "name": "stdout",
          "text": [
            "Agnaldo\n"
          ]
        }
      ]
    },
    {
      "cell_type": "code",
      "source": [
        "#Também podemos verificar o tipo dos elementos.\n",
        "type(nomes[0])"
      ],
      "metadata": {
        "colab": {
          "base_uri": "https://localhost:8080/"
        },
        "id": "2-7vlQt75s-m",
        "outputId": "e94e68c8-f03b-471c-8a61-fe678e60d3da"
      },
      "execution_count": null,
      "outputs": [
        {
          "output_type": "execute_result",
          "data": {
            "text/plain": [
              "str"
            ]
          },
          "metadata": {},
          "execution_count": 70
        }
      ]
    },
    {
      "cell_type": "code",
      "source": [
        "'''\n",
        "As tuplas são imutaveis, portanto não podemos fazer novas atribuições\n",
        "depois de declará-las.\n",
        "'''\n",
        "nomes[0] = 'Felipe'"
      ],
      "metadata": {
        "colab": {
          "base_uri": "https://localhost:8080/",
          "height": 176
        },
        "id": "Zft62M995x6f",
        "outputId": "abed60fd-603f-4c01-f757-b17887b8bf6d"
      },
      "execution_count": null,
      "outputs": [
        {
          "output_type": "error",
          "ename": "TypeError",
          "evalue": "'tuple' object does not support item assignment",
          "traceback": [
            "\u001b[0;31m---------------------------------------------------------------------------\u001b[0m",
            "\u001b[0;31mTypeError\u001b[0m                                 Traceback (most recent call last)",
            "\u001b[0;32m<ipython-input-72-7355f8db59fd>\u001b[0m in \u001b[0;36m<cell line: 0>\u001b[0;34m()\u001b[0m\n\u001b[1;32m      3\u001b[0m \u001b[0mdepois\u001b[0m \u001b[0mde\u001b[0m \u001b[0mdeclará\u001b[0m\u001b[0;34m-\u001b[0m\u001b[0mlas\u001b[0m\u001b[0;34m.\u001b[0m\u001b[0;34m\u001b[0m\u001b[0;34m\u001b[0m\u001b[0m\n\u001b[1;32m      4\u001b[0m '''\n\u001b[0;32m----> 5\u001b[0;31m \u001b[0mnomes\u001b[0m\u001b[0;34m[\u001b[0m\u001b[0;36m0\u001b[0m\u001b[0;34m]\u001b[0m \u001b[0;34m=\u001b[0m \u001b[0;34m'Felipe'\u001b[0m\u001b[0;34m\u001b[0m\u001b[0;34m\u001b[0m\u001b[0m\n\u001b[0m",
            "\u001b[0;31mTypeError\u001b[0m: 'tuple' object does not support item assignment"
          ]
        }
      ]
    },
    {
      "cell_type": "code",
      "source": [
        "frutas = ['banana','maçã','uva']\n",
        "print(frutas)\n",
        "print(type(frutas))\n",
        "#Convertendo uma lista para uma tupla\n",
        "frutas = tuple(frutas)\n",
        "print(frutas)\n",
        "print(type(frutas))\n"
      ],
      "metadata": {
        "colab": {
          "base_uri": "https://localhost:8080/"
        },
        "id": "u_gVo8lg6S_A",
        "outputId": "9fc2a3ed-fc22-4941-df81-64465a78b1ca"
      },
      "execution_count": null,
      "outputs": [
        {
          "output_type": "stream",
          "name": "stdout",
          "text": [
            "['banana', 'maçã', 'uva']\n",
            "<class 'list'>\n",
            "('banana', 'maçã', 'uva')\n",
            "<class 'tuple'>\n"
          ]
        }
      ]
    },
    {
      "cell_type": "code",
      "source": [
        "'''\n",
        "Nós podemos concatenar múltiplas tuplas em uma nova.\n",
        "'''\n",
        "tupla1 = (1,2,3)\n",
        "tupla2 = (4,5,6)\n",
        "tupla3 = (7,8,9)\n",
        "\n",
        "tupla_final = tupla1 + tupla2 + tupla3\n",
        "print(tupla_final)"
      ],
      "metadata": {
        "colab": {
          "base_uri": "https://localhost:8080/"
        },
        "id": "R1SLb8yS60av",
        "outputId": "3d1f1158-e565-445f-adfe-b0db81d3cd7a"
      },
      "execution_count": null,
      "outputs": [
        {
          "output_type": "stream",
          "name": "stdout",
          "text": [
            "(1, 2, 3, 4, 5, 6, 7, 8, 9)\n"
          ]
        }
      ]
    },
    {
      "cell_type": "code",
      "source": [
        "print(tupla_final)\n",
        "tupla_ordenada = tuple(sorted(tupla_final))\n",
        "print(tupla_ordenada)"
      ],
      "metadata": {
        "colab": {
          "base_uri": "https://localhost:8080/"
        },
        "id": "kZSi-0k57x39",
        "outputId": "c5212b91-7281-4238-a8c0-0e82837254e3"
      },
      "execution_count": null,
      "outputs": [
        {
          "output_type": "stream",
          "name": "stdout",
          "text": [
            "(1, 2, 3, 4, 5, 6, 7, 8, 9)\n",
            "(1, 2, 3, 4, 5, 6, 7, 8, 9)\n"
          ]
        }
      ]
    },
    {
      "cell_type": "code",
      "source": [
        "'''\n",
        "Dada a seguinte tupla:\n",
        "\n",
        "frutas = ('Uva','Maçã','Laranja','Banana')\n",
        "\n",
        "Converta-a em uma lista e adicione o item abacaxi.\n",
        "'''\n",
        "frutas = ('Uva','Maçã','Laranja','Banana')\n",
        "frutas = list(frutas)\n",
        "frutas.append('Abacaxi') #Insere na ultima posição\n",
        "frutas.insert(0,'Morango') # Insere na posição especifica\n",
        "frutas.sort() # Ordena a lista\n",
        "frutas = tuple(frutas)\n",
        "print(frutas)\n"
      ],
      "metadata": {
        "colab": {
          "base_uri": "https://localhost:8080/"
        },
        "id": "VRzvJGwF75iF",
        "outputId": "2a4e9dd7-ddcf-4a16-94ea-f0806b9d3fce"
      },
      "execution_count": null,
      "outputs": [
        {
          "output_type": "stream",
          "name": "stdout",
          "text": [
            "('Abacaxi', 'Banana', 'Laranja', 'Maçã', 'Morango', 'Uva')\n"
          ]
        }
      ]
    },
    {
      "cell_type": "code",
      "source": [
        "#Podemos utilizar funções como: max, min, sum...\n",
        "precos = (299.99, 159.80, 247.90)\n",
        "menor_preco = min(precos)\n",
        "maior_preco = max(precos)\n",
        "soma_preco = sum(precos)\n",
        "print(menor_preco)\n",
        "print(maior_preco)\n",
        "print(soma_preco)"
      ],
      "metadata": {
        "colab": {
          "base_uri": "https://localhost:8080/"
        },
        "id": "-sfnk14t-QvW",
        "outputId": "8f6a2045-4329-4622-dd55-25f27b913ea7"
      },
      "execution_count": null,
      "outputs": [
        {
          "output_type": "stream",
          "name": "stdout",
          "text": [
            "159.8\n",
            "299.99\n",
            "707.69\n"
          ]
        }
      ]
    },
    {
      "cell_type": "markdown",
      "source": [
        "##10.3 - Dicionarios"
      ],
      "metadata": {
        "id": "fHC1DiD---pF"
      }
    },
    {
      "cell_type": "code",
      "source": [
        "'''\n",
        "Um dicionário é uma estrutura de dados que não é indexada, ela armazena pares\n",
        "de chave e valor.\n",
        "\n",
        "nome_dicionario = {'chave':'valor', 'chave2':'valor2'...}\n",
        "'''\n",
        "carro = {'marca':'vw','modelo':'gol','cor':'cinza','ano':2014}\n",
        "print(carro)"
      ],
      "metadata": {
        "colab": {
          "base_uri": "https://localhost:8080/"
        },
        "id": "6f0tin4c_D-j",
        "outputId": "9b703528-e718-42d4-835e-98d4a2871286"
      },
      "execution_count": null,
      "outputs": [
        {
          "output_type": "stream",
          "name": "stdout",
          "text": [
            "{'marca': 'vw', 'modelo': 'gol', 'cor': 'cinza', 'ano': 2014}\n"
          ]
        }
      ]
    },
    {
      "cell_type": "code",
      "source": [
        "'''\n",
        "Pegando a cor do veículo\n",
        "'''\n",
        "carro.get('cor')"
      ],
      "metadata": {
        "colab": {
          "base_uri": "https://localhost:8080/",
          "height": 35
        },
        "id": "0IhN4hPfDT9P",
        "outputId": "458192e8-fe3e-449e-8a66-5a46cb84f645"
      },
      "execution_count": null,
      "outputs": [
        {
          "output_type": "execute_result",
          "data": {
            "text/plain": [
              "'cinza'"
            ],
            "application/vnd.google.colaboratory.intrinsic+json": {
              "type": "string"
            }
          },
          "metadata": {},
          "execution_count": 82
        }
      ]
    },
    {
      "cell_type": "code",
      "source": [
        "'''\n",
        "O Get é a forma mais segura de se recuperar o valor de um dicionário.\n",
        "Caso a chave não exista, ele não retorna nada.\n",
        "'''\n",
        "carro.get('aro')"
      ],
      "metadata": {
        "id": "Mob4GeatDnXD"
      },
      "execution_count": null,
      "outputs": []
    },
    {
      "cell_type": "code",
      "source": [
        "'''\n",
        "Podemos usar o colchetes para acessar valores de um dicionário.\n",
        "Caso a chave não exista ele retorna um erro.\n",
        "'''\n",
        "carro['cor']"
      ],
      "metadata": {
        "colab": {
          "base_uri": "https://localhost:8080/",
          "height": 35
        },
        "id": "RbyXBFz9D2nY",
        "outputId": "fbf02d6e-5660-486f-daa4-63f1098fee38"
      },
      "execution_count": null,
      "outputs": [
        {
          "output_type": "execute_result",
          "data": {
            "text/plain": [
              "'cinza'"
            ],
            "application/vnd.google.colaboratory.intrinsic+json": {
              "type": "string"
            }
          },
          "metadata": {},
          "execution_count": 84
        }
      ]
    },
    {
      "cell_type": "code",
      "source": [
        "'''\n",
        "Podemos usar o colchetes para acessar valores de um dicionário.\n",
        "Caso a chave não exista ele retorna um erro.\n",
        "'''\n",
        "carro['aro']"
      ],
      "metadata": {
        "colab": {
          "base_uri": "https://localhost:8080/",
          "height": 176
        },
        "id": "nbXbaUONEMpp",
        "outputId": "5ce92157-ae57-4dd5-c87d-448be0816f23"
      },
      "execution_count": null,
      "outputs": [
        {
          "output_type": "error",
          "ename": "KeyError",
          "evalue": "'aro'",
          "traceback": [
            "\u001b[0;31m---------------------------------------------------------------------------\u001b[0m",
            "\u001b[0;31mKeyError\u001b[0m                                  Traceback (most recent call last)",
            "\u001b[0;32m<ipython-input-85-3b5f117be9e3>\u001b[0m in \u001b[0;36m<cell line: 0>\u001b[0;34m()\u001b[0m\n\u001b[1;32m      3\u001b[0m \u001b[0mCaso\u001b[0m \u001b[0ma\u001b[0m \u001b[0mchave\u001b[0m \u001b[0mnão\u001b[0m \u001b[0mexista\u001b[0m \u001b[0mele\u001b[0m \u001b[0mretorna\u001b[0m \u001b[0mum\u001b[0m \u001b[0merro\u001b[0m\u001b[0;34m.\u001b[0m\u001b[0;34m\u001b[0m\u001b[0;34m\u001b[0m\u001b[0m\n\u001b[1;32m      4\u001b[0m '''\n\u001b[0;32m----> 5\u001b[0;31m \u001b[0mcarro\u001b[0m\u001b[0;34m[\u001b[0m\u001b[0;34m'aro'\u001b[0m\u001b[0;34m]\u001b[0m\u001b[0;34m\u001b[0m\u001b[0;34m\u001b[0m\u001b[0m\n\u001b[0m",
            "\u001b[0;31mKeyError\u001b[0m: 'aro'"
          ]
        }
      ]
    },
    {
      "cell_type": "code",
      "source": [
        "'''\n",
        "Para listra todas as chaves de um dicionário, utilizamos o método keys()\n",
        "'''\n",
        "carro.keys()"
      ],
      "metadata": {
        "colab": {
          "base_uri": "https://localhost:8080/"
        },
        "id": "B83Ob7pBESIC",
        "outputId": "9383bf39-89d6-4a61-c78d-ea02a5892b0b"
      },
      "execution_count": null,
      "outputs": [
        {
          "output_type": "execute_result",
          "data": {
            "text/plain": [
              "dict_keys(['marca', 'modelo', 'cor', 'ano'])"
            ]
          },
          "metadata": {},
          "execution_count": 86
        }
      ]
    },
    {
      "cell_type": "code",
      "source": [
        "'''\n",
        "Retorna apenas os valores do dicionário\n",
        "'''\n",
        "carro.values()"
      ],
      "metadata": {
        "colab": {
          "base_uri": "https://localhost:8080/"
        },
        "id": "XCiECu8zEfJn",
        "outputId": "11cc23c8-9591-49ec-a60f-deb1b2b9c2b6"
      },
      "execution_count": null,
      "outputs": [
        {
          "output_type": "execute_result",
          "data": {
            "text/plain": [
              "dict_values(['vw', 'gol', 'cinza', 2014])"
            ]
          },
          "metadata": {},
          "execution_count": 87
        }
      ]
    },
    {
      "cell_type": "code",
      "source": [
        "'''\n",
        "Retorna o par de chave e valor\n",
        "'''\n",
        "carro.items()"
      ],
      "metadata": {
        "colab": {
          "base_uri": "https://localhost:8080/"
        },
        "id": "i_AAoAZ0EmRB",
        "outputId": "40993a14-58dd-4062-872e-1d6e958400d1"
      },
      "execution_count": null,
      "outputs": [
        {
          "output_type": "execute_result",
          "data": {
            "text/plain": [
              "dict_items([('marca', 'vw'), ('modelo', 'gol'), ('cor', 'cinza'), ('ano', 2014)])"
            ]
          },
          "metadata": {},
          "execution_count": 88
        }
      ]
    },
    {
      "cell_type": "code",
      "source": [
        "'''\n",
        "Para remover valores de um dicionário, utilizamos o pop\n",
        "\n",
        "'''\n",
        "print(carro)\n",
        "carro.pop('marca')\n",
        "print(carro)"
      ],
      "metadata": {
        "colab": {
          "base_uri": "https://localhost:8080/"
        },
        "id": "1XjFTBggEy50",
        "outputId": "12cbbfc5-f813-4c2a-ef32-5f0c590bbed2"
      },
      "execution_count": null,
      "outputs": [
        {
          "output_type": "stream",
          "name": "stdout",
          "text": [
            "{'marca': 'vw', 'modelo': 'gol', 'cor': 'cinza', 'ano': 2014}\n",
            "{'modelo': 'gol', 'cor': 'cinza', 'ano': 2014}\n"
          ]
        }
      ]
    },
    {
      "cell_type": "code",
      "source": [
        "#Se quiser Remover o ultimo elemento\n",
        "print(carro)\n",
        "carro.popitem()\n",
        "print(carro)"
      ],
      "metadata": {
        "colab": {
          "base_uri": "https://localhost:8080/"
        },
        "id": "b1Cuup6bFSup",
        "outputId": "0bb5c595-7bd2-4ec8-bfc0-27360c03c0e5"
      },
      "execution_count": null,
      "outputs": [
        {
          "output_type": "stream",
          "name": "stdout",
          "text": [
            "{'modelo': 'gol', 'cor': 'cinza', 'ano': 2014}\n",
            "{'modelo': 'gol', 'cor': 'cinza'}\n"
          ]
        }
      ]
    },
    {
      "cell_type": "code",
      "source": [
        "del carro['modelo']\n",
        "print(carro)"
      ],
      "metadata": {
        "colab": {
          "base_uri": "https://localhost:8080/"
        },
        "id": "NQVItzi3GG9p",
        "outputId": "d70ad56e-f88d-4eae-a521-6ebbbdec5a96"
      },
      "execution_count": null,
      "outputs": [
        {
          "output_type": "stream",
          "name": "stdout",
          "text": [
            "{'cor': 'cinza'}\n"
          ]
        }
      ]
    },
    {
      "cell_type": "code",
      "source": [
        "#Alterando a cor do carro\n",
        "carro.update({'cor':'preto'})\n",
        "print(carro)"
      ],
      "metadata": {
        "colab": {
          "base_uri": "https://localhost:8080/"
        },
        "id": "ufyVmXo7GVc5",
        "outputId": "e48ac6ac-2cf0-40e4-f9d3-6b497bef94bf"
      },
      "execution_count": null,
      "outputs": [
        {
          "output_type": "stream",
          "name": "stdout",
          "text": [
            "{'cor': 'preto'}\n"
          ]
        }
      ]
    },
    {
      "cell_type": "code",
      "source": [
        "#Adicionando um novo par de chave valor\n",
        "carro.update({'modelo':'gol'})\n",
        "print(carro)"
      ],
      "metadata": {
        "colab": {
          "base_uri": "https://localhost:8080/"
        },
        "id": "Aw_78QhHGt73",
        "outputId": "14029eb0-d7bc-4dca-c6b8-1af0536f1664"
      },
      "execution_count": null,
      "outputs": [
        {
          "output_type": "stream",
          "name": "stdout",
          "text": [
            "{'cor': 'preto', 'modelo': 'gol'}\n"
          ]
        }
      ]
    },
    {
      "cell_type": "code",
      "source": [
        "#Podemos usar o len para descobrir quantos pares temos no dicionário\n",
        "print(carro)\n",
        "len(carro)"
      ],
      "metadata": {
        "colab": {
          "base_uri": "https://localhost:8080/"
        },
        "id": "507-JhhOG6_9",
        "outputId": "aa4e7f73-9b59-43a3-dee1-65a985d9fcf0"
      },
      "execution_count": null,
      "outputs": [
        {
          "output_type": "stream",
          "name": "stdout",
          "text": [
            "{'cor': 'preto', 'modelo': 'gol'}\n"
          ]
        },
        {
          "output_type": "execute_result",
          "data": {
            "text/plain": [
              "2"
            ]
          },
          "metadata": {},
          "execution_count": 94
        }
      ]
    },
    {
      "cell_type": "code",
      "source": [
        "#Podemos deixar o dicionário vazio com o comando clear\n",
        "carro.clear()\n",
        "print(carro)"
      ],
      "metadata": {
        "colab": {
          "base_uri": "https://localhost:8080/"
        },
        "id": "BylnAhFgHL4G",
        "outputId": "9284294f-4722-44c4-9bbe-4ba136e35ea3"
      },
      "execution_count": null,
      "outputs": [
        {
          "output_type": "stream",
          "name": "stdout",
          "text": [
            "{}\n"
          ]
        }
      ]
    },
    {
      "cell_type": "code",
      "source": [
        "#Cria uma cópia do dicionário\n",
        "carro = {'marca':'vw','modelo':'gol','cor':'cinza','ano':2014}\n",
        "copia = carro.copy()\n",
        "print(carro)\n",
        "print(copia)"
      ],
      "metadata": {
        "colab": {
          "base_uri": "https://localhost:8080/"
        },
        "id": "fPbxy-LsHfaw",
        "outputId": "a45e595a-83a6-4e55-ecb4-a5d04c13a4aa"
      },
      "execution_count": null,
      "outputs": [
        {
          "output_type": "stream",
          "name": "stdout",
          "text": [
            "{'marca': 'vw', 'modelo': 'gol', 'cor': 'cinza', 'ano': 2014}\n",
            "{'marca': 'vw', 'modelo': 'gol', 'cor': 'cinza', 'ano': 2014}\n"
          ]
        }
      ]
    },
    {
      "cell_type": "code",
      "source": [
        "#Atualizando o valor de uma chave\n",
        "print(carro)\n",
        "carro['modelo'] = 'celta'\n",
        "print(carro)"
      ],
      "metadata": {
        "colab": {
          "base_uri": "https://localhost:8080/"
        },
        "id": "0f8o5a5eHrf7",
        "outputId": "ccc527c8-61ec-4c2d-d7b3-0b5415665576"
      },
      "execution_count": null,
      "outputs": [
        {
          "output_type": "stream",
          "name": "stdout",
          "text": [
            "{'marca': 'vw', 'modelo': 'gol', 'cor': 'cinza', 'ano': 2014}\n",
            "{'marca': 'vw', 'modelo': 'celta', 'cor': 'cinza', 'ano': 2014}\n"
          ]
        }
      ]
    },
    {
      "cell_type": "code",
      "source": [
        "#Criando um novo par de chave e valor\n",
        "carro['placa'] = 'ABC-1234'\n",
        "print(carro)"
      ],
      "metadata": {
        "colab": {
          "base_uri": "https://localhost:8080/"
        },
        "id": "07tMtnMHIBI6",
        "outputId": "684afbb4-67ca-4376-e138-058117619b3c"
      },
      "execution_count": null,
      "outputs": [
        {
          "output_type": "stream",
          "name": "stdout",
          "text": [
            "{'marca': 'vw', 'modelo': 'celta', 'cor': 'cinza', 'ano': 2014, 'placa': 'ABC-1234'}\n"
          ]
        }
      ]
    },
    {
      "cell_type": "code",
      "source": [
        "'''\n",
        "Crie um dicionário que representa as notas de um aluno em 3 matérias\n",
        "Matemática, Português e História. As notas foram: 8.5, 7.0 e 9.0.\n",
        "\n",
        "Por fim, imprima a nota de Português.\n",
        "'''\n",
        "notas = {'Matematica':8.5, 'Portugues':7.0, 'Historia':9.0}\n",
        "print(notas['Portugues'])"
      ],
      "metadata": {
        "colab": {
          "base_uri": "https://localhost:8080/"
        },
        "id": "ut_8Wl3dIOkA",
        "outputId": "376ed944-169d-4c3b-bb44-b7152fad29d4"
      },
      "execution_count": null,
      "outputs": [
        {
          "output_type": "stream",
          "name": "stdout",
          "text": [
            "7.0\n"
          ]
        }
      ]
    },
    {
      "cell_type": "code",
      "source": [
        "'''\n",
        "Adicionar a matéria de Ciências no dicionário com a nota 8.0\n",
        "Depois imprimir o dicionário atualizado.\n",
        "'''\n",
        "notas['Ciencias'] = 8.0\n",
        "print(notas)\n",
        "#notas.update({\"Ciências\":8.0})"
      ],
      "metadata": {
        "colab": {
          "base_uri": "https://localhost:8080/"
        },
        "id": "7hQF-T6vJfN0",
        "outputId": "7b6b5ec8-b649-499c-d9f2-0b7a49771874"
      },
      "execution_count": null,
      "outputs": [
        {
          "output_type": "stream",
          "name": "stdout",
          "text": [
            "{'Matematica': 8.5, 'Portugues': 7.0, 'Historia': 9.0, 'Ciencias': 8.0}\n"
          ]
        }
      ]
    },
    {
      "cell_type": "code",
      "source": [
        "'''\n",
        "Remova a matéria história e exiba o dicionário atualizado.\n",
        "'''\n",
        "del notas['Historia']\n",
        "print(notas)\n",
        "#notas.pop('Hstoria')"
      ],
      "metadata": {
        "colab": {
          "base_uri": "https://localhost:8080/"
        },
        "id": "ki_PS-GoKx-O",
        "outputId": "3462f41b-3e54-4547-e114-f7cc1be2e295"
      },
      "execution_count": null,
      "outputs": [
        {
          "output_type": "stream",
          "name": "stdout",
          "text": [
            "{'Matematica': 8.5, 'Portugues': 7.0, 'Ciencias': 8.0}\n"
          ]
        }
      ]
    },
    {
      "cell_type": "code",
      "source": [
        "'''\n",
        "Caso quisessemos calcular a média das notas\n",
        "'''\n",
        "media = sum(notas.values())/len(notas)\n",
        "print(media)\n"
      ],
      "metadata": {
        "colab": {
          "base_uri": "https://localhost:8080/"
        },
        "id": "DrWNCh-dLTBC",
        "outputId": "4057fb33-3513-4786-b7f1-cd27e9b7517f"
      },
      "execution_count": null,
      "outputs": [
        {
          "output_type": "stream",
          "name": "stdout",
          "text": [
            "7.833333333333333\n"
          ]
        }
      ]
    },
    {
      "cell_type": "markdown",
      "source": [
        "##10.4 - Sets"
      ],
      "metadata": {
        "id": "pAEdEe3qese4"
      }
    },
    {
      "cell_type": "code",
      "source": [
        "'''\n",
        "lista = [item1, item2, item3...]\n",
        "tupla = (item1, item2, item3..)\n",
        "dicionario = {'chave':valor, 'chave1':valor1...}\n",
        "conjunto = {item1, item2, item3}\n",
        "\n",
        "Sets são estruturas de dados não indexadas e não ordenaveis, porém,\n",
        "são mutáveis. Por meio de métodos e funções conseguimos realizar operações.\n",
        "'''"
      ],
      "metadata": {
        "id": "7yQZn4shexKX"
      },
      "execution_count": null,
      "outputs": []
    },
    {
      "cell_type": "code",
      "source": [
        "biscoito = {'Matheus','João','Maria','Carlos'}\n",
        "print(biscoito)\n",
        "bolacha = {'Matheus','Maria','Carlos'}\n",
        "print(bolacha)"
      ],
      "metadata": {
        "colab": {
          "base_uri": "https://localhost:8080/"
        },
        "id": "W4bYg5BUgSTp",
        "outputId": "1a545295-a641-4fc5-fb15-990acfb3c1de"
      },
      "execution_count": null,
      "outputs": [
        {
          "output_type": "stream",
          "name": "stdout",
          "text": [
            "{'João', 'Maria', 'Matheus', 'Carlos'}\n",
            "{'Maria', 'Matheus', 'Carlos'}\n"
          ]
        }
      ]
    },
    {
      "cell_type": "code",
      "source": [
        "#Suponha que eu queira adicionar o Eurico no conjunto biscoito\n",
        "#Na estrutura de conjuntos os elementos são unicos e não ordenaveis\n",
        "biscoito.add('Eurico')\n",
        "print(biscoito)"
      ],
      "metadata": {
        "colab": {
          "base_uri": "https://localhost:8080/"
        },
        "id": "X9T6mOnogm9Z",
        "outputId": "e0e0380c-e0c4-49cb-f0b9-4f1d20d53ab4"
      },
      "execution_count": null,
      "outputs": [
        {
          "output_type": "stream",
          "name": "stdout",
          "text": [
            "{'João', 'Matheus', 'Carlos', 'Eurico', 'Maria'}\n"
          ]
        }
      ]
    },
    {
      "cell_type": "code",
      "source": [
        "#Para remover um elemento do conjunto\n",
        "biscoito.remove('Eurico')\n",
        "print(biscoito)"
      ],
      "metadata": {
        "colab": {
          "base_uri": "https://localhost:8080/"
        },
        "id": "2FVCdElfh0iT",
        "outputId": "8dd8f9f8-165e-4831-e541-b8f8c8e19d28"
      },
      "execution_count": null,
      "outputs": [
        {
          "output_type": "stream",
          "name": "stdout",
          "text": [
            "{'João', 'Matheus', 'Carlos', 'Maria'}\n"
          ]
        }
      ]
    },
    {
      "cell_type": "code",
      "source": [
        "#Setentar remover um elemento que não esta no conjunto ele ertorna um erro\n",
        "biscoito.remove('Mauricio')"
      ],
      "metadata": {
        "colab": {
          "base_uri": "https://localhost:8080/",
          "height": 141
        },
        "id": "AhHhnU6giZEp",
        "outputId": "de6327e1-c970-420b-abb1-1730f8552f4d"
      },
      "execution_count": null,
      "outputs": [
        {
          "output_type": "error",
          "ename": "KeyError",
          "evalue": "'Mauricio'",
          "traceback": [
            "\u001b[0;31m---------------------------------------------------------------------------\u001b[0m",
            "\u001b[0;31mKeyError\u001b[0m                                  Traceback (most recent call last)",
            "\u001b[0;32m<ipython-input-4-b4cbfbd6c9ee>\u001b[0m in \u001b[0;36m<cell line: 0>\u001b[0;34m()\u001b[0m\n\u001b[0;32m----> 1\u001b[0;31m \u001b[0mbiscoito\u001b[0m\u001b[0;34m.\u001b[0m\u001b[0mremove\u001b[0m\u001b[0;34m(\u001b[0m\u001b[0;34m'Mauricio'\u001b[0m\u001b[0;34m)\u001b[0m\u001b[0;34m\u001b[0m\u001b[0;34m\u001b[0m\u001b[0m\n\u001b[0m",
            "\u001b[0;31mKeyError\u001b[0m: 'Mauricio'"
          ]
        }
      ]
    },
    {
      "cell_type": "code",
      "source": [
        "#o METODO discard remove um elemento especifico sem gerar um erro caso o\n",
        "#elemento não exista.\n",
        "print(biscoito)\n",
        "biscoito.discard('Mauricio')"
      ],
      "metadata": {
        "colab": {
          "base_uri": "https://localhost:8080/"
        },
        "id": "4IJcCfIQizYp",
        "outputId": "ad87b3f7-92c2-4ab4-cdb4-bbcc52f1bdc9"
      },
      "execution_count": null,
      "outputs": [
        {
          "output_type": "stream",
          "name": "stdout",
          "text": [
            "{'João', 'Matheus', 'Carlos', 'Maria'}\n"
          ]
        }
      ]
    },
    {
      "cell_type": "code",
      "source": [
        "#vamos unir dois conjuntos sem repetir os nomes\n",
        "print(biscoito)\n",
        "print(bolacha)\n",
        "todos = bolacha.union(biscoito) #Não repete elementos iguais dos conjunto\n",
        "print(todos)"
      ],
      "metadata": {
        "colab": {
          "base_uri": "https://localhost:8080/"
        },
        "id": "CNbwMGAWjfnp",
        "outputId": "d7ebfd82-df24-4520-cef0-ab48a125e1c6"
      },
      "execution_count": null,
      "outputs": [
        {
          "output_type": "stream",
          "name": "stdout",
          "text": [
            "{'João', 'Matheus', 'Carlos', 'Maria'}\n",
            "{'Maria', 'Matheus', 'Carlos'}\n",
            "{'João', 'Matheus', 'Maria', 'Carlos'}\n"
          ]
        }
      ]
    },
    {
      "cell_type": "code",
      "source": [
        "#Vamos criar um novo conjunto com interseção\n",
        "print(biscoito)\n",
        "print(bolacha)\n",
        "panelinha = biscoito.intersection(bolacha)#pega só os elementos iguais dos elementos\n",
        "print(panelinha)"
      ],
      "metadata": {
        "colab": {
          "base_uri": "https://localhost:8080/"
        },
        "id": "bBsXWrq2kQJR",
        "outputId": "24dcc1aa-7a0c-4cd3-ae9b-30d6450f85d5"
      },
      "execution_count": null,
      "outputs": [
        {
          "output_type": "stream",
          "name": "stdout",
          "text": [
            "{'João', 'Matheus', 'Carlos', 'Maria'}\n",
            "{'Maria', 'Matheus', 'Carlos'}\n",
            "{'Maria', 'Matheus', 'Carlos'}\n"
          ]
        }
      ]
    },
    {
      "cell_type": "code",
      "source": [
        "#Retorna aquele que fala somente biscoito\n",
        "print(biscoito)\n",
        "print(bolacha)\n",
        "so_biscoito = biscoito.difference(bolacha)\n",
        "print(so_biscoito)"
      ],
      "metadata": {
        "colab": {
          "base_uri": "https://localhost:8080/"
        },
        "id": "YdgNKETKlCZ6",
        "outputId": "97863806-5bd4-40ae-c90d-689ca3c1a7ba"
      },
      "execution_count": null,
      "outputs": [
        {
          "output_type": "stream",
          "name": "stdout",
          "text": [
            "{'João', 'Matheus', 'Carlos', 'Maria'}\n",
            "{'Maria', 'Matheus', 'Carlos'}\n",
            "{'João'}\n"
          ]
        }
      ]
    },
    {
      "cell_type": "code",
      "source": [
        "#Popdemos adicionar um conjunto dentro de outro conjunto\n",
        "print(bolacha)\n",
        "bolacha.update(biscoito)\n",
        "print(bolacha)"
      ],
      "metadata": {
        "colab": {
          "base_uri": "https://localhost:8080/"
        },
        "id": "VW3lcQjhlagS",
        "outputId": "dcc42e06-34f3-47c5-94e4-e3f711680fbc"
      },
      "execution_count": null,
      "outputs": [
        {
          "output_type": "stream",
          "name": "stdout",
          "text": [
            "{'Maria', 'Matheus', 'Carlos'}\n",
            "{'João', 'Matheus', 'Maria', 'Carlos'}\n"
          ]
        }
      ]
    },
    {
      "cell_type": "code",
      "source": [
        "#Retornar o tamanho\n",
        "\n",
        "len(bolacha)"
      ],
      "metadata": {
        "colab": {
          "base_uri": "https://localhost:8080/"
        },
        "id": "PUfMWobwmOEp",
        "outputId": "47ba88ef-3a18-4021-9397-a13addd29254"
      },
      "execution_count": null,
      "outputs": [
        {
          "output_type": "execute_result",
          "data": {
            "text/plain": [
              "4"
            ]
          },
          "metadata": {},
          "execution_count": 15
        }
      ]
    },
    {
      "cell_type": "code",
      "source": [
        "#Podemos transformar uma lista em conjunto\n",
        "lista = [1,2,3,4,5,4,4]\n",
        "print(lista.count(4))\n",
        "conjunto = set(lista)# SET converte a lilsta em conjunto\n",
        "print(conjunto)\n",
        "print(len(conjunto))"
      ],
      "metadata": {
        "colab": {
          "base_uri": "https://localhost:8080/"
        },
        "id": "tkXb6AoMmW76",
        "outputId": "0cbab267-e43f-4083-99de-6aeece8ce3c5"
      },
      "execution_count": null,
      "outputs": [
        {
          "output_type": "stream",
          "name": "stdout",
          "text": [
            "3\n",
            "{1, 2, 3, 4, 5}\n",
            "5\n"
          ]
        }
      ]
    },
    {
      "cell_type": "code",
      "source": [
        "# Fazer cópia de um conjunto\n",
        "backup = biscoito.copy()\n",
        "print(backup)"
      ],
      "metadata": {
        "colab": {
          "base_uri": "https://localhost:8080/"
        },
        "id": "X_0jFfKzn8_y",
        "outputId": "497c5382-3361-432a-8f64-fd4a5a2a28df"
      },
      "execution_count": null,
      "outputs": [
        {
          "output_type": "stream",
          "name": "stdout",
          "text": [
            "{'João', 'Carlos', 'Matheus', 'Maria'}\n"
          ]
        }
      ]
    },
    {
      "cell_type": "code",
      "source": [
        "'''\n",
        "Vamos supor que temos duas listas promoções, uma do supermercado A e outra do B.\n",
        "Nós queremos saber quais são as promoções exclusivas de A e as de B.\n",
        "'''\n",
        "promocao_a = {'Arroz','Feijão','Macarrão','Café'}\n",
        "promocao_b = {'Azeite', 'Açúcar', 'Café', 'Macarrão'}\n",
        "\n",
        "exclusivo_a = promocao_a - promocao_b\n",
        "print(exclusivo_a)\n",
        "\n",
        "exclusivo_b = promocao_b - promocao_a\n",
        "print(exclusivo_b)\n"
      ],
      "metadata": {
        "colab": {
          "base_uri": "https://localhost:8080/"
        },
        "id": "hRBtENy_oaQ6",
        "outputId": "5150d94b-0dfb-411e-af7a-26eac67cc181"
      },
      "execution_count": null,
      "outputs": [
        {
          "output_type": "stream",
          "name": "stdout",
          "text": [
            "{'Feijão', 'Arroz'}\n",
            "{'Açúcar', 'Azeite'}\n"
          ]
        }
      ]
    },
    {
      "cell_type": "code",
      "source": [
        "#Crie um set com 4 elementos e adicione um novo elemento nele\n",
        "# e depois revoma o elemento novo que foi adicionado\n",
        "conjunto = {'Matheus','João','Maria','Carlos'}\n",
        "print(conjunto)\n",
        "conjunto.add('AGNALDO')\n",
        "print(conjunto)\n",
        "conjunto.remove('AGNALDO')\n",
        "print(conjunto)"
      ],
      "metadata": {
        "colab": {
          "base_uri": "https://localhost:8080/"
        },
        "id": "ZFfMpwAgpY3M",
        "outputId": "a03ecb5a-5a7a-469e-af11-120e038a3b7a"
      },
      "execution_count": null,
      "outputs": [
        {
          "output_type": "stream",
          "name": "stdout",
          "text": [
            "{'João', 'Maria', 'Matheus', 'Carlos'}\n",
            "{'João', 'Matheus', 'Carlos', 'AGNALDO', 'Maria'}\n",
            "{'João', 'Matheus', 'Carlos', 'Maria'}\n"
          ]
        }
      ]
    },
    {
      "cell_type": "code",
      "source": [
        "'''\n",
        "Em uma escola há dois clubes: o de teatro e o de música.\n",
        "Queremos reponder as seguintes questões:\n",
        "\n",
        "1 - Quais alunos participam de ambos?\n",
        "2 - Quais alunos participam de pelo menos um clube?\n",
        "'''\n",
        "teatro = {'Gabriel','Melquezedeque','Marcos','Tereza'}\n",
        "musica = {'Gabriel','Tereza','Laura','Thomas'}\n",
        "print(teatro)\n",
        "print(musica)\n",
        "#ambos\n",
        "ambos = teatro.intersection(musica)\n",
        "print(ambos)\n",
        "\n",
        "#Pelo menos um\n",
        "pelo_menos_um = teatro.union(musica)\n",
        "print(pelo_menos_um)"
      ],
      "metadata": {
        "colab": {
          "base_uri": "https://localhost:8080/"
        },
        "id": "KyHdBu10rLM0",
        "outputId": "be6be7f0-b5ac-4ef0-a775-b4418696081e"
      },
      "execution_count": null,
      "outputs": [
        {
          "output_type": "stream",
          "name": "stdout",
          "text": [
            "{'Marcos', 'Gabriel', 'Melquezedeque', 'Tereza'}\n",
            "{'Gabriel', 'Thomas', 'Tereza', 'Laura'}\n",
            "{'Gabriel', 'Tereza'}\n",
            "{'Melquezedeque', 'Laura', 'Tereza', 'Gabriel', 'Marcos', 'Thomas'}\n"
          ]
        }
      ]
    },
    {
      "cell_type": "markdown",
      "source": [
        "#11 - Estrutura Condicional"
      ],
      "metadata": {
        "id": "3cOAVmxwxHWZ"
      }
    },
    {
      "cell_type": "code",
      "source": [
        "'''\n",
        "Vamos receber uma nota do usuario e se a nota for maior ou igual a 6,\n",
        "imprimir a farse Aprovado!\n",
        "'''\n",
        "nota = float(input('Digite a nota: '))\n",
        "if nota >= 6:\n",
        "print('Aprovado!')#Erro de indentação"
      ],
      "metadata": {
        "colab": {
          "base_uri": "https://localhost:8080/",
          "height": 106
        },
        "id": "Jm-0u9iJxNnC",
        "outputId": "c36ec55f-7a47-41cc-a696-b59ac44bac7d"
      },
      "execution_count": null,
      "outputs": [
        {
          "output_type": "error",
          "ename": "IndentationError",
          "evalue": "expected an indented block after 'if' statement on line 6 (<ipython-input-27-d26430db5805>, line 7)",
          "traceback": [
            "\u001b[0;36m  File \u001b[0;32m\"<ipython-input-27-d26430db5805>\"\u001b[0;36m, line \u001b[0;32m7\u001b[0m\n\u001b[0;31m    print('Aprovado!')#Erro de indentação\u001b[0m\n\u001b[0m    ^\u001b[0m\n\u001b[0;31mIndentationError\u001b[0m\u001b[0;31m:\u001b[0m expected an indented block after 'if' statement on line 6\n"
          ]
        }
      ]
    },
    {
      "cell_type": "code",
      "source": [
        "'''\n",
        "Vamos receber uma nota do usuario e se a nota for maior ou igual a 6,\n",
        "imprimir a farse Aprovado!\n",
        "'''\n",
        "nota = float(input('Digite a nota: '))\n",
        "if nota >= 6:\n",
        "  print('Aprovado!')\n",
        "else:\n",
        "  print('Reprovado!')"
      ],
      "metadata": {
        "colab": {
          "base_uri": "https://localhost:8080/"
        },
        "id": "xlgjCxdEzcqw",
        "outputId": "cd11d423-5c8a-48b6-dff5-074bb1535e8d"
      },
      "execution_count": null,
      "outputs": [
        {
          "output_type": "stream",
          "name": "stdout",
          "text": [
            "Digite a nota: 5\n",
            "Reprovado!\n"
          ]
        }
      ]
    },
    {
      "cell_type": "code",
      "source": [
        "nota = float(input('Digite a nota: '))\n",
        "nota = round(nota)\n",
        "if nota >= 6:\n",
        "  print('Aprovado!')\n",
        "else:\n",
        "  print('Reprovado!')"
      ],
      "metadata": {
        "colab": {
          "base_uri": "https://localhost:8080/"
        },
        "id": "6PDHOXd8z2AY",
        "outputId": "e439510a-6a6b-4eba-b035-ce423cd68ac9"
      },
      "execution_count": null,
      "outputs": [
        {
          "output_type": "stream",
          "name": "stdout",
          "text": [
            "Digite a nota: 5.9\n",
            "Aprovado!\n"
          ]
        }
      ]
    },
    {
      "cell_type": "code",
      "source": [
        "nota = float(input('Digite a nota: '))\n",
        "\n",
        "if nota >= 5.7: # aprovado caso a nota seja de 5.7 pra cima\n",
        "  nota = round(nota)\n",
        "  print('Aprovado! A sua nota foi', nota)\n",
        "else:\n",
        "  print('Reprovado! A sua nota foi', nota)"
      ],
      "metadata": {
        "colab": {
          "base_uri": "https://localhost:8080/"
        },
        "id": "Ca9E56bp0VIx",
        "outputId": "b870bb54-2cc4-4a55-da2a-a7efa6e18e0c"
      },
      "execution_count": null,
      "outputs": [
        {
          "output_type": "stream",
          "name": "stdout",
          "text": [
            "Digite a nota: 5.8\n",
            "Aprovado! A sua nota foi 6\n"
          ]
        }
      ]
    },
    {
      "cell_type": "code",
      "source": [
        "'''\n",
        "Vamos supor que se a sua nota for maior ou igual a 6 iremos exibir a mensagem\n",
        "de aprovado.\n",
        "Mas se a nota for menor do que 6 e maior do que 4, exibirá a mensagem de recuperação.\n",
        "Caso contrário, reprovado.\n",
        "'''\n",
        "nota = float(input('Digite a nota de 0 a 10: '))\n",
        "\n",
        "if nota >= 6:\n",
        "  print('Aprovado! A sua nota foi', nota)\n",
        "elif nota >= 4:\n",
        "  print('Recuperação! A sua nota foi', nota)\n",
        "else:\n",
        "  print('Reprovado! A sua nota foi', nota)"
      ],
      "metadata": {
        "colab": {
          "base_uri": "https://localhost:8080/"
        },
        "id": "oeZyGTUI1dXZ",
        "outputId": "15aa62b1-ad88-4e49-98a2-e8ded9582e88"
      },
      "execution_count": null,
      "outputs": [
        {
          "output_type": "stream",
          "name": "stdout",
          "text": [
            "Digite a nota de 0 a 10: 1\n",
            "Reprovado! A sua nota foi 1.0\n"
          ]
        }
      ]
    },
    {
      "cell_type": "code",
      "source": [
        "'''\n",
        "Faça um programa que receba 3 notas e calcule a média do usuário.\n",
        "Caso a média seja maior ou igual a 7, exiba a mensagem aprovado.\n",
        "Caso contrário, reprovado.\n",
        "'''\n",
        "#entradas\n",
        "nota1 = float(input('Digite a primeira nota: '))\n",
        "nota2 = float(input('Digite a segunda nota: '))\n",
        "nota3 = float(input('Digite a terceira nota: '))\n",
        "\n",
        "#Processamento\n",
        "media = (nota1 + nota2 + nota3)/3\n",
        "\n",
        "if media >= 7:\n",
        "  print(f'Aprovado! A sua média foi: {media:.2f}')\n",
        "else:\n",
        "  print(f'Reprovado! A sua média foi: {media:.2f}')\n",
        "'''\n",
        ": - Indica o inicio da formatação\n",
        ".2 - Indica que vamos ter duas cadas decimais\n",
        "f - Indica que vai ser formatado como um ponto flutuante.\n",
        "'''"
      ],
      "metadata": {
        "colab": {
          "base_uri": "https://localhost:8080/"
        },
        "id": "h-YvRreE5Hjc",
        "outputId": "5bf4f27f-4f2f-4963-f8e0-149d9ac41ce6"
      },
      "execution_count": null,
      "outputs": [
        {
          "output_type": "stream",
          "name": "stdout",
          "text": [
            "Digite a primeira nota: 7\n",
            "Digite a segunda nota: 8\n",
            "Digite a terceira nota: 9\n",
            "Aprovado! A sua média foi: 8.00\n"
          ]
        }
      ]
    },
    {
      "cell_type": "code",
      "source": [
        "'''\n",
        "Vamos criar um script que receba uma nota digitada pelo usuário.\n",
        "Caso a nota seja maior ou igual a 6, retorne aprovado.\n",
        "Se for menor do que 6 e maior ou igual a 4, exiba recuperação online.\n",
        "Caso seja menor do que 4 e maior ou igual a 2, exiba recuperação presencial.\n",
        "E caso seja menor do que 2, exiba reprovado.\n",
        "'''\n",
        "nota = float(input('Digite a nota: '))\n",
        "if nota >= 6:\n",
        "  print('Aprovado!')\n",
        "elif nota >= 4:\n",
        "  print('Recuperação online!')\n",
        "elif nota >= 2:\n",
        "  print('Recuperação presencial!')\n",
        "else:\n",
        "    print('Reprovado!')"
      ],
      "metadata": {
        "colab": {
          "base_uri": "https://localhost:8080/"
        },
        "id": "GpQOFBZDAoAW",
        "outputId": "1cca39bd-c727-41ee-870c-863b79a96269"
      },
      "execution_count": null,
      "outputs": [
        {
          "output_type": "stream",
          "name": "stdout",
          "text": [
            "Digite a nota: 1\n",
            "Reprovado!\n"
          ]
        }
      ]
    },
    {
      "cell_type": "code",
      "source": [
        "'''\n",
        "Vamos criar um script que receba uma nota digitada pelo usuário.\n",
        "Caso a nota seja maior ou igual a 6, retorne aprovado.\n",
        "Se for menor do que 6 e maior ou igual a 4, exiba recuperação online.\n",
        "Caso seja menor do que 4 e maior ou igual a 2, exiba recuperação presencial.\n",
        "E caso seja menor do que 2, exiba reprovado.\n",
        "'''\n",
        "#Entrada\n",
        "nota = float(input('Informe uma nota de 0 a 10: '))\n",
        "if 6 <= nota <= 10: # [6, 10] 6, 7, 8, 9, 10\n",
        "  print('Aprovado!')\n",
        "elif 4 <= nota < 6: # [4,6) 4, 5\n",
        "  print('Recuperação Online!')\n",
        "elif 2 <= nota < 4: # [2,4) 2, 3\n",
        "  print('Recuperação Presencial')\n",
        "else:  # 0 e 1\n",
        "  print('Reprovado!')"
      ],
      "metadata": {
        "id": "evGivGKNIKCo"
      },
      "execution_count": null,
      "outputs": []
    },
    {
      "cell_type": "code",
      "source": [
        "'''\n",
        "Vamos criar um script que receba uma nota digitada pelo usuário.\n",
        "Caso a nota seja maior ou igual a 6, retorne aprovado.\n",
        "Se for menor do que 6 e maior ou igual a 4, exiba recuperação online.\n",
        "Caso seja menor do que 4 e maior ou igual a 2, exiba recuperação presencial.\n",
        "E caso seja menor do que 2, exiba reprovado.\n",
        "'''\n",
        "#Entrada\n",
        "nota = float(input('Informe uma nota de 0 a 10: '))\n",
        "if nota >= 6 and nota<=10: # [6, 10] 6, 7, 8, 9, 10\n",
        "  print('Aprovado!')\n",
        "elif nota >= 4 and nota < 6: # [4,6) 4, 5\n",
        "  print('Recuperação Online!')\n",
        "elif nota >= 2 and nota < 4: # [2,4) 2, 3\n",
        "  print('Recuperação Presencial')\n",
        "elif nota >= 0 and nota <2:\n",
        "  print('Reprovado!')\n",
        "else:\n",
        "  print('Nota inválida!')"
      ],
      "metadata": {
        "colab": {
          "base_uri": "https://localhost:8080/"
        },
        "id": "pObRJFz1INKt",
        "outputId": "7da4fc2d-1d97-47e9-9191-5ea3a0da7083"
      },
      "execution_count": null,
      "outputs": [
        {
          "output_type": "stream",
          "name": "stdout",
          "text": [
            "Informe uma nota de 0 a 10: 11\n",
            "Nota inválida!\n"
          ]
        }
      ]
    },
    {
      "cell_type": "markdown",
      "source": [
        "##11.1 - Operador Ternário"
      ],
      "metadata": {
        "id": "abf4eUjkYOPt"
      }
    },
    {
      "cell_type": "code",
      "source": [
        "'''\n",
        "Ternário vem de tres partes  e podemos defini-lo da seguinte maneira:\n",
        "1- Condição\n",
        "2- Valor caso seja verdadeiro\n",
        "3- Valor caso seja falso\n",
        "\n",
        "cotumam chamar de if simplificado ou if de uma linha\n",
        "'''\n",
        "idade = int(input('Informe a idade: '))\n",
        "print('Maior idade.' if idade >= 18 else 'Menor idade')"
      ],
      "metadata": {
        "colab": {
          "base_uri": "https://localhost:8080/"
        },
        "id": "-dFlkGwFYYtQ",
        "outputId": "6c8a1aab-a620-489e-ecce-8e151f7ae03e"
      },
      "execution_count": null,
      "outputs": [
        {
          "output_type": "stream",
          "name": "stdout",
          "text": [
            "Informe a idade: 17\n",
            "Menor idade\n"
          ]
        }
      ]
    },
    {
      "cell_type": "code",
      "source": [
        "#Podemos utilizar o operador ternário numa f-string também\n",
        "idade = int(input('Informe a idade: '))\n",
        "#Só a nível de exemplo, é mais fácil utilizar o print direto.\n",
        "#Precisamos encapsular todo o bloco do ternário entre chaves numa f-string\n",
        "print(f\"{'Maior idade.' if idade >= 18 else 'Menor idade'}\")"
      ],
      "metadata": {
        "colab": {
          "base_uri": "https://localhost:8080/"
        },
        "id": "0D7W4yb6Zwrr",
        "outputId": "e7fdfa4f-7aa9-40a7-c53f-a9285a378f70"
      },
      "execution_count": null,
      "outputs": [
        {
          "output_type": "stream",
          "name": "stdout",
          "text": [
            "Informe a idade: 18\n",
            "Maior idade.\n"
          ]
        }
      ]
    },
    {
      "cell_type": "code",
      "source": [
        "preco = float(input(\"Digite um preço: \"))\n",
        "#Atribuindo 0.1 a variável desconto se o preço for maior do que 100 e 0.05 se for menor.\n",
        "desconto = 0.1 if preco > 100 else 0.05\n",
        "print(desconto)"
      ],
      "metadata": {
        "colab": {
          "base_uri": "https://localhost:8080/"
        },
        "id": "Cw__fmziaum5",
        "outputId": "1dea91fd-c858-4a94-f38d-ba4600a83dfa"
      },
      "execution_count": null,
      "outputs": [
        {
          "output_type": "stream",
          "name": "stdout",
          "text": [
            "Digite um preço: 99\n",
            "0.05\n"
          ]
        }
      ]
    },
    {
      "cell_type": "code",
      "source": [
        "#Evite exageros\n",
        "#Vamos descobrir se o número é nagativo, par ou ímpar\n",
        "numero = int(input('Informe um número: '))\n",
        "resultado = \"Negativo\" if numero < 0 else \"Par\" if numero % 2 == 0 else \"Ímpar\"\n",
        "print(resultado)"
      ],
      "metadata": {
        "colab": {
          "base_uri": "https://localhost:8080/"
        },
        "id": "q43AVdPYbI5w",
        "outputId": "04f49c78-4e3d-404f-81c7-f7d18d8d1476"
      },
      "execution_count": null,
      "outputs": [
        {
          "output_type": "stream",
          "name": "stdout",
          "text": [
            "Informe um número: 2\n",
            "Par\n"
          ]
        }
      ]
    },
    {
      "cell_type": "code",
      "source": [
        "'''\n",
        "Escreva um programa que pergunte a idade da pessoa e se ele for menor de idade\n",
        "exiba a mensagem: \"Você não pode tirar a carteira de motorista\".\n",
        "Caso contrário, exiba: \"Você pode tirar a carteira\"\n",
        "'''\n",
        "idade = int(input('Informe a idade: '))\n",
        "print('Você não pode tirar a carteira de motorista' if idade < 18 else 'Você pode tirar a carteira')"
      ],
      "metadata": {
        "colab": {
          "base_uri": "https://localhost:8080/"
        },
        "id": "WjvZJYikcDM5",
        "outputId": "9015780e-c3b4-4f28-b3e9-296f599d9b3f"
      },
      "execution_count": null,
      "outputs": [
        {
          "output_type": "stream",
          "name": "stdout",
          "text": [
            "Informe a idade: 18\n",
            "Você pode tirar a carteira\n"
          ]
        }
      ]
    },
    {
      "cell_type": "markdown",
      "source": [
        "#12 - Estrutura de repetição"
      ],
      "metadata": {
        "id": "Hj55NWCUJlTi"
      }
    },
    {
      "cell_type": "markdown",
      "source": [
        "##12.1 - For"
      ],
      "metadata": {
        "id": "HPqQOwc7Jv5I"
      }
    },
    {
      "cell_type": "code",
      "source": [
        "'''\n",
        "Vocês podem encontrar como:\n",
        "  Estrutura de repetição\n",
        "  Estrutura de controle\n",
        "  Laço de repetição\n",
        "  Laço com variável de repetição\n",
        "\n",
        "É uma estrutura que utilizamos para percorrer itens em uma sequência. Essa\n",
        "sequência pode ser uma lista, uma string, um intervalo numérico, entre outros.\n",
        "Ela executa o bloco de código para cada item da sequência.\n",
        "\n",
        "Estrutura:\n",
        "  for item in sequencia:\n",
        "    #Faça alguma coisa com o item\n",
        "\n",
        "1 - item: variável que representa o elemento atual da sequência.\n",
        "2 - sequência: Uma lista, uma string, uma tupla ou qualquer objeto iterável.\n",
        "3 - bloco indentado: o código dentro do for vai ser executado para cada elemento\n",
        "da sequência.\n",
        "\n",
        "'''"
      ],
      "metadata": {
        "id": "n2BhN9oZJ0Sw"
      },
      "execution_count": null,
      "outputs": []
    },
    {
      "cell_type": "code",
      "source": [
        "irmaos = ['Ailton','Agda','Alessandro']\n",
        "print(f'O nome do meu irmão é {irmaos[0]}')\n",
        "print(f'O nome do meu irmão é {irmaos[1]}')\n",
        "print(f'O nome do meu irmão é {irmaos[2]}')\n",
        "print(irmaos)"
      ],
      "metadata": {
        "colab": {
          "base_uri": "https://localhost:8080/"
        },
        "id": "u0-vtBGqLPZA",
        "outputId": "0f0c44ae-4a12-4a9c-deaa-143d9b49b009"
      },
      "execution_count": null,
      "outputs": [
        {
          "output_type": "stream",
          "name": "stdout",
          "text": [
            "O nome do meu irmão é Ailton\n",
            "O nome do meu irmão é Agda\n",
            "O nome do meu irmão é Alessandro\n",
            "['Ailton', 'Agda', 'Alessandro']\n"
          ]
        }
      ]
    },
    {
      "cell_type": "code",
      "source": [
        "'''\n",
        " 1 -\n",
        "  Ailton in ['Ailton', 'Agda', 'Alessandro']\n",
        "    o Nome do meu irmão é Ailton\n",
        "\n",
        " 2 -\n",
        "  Agda in ['Ailton', 'Agda', 'Alessandro']\n",
        "    o Nome do meu irmão é Agda\n",
        "\n",
        "3 -\n",
        "  Alessandro in ['Ailton', 'Agda', 'Alessandro']\n",
        "    o Nome do meu irmão é Alessandro\n",
        "'''\n",
        "for x in irmaos:\n",
        "  print(f'O nome do meu irmão é {x}')"
      ],
      "metadata": {
        "colab": {
          "base_uri": "https://localhost:8080/"
        },
        "id": "KsN_ivL5LvRg",
        "outputId": "aa000faf-0c07-46e5-f6e9-b649c2f17f19"
      },
      "execution_count": null,
      "outputs": [
        {
          "output_type": "stream",
          "name": "stdout",
          "text": [
            "O nome do meu irmão é Ailton\n",
            "O nome do meu irmão é Agda\n",
            "O nome do meu irmão é Alessandro\n"
          ]
        }
      ]
    },
    {
      "cell_type": "code",
      "source": [
        "#Podemos percorrer uma string\n",
        "palavra = 'Soulcode'\n",
        "for letra in palavra:\n",
        "  print(letra)"
      ],
      "metadata": {
        "colab": {
          "base_uri": "https://localhost:8080/"
        },
        "id": "9ekRen5ANxBM",
        "outputId": "0c2487a7-7f53-49bc-a0ac-31698ce7c025"
      },
      "execution_count": null,
      "outputs": [
        {
          "output_type": "stream",
          "name": "stdout",
          "text": [
            "S\n",
            "o\n",
            "u\n",
            "l\n",
            "c\n",
            "o\n",
            "d\n",
            "e\n"
          ]
        }
      ]
    },
    {
      "cell_type": "code",
      "source": [
        "#Percorram a lista e imprimam a frase\n",
        "jogos = ['LoL','CS','Dota','Fifa','FF']\n",
        "for jogo in jogos:\n",
        "  print(f'Eu gosto de jogar {jogo}')"
      ],
      "metadata": {
        "colab": {
          "base_uri": "https://localhost:8080/"
        },
        "id": "lihGQBQxOH1G",
        "outputId": "b48e890b-83bf-4cb2-a99f-3863d33560cc"
      },
      "execution_count": null,
      "outputs": [
        {
          "output_type": "stream",
          "name": "stdout",
          "text": [
            "Eu gosto de jogar LoL\n",
            "Eu gosto de jogar CS\n",
            "Eu gosto de jogar Dota\n",
            "Eu gosto de jogar Fifa\n",
            "Eu gosto de jogar FF\n"
          ]
        }
      ]
    },
    {
      "cell_type": "markdown",
      "source": [
        "###12.1.1 - Range"
      ],
      "metadata": {
        "id": "pd1SIS5ZaJn8"
      }
    },
    {
      "cell_type": "code",
      "source": [
        "'''\n",
        "Range é uma função muito utilizada no python para gerar uma sequencia de numeros.\n",
        "Normalmente é usada em conjunto com o for.\n",
        "Serve para controlar o numero de interações ou percorrer um intervalo numerico\n",
        "'''\n",
        "#contar de 0 a 9\n",
        "for numero in range(10):\n",
        "  print(numero)"
      ],
      "metadata": {
        "colab": {
          "base_uri": "https://localhost:8080/"
        },
        "id": "-0OIyDaWaP-9",
        "outputId": "29dd917a-cb65-4383-bc98-27c5c251d7f8"
      },
      "execution_count": null,
      "outputs": [
        {
          "output_type": "stream",
          "name": "stdout",
          "text": [
            "0\n",
            "1\n",
            "2\n",
            "3\n",
            "4\n",
            "5\n",
            "6\n",
            "7\n",
            "8\n",
            "9\n"
          ]
        }
      ]
    },
    {
      "cell_type": "code",
      "source": [
        "'''\n",
        "Voce pode especificar o valor inicial\n",
        "'''\n",
        "for numero in range(5,11):\n",
        "  print(numero)"
      ],
      "metadata": {
        "colab": {
          "base_uri": "https://localhost:8080/"
        },
        "id": "TZPHfFXmbnY1",
        "outputId": "4470d30a-2866-4c8f-dab0-fd92865ac4cf"
      },
      "execution_count": null,
      "outputs": [
        {
          "output_type": "stream",
          "name": "stdout",
          "text": [
            "5\n",
            "6\n",
            "7\n",
            "8\n",
            "9\n",
            "10\n"
          ]
        }
      ]
    },
    {
      "cell_type": "code",
      "source": [
        "'''\n",
        "O terceiro argumento defini o tamanho do passo entre numeros\n",
        "A distância entre numeros.\n",
        "'''\n",
        "#Start 0\n",
        "#Stop 20\n",
        "#Step 5\n",
        "for numero in range(0,20,5):\n",
        "  print(numero)\n"
      ],
      "metadata": {
        "colab": {
          "base_uri": "https://localhost:8080/"
        },
        "id": "JCBwolFnc2pj",
        "outputId": "ca3b56d1-0e0c-49bd-afc0-7e12e03f8603"
      },
      "execution_count": null,
      "outputs": [
        {
          "output_type": "stream",
          "name": "stdout",
          "text": [
            "0\n",
            "5\n",
            "10\n",
            "15\n"
          ]
        }
      ]
    },
    {
      "cell_type": "code",
      "source": [
        "'''\n",
        "Como o Range funciona\n",
        "  Pode receber 3 argumentos:\n",
        "    range(stop): Gera números até stop - 1;\n",
        "    range(start,stop): Gera números de start até stop - 1;\n",
        "    range(start,stop,step): Gera números de start até stop -1, com passos do tamanho do step.\n",
        "'''\n",
        "#Nesse caso o start é 10\n",
        "#O stop é 0\n",
        "#O step é -1\n",
        "for numero in range(10, 0, -1):\n",
        "  print(numero)\n"
      ],
      "metadata": {
        "colab": {
          "base_uri": "https://localhost:8080/"
        },
        "id": "MmWB7O1sdff7",
        "outputId": "07ce322d-6964-48f7-eb7e-84437504946e"
      },
      "execution_count": null,
      "outputs": [
        {
          "output_type": "stream",
          "name": "stdout",
          "text": [
            "10\n",
            "9\n",
            "8\n",
            "7\n",
            "6\n",
            "5\n",
            "4\n",
            "3\n",
            "2\n",
            "1\n"
          ]
        }
      ]
    },
    {
      "cell_type": "code",
      "source": [
        "'''\n",
        "Vamos utilizar o range para controlar a logica em loops\n",
        "'''\n",
        "#Retornando os numeros pares e impares de um intervalo\n",
        "for numero in range(1,11):\n",
        "  if numero % 2 == 0:\n",
        "    print(f'{numero} é par')\n",
        "  else:\n",
        "    print(f'{numero} é impar')\n"
      ],
      "metadata": {
        "colab": {
          "base_uri": "https://localhost:8080/"
        },
        "id": "sLY7RS8edzUz",
        "outputId": "d56151d4-383b-4691-eaf8-fa731321bac6"
      },
      "execution_count": null,
      "outputs": [
        {
          "output_type": "stream",
          "name": "stdout",
          "text": [
            "1 é impar\n",
            "2 é par\n",
            "3 é impar\n",
            "4 é par\n",
            "5 é impar\n",
            "6 é par\n",
            "7 é impar\n",
            "8 é par\n",
            "9 é impar\n",
            "10 é par\n"
          ]
        }
      ]
    },
    {
      "cell_type": "code",
      "source": [
        "'''\n",
        "Perfeito para gerar sequências numéricas repetidas\n",
        "'''\n",
        "numero = 7\n",
        "for i in range(1,11):\n",
        "  multiplica = numero * i\n",
        "  print(f'{numero} x {i} = {multiplica}')\n"
      ],
      "metadata": {
        "colab": {
          "base_uri": "https://localhost:8080/"
        },
        "id": "UAk6eM1beaab",
        "outputId": "52450df6-d247-43c4-9123-84588a42e5a1"
      },
      "execution_count": null,
      "outputs": [
        {
          "output_type": "stream",
          "name": "stdout",
          "text": [
            "7 x 1 = 7\n",
            "7 x 2 = 14\n",
            "7 x 3 = 21\n",
            "7 x 4 = 28\n",
            "7 x 5 = 35\n",
            "7 x 6 = 42\n",
            "7 x 7 = 49\n",
            "7 x 8 = 56\n",
            "7 x 9 = 63\n",
            "7 x 10 = 70\n"
          ]
        }
      ]
    },
    {
      "cell_type": "code",
      "source": [
        "'''\n",
        "O range não retorna uma lista diretamente, mas sim um objeto iterável.\n",
        "Mas, se quisermos, podemos visualizar e converter esses números numa\n",
        "lista\n",
        "'''\n",
        "numeros = list(range(5,16,2))\n",
        "print(numeros)\n",
        "type(numeros)"
      ],
      "metadata": {
        "colab": {
          "base_uri": "https://localhost:8080/"
        },
        "id": "mog1yF9ufJCm",
        "outputId": "14291221-d131-49fc-bd55-ab29ed938511"
      },
      "execution_count": null,
      "outputs": [
        {
          "output_type": "stream",
          "name": "stdout",
          "text": [
            "[5, 7, 9, 11, 13, 15]\n"
          ]
        },
        {
          "output_type": "execute_result",
          "data": {
            "text/plain": [
              "list"
            ]
          },
          "metadata": {},
          "execution_count": 13
        }
      ]
    },
    {
      "cell_type": "code",
      "source": [
        "irmaos = ['Ailton','Agda','Alessandro']\n",
        "for i in range(len(irmaos)):\n",
        "  print(f'O nome do meu irmão é {irmaos[i]} tem o indice {i}')"
      ],
      "metadata": {
        "colab": {
          "base_uri": "https://localhost:8080/"
        },
        "id": "3b1lf-RC1qVa",
        "outputId": "fafe7f59-06f1-42a9-cf85-b56e1143e2c6"
      },
      "execution_count": null,
      "outputs": [
        {
          "output_type": "stream",
          "name": "stdout",
          "text": [
            "O nome do meu irmão é Ailton tem o indice 0\n",
            "O nome do meu irmão é Agda tem o indice 1\n",
            "O nome do meu irmão é Alessandro tem o indice 2\n"
          ]
        }
      ]
    },
    {
      "cell_type": "markdown",
      "source": [
        "###12.1.2 - Enumerate"
      ],
      "metadata": {
        "id": "Ar_dYzI41YZp"
      }
    },
    {
      "cell_type": "code",
      "source": [
        "'''\n",
        "É uma função muito util quando voce precisa iterar sobre uma sequencia e voce\n",
        "tambem precisa saber o indice.\n",
        "\n",
        "Como funciona?\n",
        "  O enumerate retorna uma tupla contendo:\n",
        "    1 - O índice do elemento;\n",
        "    2 - O valor do elemento\n",
        "\n",
        "Estrutura do for:\n",
        "  for indice, valor in enumerate(sequência):\n",
        "    #codigo\n",
        "\n",
        "Sem o enumerate, nós precisaríamos utilizar o range(len(sequência)), o que é uma\n",
        "forma menos elegante/pythonica.\n",
        "\n",
        "'''"
      ],
      "metadata": {
        "id": "RnxkTbBD1gn1"
      },
      "execution_count": null,
      "outputs": []
    },
    {
      "cell_type": "code",
      "source": [
        "# enumerate retorna uma tupla (indice + valor)\n",
        "frutas = ['maçã','banana','uva']\n",
        "for indice, fruta in enumerate(frutas):\n",
        "  print(f'O índice é {indice} e a fruta é {fruta}')"
      ],
      "metadata": {
        "colab": {
          "base_uri": "https://localhost:8080/"
        },
        "id": "sgyV1Xjy3RTo",
        "outputId": "c9619162-7e1e-413b-ccd4-16adc2fe7800"
      },
      "execution_count": null,
      "outputs": [
        {
          "output_type": "stream",
          "name": "stdout",
          "text": [
            "O índice é 0 e a fruta é maçã\n",
            "O índice é 1 e a fruta é banana\n",
            "O índice é 2 e a fruta é uva\n"
          ]
        }
      ]
    },
    {
      "cell_type": "code",
      "source": [
        "#Também conseguimos utilizar com strings\n",
        "palavra = 'Soulcode'\n",
        "for indice, letra in enumerate(palavra):\n",
        "  print(f'O índice é {indice} e a letra é {letra}')"
      ],
      "metadata": {
        "colab": {
          "base_uri": "https://localhost:8080/"
        },
        "id": "s2XBNRIw3x6z",
        "outputId": "234de2b2-cdce-4922-9887-cd60d8ed6317"
      },
      "execution_count": null,
      "outputs": [
        {
          "output_type": "stream",
          "name": "stdout",
          "text": [
            "O índice é 0 e a letra é S\n",
            "O índice é 1 e a letra é o\n",
            "O índice é 2 e a letra é u\n",
            "O índice é 3 e a letra é l\n",
            "O índice é 4 e a letra é c\n",
            "O índice é 5 e a letra é o\n",
            "O índice é 6 e a letra é d\n",
            "O índice é 7 e a letra é e\n"
          ]
        }
      ]
    },
    {
      "cell_type": "code",
      "source": [
        "#Também é possivel usar só o indice ou só o valor\n",
        "# é só ousar o _ no lugar do oque quer omitir\n",
        "frutas = ['maçã','banana','uva']\n",
        "for indice, _ in enumerate(frutas):\n",
        "  print(f'O índice é {indice}')"
      ],
      "metadata": {
        "colab": {
          "base_uri": "https://localhost:8080/"
        },
        "id": "VxAvS2QP4JUi",
        "outputId": "e57617da-fdb0-4714-9165-2fe394dfe5c2"
      },
      "execution_count": null,
      "outputs": [
        {
          "output_type": "stream",
          "name": "stdout",
          "text": [
            "O índice é 0\n",
            "O índice é 1\n",
            "O índice é 2\n"
          ]
        }
      ]
    },
    {
      "cell_type": "code",
      "source": [
        "for _, fruta in enumerate(frutas):\n",
        "  print(f'A fruta é {fruta}')"
      ],
      "metadata": {
        "colab": {
          "base_uri": "https://localhost:8080/"
        },
        "id": "OgnXxnzZ4pRy",
        "outputId": "e33288a5-b58f-4899-c322-6ae2e7dd77ea"
      },
      "execution_count": null,
      "outputs": [
        {
          "output_type": "stream",
          "name": "stdout",
          "text": [
            "A fruta é maçã\n",
            "A fruta é banana\n",
            "A fruta é uva\n"
          ]
        }
      ]
    },
    {
      "cell_type": "code",
      "source": [
        "'''\n",
        "No enumerate podemos definir um indice incial diferente de 0.\n",
        "Por padrão o start é sempre 0.\n",
        "'''\n",
        "frutas = ['banana','maçã','goiaba']\n",
        "for indice, fruta in enumerate(frutas, start=1):\n",
        "  print(f'Indice: {indice}. Fruta: {fruta}')\n"
      ],
      "metadata": {
        "colab": {
          "base_uri": "https://localhost:8080/"
        },
        "id": "WE-EFUz05hPa",
        "outputId": "cfcf2c4a-8f21-457c-c88a-19fdfd484677"
      },
      "execution_count": null,
      "outputs": [
        {
          "output_type": "stream",
          "name": "stdout",
          "text": [
            "Indice: 1. Fruta: banana\n",
            "Indice: 2. Fruta: maçã\n",
            "Indice: 3. Fruta: goiaba\n"
          ]
        }
      ]
    },
    {
      "cell_type": "code",
      "source": [
        "'''\n",
        "Podemos usar o índice para acessar e modificar os elementos da lista\n",
        "'''\n",
        "#Placas em caixa alta\n",
        "placas = ['ABC-1234','EFG-5678','HIJ-3214']\n",
        "for indice, placa in enumerate(placas):\n",
        "  placas[indice] = placa.lower()\n",
        "\n",
        "#Placas em letras minusculas\n",
        "print(placas)"
      ],
      "metadata": {
        "colab": {
          "base_uri": "https://localhost:8080/"
        },
        "id": "DOFRqy9E7Hil",
        "outputId": "695d67b1-8a97-42fe-842d-f78cece4e1b8"
      },
      "execution_count": null,
      "outputs": [
        {
          "output_type": "stream",
          "name": "stdout",
          "text": [
            "['abc-1234', 'efg-5678', 'hij-3214']\n"
          ]
        }
      ]
    },
    {
      "cell_type": "markdown",
      "source": [
        "###12.1.3 - Compreesão de Lista"
      ],
      "metadata": {
        "id": "pBAa2-LZADbe"
      }
    },
    {
      "cell_type": "code",
      "source": [
        "\n",
        "'''\n",
        "É uma forma eficiente de criar listas. Permite que a gente consiga\n",
        "combinar a iteração com alguma filtragem em uma linha de código.\n",
        "\n",
        "Exemplo:\n",
        "  nome_lista = [expressao for elemento in elementos if condicao]\n",
        "\n",
        "expressao: o que vai ser incluido na lista nova\n",
        "for elemento in elementos: Repetição sobre alguma coisa: lista, tupla, string...\n",
        "if condicao: Isso é opcional, é um filtro que podemos usar\n",
        "'''\n"
      ],
      "metadata": {
        "id": "7tuFCvkbALOv"
      },
      "execution_count": null,
      "outputs": []
    },
    {
      "cell_type": "code",
      "source": [
        "'''\n",
        "Usando o for para criar uma lista baseada em outra lista\n",
        "'''\n",
        "numeros = [1,2,3,4,5,6,7,8,9,10]\n",
        "quadrados = []\n",
        "for numero in numeros:\n",
        "  quadrados.append(numero**2)\n",
        "print(quadrados)\n"
      ],
      "metadata": {
        "colab": {
          "base_uri": "https://localhost:8080/"
        },
        "id": "vfAH7dimBjb2",
        "outputId": "c3e33f40-f634-4934-a9c5-9883301466b1"
      },
      "execution_count": null,
      "outputs": [
        {
          "output_type": "stream",
          "name": "stdout",
          "text": [
            "[1, 4, 9, 16, 25, 36, 49, 64, 81, 100]\n"
          ]
        }
      ]
    },
    {
      "cell_type": "code",
      "source": [
        "'''\n",
        "Criando uma lista com base em outra lista\n",
        "'''\n",
        "numeros = [1,2,3,4,5,6,7,8,9,10]\n",
        "quadrados = [numero**2 for numero in numeros]\n",
        "print(quadrados)\n"
      ],
      "metadata": {
        "colab": {
          "base_uri": "https://localhost:8080/"
        },
        "id": "lyIH8hRvB6Mn",
        "outputId": "987c8389-8764-4437-fe02-70a577779c05"
      },
      "execution_count": null,
      "outputs": [
        {
          "output_type": "stream",
          "name": "stdout",
          "text": [
            "[1, 4, 9, 16, 25, 36, 49, 64, 81, 100]\n"
          ]
        }
      ]
    },
    {
      "cell_type": "code",
      "source": [
        "'''\n",
        "Queremos filtrar somente os numeros pares\n",
        "\n",
        "Pegando o número da nossa lista de números\n",
        "Para cada número em números\n",
        "Se o resto da divisão desse número por 2 for igual a 0 (Portanto o número par)\n",
        "'''\n",
        "numeros = [1,2,3,4,5,6,7,8,9,10]\n",
        "pares = [numero for numero in numeros if numero % 2 == 0]\n",
        "print(pares)"
      ],
      "metadata": {
        "colab": {
          "base_uri": "https://localhost:8080/"
        },
        "id": "GrKF_XToCFNi",
        "outputId": "8d0e70a9-8072-412b-acff-82b01ce50743"
      },
      "execution_count": null,
      "outputs": [
        {
          "output_type": "stream",
          "name": "stdout",
          "text": [
            "[2, 4, 6, 8, 10]\n"
          ]
        }
      ]
    },
    {
      "cell_type": "code",
      "source": [
        "'''\n",
        "Usando o for para fazer a mesma coisa\n",
        "'''\n",
        "numeros = [1,2,3,4,5,6,7,8,9,10]\n",
        "pares = []\n",
        "\n",
        "for numero in numeros:\n",
        "  if numero % 2 == 0:\n",
        "    pares.append(numero)\n",
        "\n",
        "print(pares)"
      ],
      "metadata": {
        "colab": {
          "base_uri": "https://localhost:8080/"
        },
        "id": "Jkn6KXLDC__T",
        "outputId": "f60d419d-2960-4e36-a1a3-3e0a95f091e3"
      },
      "execution_count": null,
      "outputs": [
        {
          "output_type": "stream",
          "name": "stdout",
          "text": [
            "[2, 4, 6, 8, 10]\n"
          ]
        }
      ]
    },
    {
      "cell_type": "code",
      "source": [
        "'''\n",
        "Transformando a primeira letra em maiúscula\n",
        "'''\n",
        "nomes = ['ana','tereza','joana','clara']\n",
        "nomes_m = [nome.capitalize() for nome in nomes]\n",
        "print(nomes_m)"
      ],
      "metadata": {
        "colab": {
          "base_uri": "https://localhost:8080/"
        },
        "id": "-JNYelxFDRmC",
        "outputId": "30bdae9b-122f-4b39-a347-9b749aa71f70"
      },
      "execution_count": null,
      "outputs": [
        {
          "output_type": "stream",
          "name": "stdout",
          "text": [
            "['Ana', 'Tereza', 'Joana', 'Clara']\n"
          ]
        }
      ]
    },
    {
      "cell_type": "code",
      "source": [
        "'''\n",
        "Você tem uma lista de números que não deve conter números negativos.\n",
        "Você deve substituir os números negativos por 0.\n",
        "\n",
        "Pega um número da nossa lista de números\n",
        "Se o número for maior ou igual a 0 a nossa expressão é o próprio número\n",
        "Caso contrário, a expressão é 0 (o número original é negativo)\n",
        "Faz isso para cada número na nossa lista de números\n",
        "'''\n",
        "numeros = [1, -2, 6, -5, 20, 30]\n",
        "positivos = [numero if numero >= 0 else 0 for numero in numeros]\n",
        "print(positivos)"
      ],
      "metadata": {
        "colab": {
          "base_uri": "https://localhost:8080/"
        },
        "id": "XGTcDi8IDlDL",
        "outputId": "fe0afa7f-0a75-469c-97fd-506e81e7ce74"
      },
      "execution_count": null,
      "outputs": [
        {
          "output_type": "stream",
          "name": "stdout",
          "text": [
            "[1, 0, 6, 0, 20, 30]\n"
          ]
        }
      ]
    },
    {
      "cell_type": "code",
      "source": [
        "'''\n",
        "Obtenha a primeira letra de cada palavra de uma lista\n",
        "1ª iteração:\n",
        "  serie = 'The Office'\n",
        "  serie[0] = 'T'\n",
        "\n",
        "Ele não executa o serie[0] de imediato, apenas depois do for.\n",
        "'''\n",
        "series = ['The office','Breaking bad','Game of Thrones','Lost','Friends']\n",
        "primeiras_letras = [serie[0] for serie in series]#serie[0] pega a primeira letra do valor da lista\n",
        "print(primeiras_letras)"
      ],
      "metadata": {
        "colab": {
          "base_uri": "https://localhost:8080/"
        },
        "id": "QMj_9_0fYWEN",
        "outputId": "df7dcea8-f275-43ec-f943-48950d45f138"
      },
      "execution_count": null,
      "outputs": [
        {
          "output_type": "stream",
          "name": "stdout",
          "text": [
            "['T', 'B', 'G', 'L', 'F']\n"
          ]
        }
      ]
    },
    {
      "cell_type": "code",
      "source": [
        "'''\n",
        "Crie uma lista com o comprimento de cada palavra em uma frase\n",
        "'''\n",
        "frase = 'Babuinos bobocas balbuciando em bando'\n",
        "#O split transforma a frase numa lista de palavras.\n",
        "#O len retorna o tamanho de cada palavra.\n",
        "tamanho = [len(palavra) for palavra in frase.split()]\n",
        "print(tamanho)"
      ],
      "metadata": {
        "colab": {
          "base_uri": "https://localhost:8080/"
        },
        "id": "sLKCYlHYc_fS",
        "outputId": "2facded6-f917-4101-8aa8-3c61eb5a3619"
      },
      "execution_count": null,
      "outputs": [
        {
          "output_type": "stream",
          "name": "stdout",
          "text": [
            "[8, 7, 11, 2, 5]\n"
          ]
        }
      ]
    },
    {
      "cell_type": "code",
      "source": [
        "'''\n",
        "Crie uma lista com a tabuada do numero 9\n",
        "'''\n",
        "tabuada =[f'9 x {numero} = {numero * 9}' for numero in range(1,11)]\n",
        "print(tabuada)"
      ],
      "metadata": {
        "colab": {
          "base_uri": "https://localhost:8080/"
        },
        "id": "dCoBe82Id-uB",
        "outputId": "5d4b6b45-afe0-40c1-cc7f-9093eb049c28"
      },
      "execution_count": null,
      "outputs": [
        {
          "output_type": "stream",
          "name": "stdout",
          "text": [
            "['9 x 1 = 9', '9 x 2 = 18', '9 x 3 = 27', '9 x 4 = 36', '9 x 5 = 45', '9 x 6 = 54', '9 x 7 = 63', '9 x 8 = 72', '9 x 9 = 81', '9 x 10 = 90']\n"
          ]
        }
      ]
    },
    {
      "cell_type": "code",
      "source": [
        "'''\n",
        "Armazene as palavras que começam com vogais\n",
        "if palavra[0] in'aeiou' --> Verifica se a primeira letra da palavra é uma vogal\n",
        "'''\n",
        "palavras = ['banana','maçã','abacate', 'uva','embu']\n",
        "vogais = [palavra for palavra in palavras if palavra[0] in'aeiou']\n",
        "print(vogais)"
      ],
      "metadata": {
        "colab": {
          "base_uri": "https://localhost:8080/"
        },
        "id": "nwtNslUNgHky",
        "outputId": "7b089712-1cc8-4084-e585-6687fb712ca6"
      },
      "execution_count": null,
      "outputs": [
        {
          "output_type": "stream",
          "name": "stdout",
          "text": [
            "['abacate', 'uva', 'embu']\n"
          ]
        }
      ]
    },
    {
      "cell_type": "code",
      "source": [
        "'''\n",
        "Crie uma lista que retorne os numeros de 1 a 10 categorizados em pares e impares\n",
        "'''\n",
        "numeros = [f'{x} é par' if x % 2 == 0 else f'{x} é impar' for x in range(1,11)]\n",
        "print(numeros)\n",
        "\n",
        "for numero in numeros:\n",
        "  print(numero)"
      ],
      "metadata": {
        "colab": {
          "base_uri": "https://localhost:8080/"
        },
        "id": "kPnOpgIZj-0J",
        "outputId": "ac661fa6-e7d6-4207-e1b1-a2e663767312"
      },
      "execution_count": null,
      "outputs": [
        {
          "output_type": "stream",
          "name": "stdout",
          "text": [
            "['1 é impar', '2 é par', '3 é impar', '4 é par', '5 é impar', '6 é par', '7 é impar', '8 é par', '9 é impar', '10 é par']\n",
            "1 é impar\n",
            "2 é par\n",
            "3 é impar\n",
            "4 é par\n",
            "5 é impar\n",
            "6 é par\n",
            "7 é impar\n",
            "8 é par\n",
            "9 é impar\n",
            "10 é par\n"
          ]
        }
      ]
    },
    {
      "cell_type": "code",
      "source": [
        "'''\n",
        "Extraia os numeros de uma string qualquer\n",
        "\n",
        "1 - promo.split()\n",
        "  Dividindo a nossa string promo em uma lista de palavras.\n",
        "  Ele faz isso com base no delimitador padrão que é o espaço.\n",
        "2 - for x in promo.split()\n",
        "  Começamos a iterar sobre cada item gerado pelo split().\n",
        "  O item está sendo atribuido a variavel x.\n",
        "3 - if x.isdigit()\n",
        "  Para cada item da nossa lista, o método isdigit() vai verificar se o elemento\n",
        "  contem apenas digitos. No caso do '31' ele retorna True, no caso do café ele\n",
        "  retorna False.\n",
        "4 - int(x)\n",
        "  O elemento é convertido para um inteiro\n",
        "\n",
        "'''\n",
        "promo = 'O preço do café está 31 reais e o desconto é de 10 %'\n",
        "#Usando o int(x) para converter para inteiro\n",
        "#Usando o split para transformar o promo numa lista de palavras\n",
        "#Usando o isdigit() para verificar se x é um número\n",
        "numeros = [int(x) for x in promo.split() if x.isdigit()]\n",
        "print(numeros)"
      ],
      "metadata": {
        "colab": {
          "base_uri": "https://localhost:8080/"
        },
        "id": "trT46UbekR1i",
        "outputId": "56cdd484-77c1-4d37-bab9-636fdfa9f249"
      },
      "execution_count": null,
      "outputs": [
        {
          "output_type": "stream",
          "name": "stdout",
          "text": [
            "[31, 10]\n"
          ]
        }
      ]
    },
    {
      "cell_type": "markdown",
      "source": [
        "###12.2 - While"
      ],
      "metadata": {
        "id": "X3BSXdrIrE_2"
      }
    },
    {
      "cell_type": "code",
      "source": [
        "'''\n",
        "O while vai executar um bloco de código enquanto uma condição for verdadeira.\n",
        "\n",
        "Quando usar o while?\n",
        "  Quando nós não sabemos quantas vezes o loop será executado\n",
        "  Mas, sabemos qual é a condição de parada.\n",
        "\n",
        "Quando usar o for?\n",
        "  Quando sabemos quantas vezes desejamos iterar ou sabemos sobre o que desejamos\n",
        "  iterar.\n",
        "  Ideal para trabalharmos com listas/tuplas.\n",
        "'''\n"
      ],
      "metadata": {
        "id": "mAVMVzFKrNVP"
      },
      "execution_count": null,
      "outputs": []
    },
    {
      "cell_type": "code",
      "source": [
        "#Iremos executar o bloco abaixo enquanto a condição não for atendida\n",
        "i = 1 #Inicialilzando um contador\n",
        "while i<10: #Enquanto i < 10 o bloco abaixo sera executado\n",
        "  print(f'{i} é menor que 10? {i<10}')\n",
        "  print(f'Valor de i é {i}')\n",
        "  i += 1 #i = i + 1 (Incremento de condição de parada)\n",
        "print(f'Valor final de i é {i}')"
      ],
      "metadata": {
        "colab": {
          "base_uri": "https://localhost:8080/"
        },
        "id": "zZcYuA49rt_v",
        "outputId": "40ebee9e-3c4b-4c6b-9bd0-77a1d6f91f2d"
      },
      "execution_count": null,
      "outputs": [
        {
          "output_type": "stream",
          "name": "stdout",
          "text": [
            "1 é menor que 10? True\n",
            "Valor de i é 1\n",
            "2 é menor que 10? True\n",
            "Valor de i é 2\n",
            "3 é menor que 10? True\n",
            "Valor de i é 3\n",
            "4 é menor que 10? True\n",
            "Valor de i é 4\n",
            "5 é menor que 10? True\n",
            "Valor de i é 5\n",
            "6 é menor que 10? True\n",
            "Valor de i é 6\n",
            "7 é menor que 10? True\n",
            "Valor de i é 7\n",
            "8 é menor que 10? True\n",
            "Valor de i é 8\n",
            "9 é menor que 10? True\n",
            "Valor de i é 9\n",
            "Valor final de i é 10\n"
          ]
        }
      ]
    },
    {
      "cell_type": "code",
      "source": [
        "#Contagem regressiva recebida do usuario\n",
        "numero = int(input('Digite um número para contagem regressiva: '))\n",
        "while numero >= 0: #Condição de parada\n",
        "  print(f'Numero: {numero}')\n",
        "  numero -= 1 # Numero = numero -1 (Decremento)\n",
        "print('FIM')"
      ],
      "metadata": {
        "colab": {
          "base_uri": "https://localhost:8080/"
        },
        "id": "SEH2LBgjuMsV",
        "outputId": "cf51cb9f-e6ac-4af2-f8b8-0acdbb51e3ca"
      },
      "execution_count": null,
      "outputs": [
        {
          "output_type": "stream",
          "name": "stdout",
          "text": [
            "Digite um número para contagem regressiva: 10\n",
            "Numero: 10\n",
            "Numero: 9\n",
            "Numero: 8\n",
            "Numero: 7\n",
            "Numero: 6\n",
            "Numero: 5\n",
            "Numero: 4\n",
            "Numero: 3\n",
            "Numero: 2\n",
            "Numero: 1\n",
            "Numero: 0\n",
            "FIM\n"
          ]
        }
      ]
    },
    {
      "cell_type": "code",
      "source": [
        "'''\n",
        "Se a condição nunca for falsa, o while vai ficar num loop infinito.\n",
        "Se você estiver no vscode, evite testar. Mas se mesmo assim quiser, use ctrl + c\n",
        "para interromper.\n",
        "\n",
        "numero = 1\n",
        "while numero <= 5:\n",
        "  print(numero)\n",
        "'''"
      ],
      "metadata": {
        "id": "GFN_YTgTv32N"
      },
      "execution_count": null,
      "outputs": []
    },
    {
      "cell_type": "code",
      "source": [
        "'''\n",
        "O while true é uma estrutura de loop infinito, ele continuará rodando\n",
        "até que uma condição de parada o interrompa.\n",
        "Usamos o break para interromper.\n",
        "Normalmente usamos o while True quando não sabemos o número de iterações\n",
        "e/ou precisamos que o bloco seja executado pelo menos uma vez.\n",
        "\n",
        "'''\n",
        "while True:\n",
        "  idade = input('Informe sua idade: ')\n",
        "  if idade.isdigit() and 0 <= int(idade) <= 120:\n",
        "    print(f'Sua idade é {idade}')\n",
        "    break\n",
        "  else:\n",
        "    print('idade invalida')"
      ],
      "metadata": {
        "colab": {
          "base_uri": "https://localhost:8080/"
        },
        "id": "_0TePyUHwuBH",
        "outputId": "e4b333c9-c154-4a63-cd70-cb61ac02da17"
      },
      "execution_count": null,
      "outputs": [
        {
          "output_type": "stream",
          "name": "stdout",
          "text": [
            "Informe sua idade: 50\n",
            "Sua idade é 50\n"
          ]
        }
      ]
    },
    {
      "cell_type": "code",
      "source": [
        "jogos = ['zelda','MS','Fifa','Wakfu','Sonic','Hearthstone']\n",
        "while jogos:\n",
        "    #o pop retorna o elemento deletado, estamos armazenando ele para exibir na tela.\n",
        "  jogo_atual = jogos.pop(0) #Decremento da lista\n",
        "  print(f'Jogando {jogo_atual}')\n",
        "print(jogos) # A lista ficou vazia porque o pop esta eliminando os valores"
      ],
      "metadata": {
        "colab": {
          "base_uri": "https://localhost:8080/"
        },
        "id": "JXubvAGeyRMP",
        "outputId": "8672c894-d01b-4d46-a37e-e85d65bf5d28"
      },
      "execution_count": null,
      "outputs": [
        {
          "output_type": "stream",
          "name": "stdout",
          "text": [
            "Jogando zelda\n",
            "Jogando MS\n",
            "Jogando Fifa\n",
            "Jogando Wakfu\n",
            "Jogando Sonic\n",
            "Jogando Hearthstone\n",
            "[]\n"
          ]
        }
      ]
    },
    {
      "cell_type": "markdown",
      "source": [
        "#13 - Funções"
      ],
      "metadata": {
        "id": "aJpspQWpnzO5"
      }
    },
    {
      "cell_type": "code",
      "source": [
        "'''\n",
        "Uma função é uma sequência nomeada de instruções que executa operações\n",
        "de computação.\n",
        "Ao definir uma função, você especifica o nome e a sequência de instruções.\n",
        "Depois, podemos chamar a função pelo nome\n",
        "\n",
        "'''"
      ],
      "metadata": {
        "id": "Ki4T39H9n4nf"
      },
      "execution_count": null,
      "outputs": []
    },
    {
      "cell_type": "markdown",
      "source": [
        "##13.1 - Chamadas de funções"
      ],
      "metadata": {
        "id": "m67IAZf5orIg"
      }
    },
    {
      "cell_type": "code",
      "source": [
        "'''\n",
        "O nome dessa função é type.\n",
        "O que vem entre parênteses é chamado de argumento da função.\n",
        "Nessa função, o resultado é o tipo do argumento.\n",
        "Em algumas literaturas vocês podem encontrar esse resultado sendo chamado de\n",
        "valor de retorno.\n",
        "'''\n",
        "type(50)"
      ],
      "metadata": {
        "colab": {
          "base_uri": "https://localhost:8080/"
        },
        "id": "7fVkMl2ApFu4",
        "outputId": "f0c6170e-e994-42b9-fc4c-5817da790f13"
      },
      "execution_count": null,
      "outputs": [
        {
          "output_type": "execute_result",
          "data": {
            "text/plain": [
              "int"
            ]
          },
          "metadata": {},
          "execution_count": 1
        }
      ]
    },
    {
      "cell_type": "code",
      "source": [
        "'''\n",
        "\n",
        "'''\n",
        "var = 'teste'\n",
        "print('Olá', var)"
      ],
      "metadata": {
        "colab": {
          "base_uri": "https://localhost:8080/"
        },
        "id": "9cVz_h5LpjM_",
        "outputId": "bbc6330c-a9d1-46fb-8efd-514f73c58165"
      },
      "execution_count": null,
      "outputs": [
        {
          "output_type": "stream",
          "name": "stdout",
          "text": [
            "Olá teste\n"
          ]
        }
      ]
    },
    {
      "cell_type": "markdown",
      "source": [
        "##13.2 - Criando novas funções"
      ],
      "metadata": {
        "id": "sQJgI7DcqAN_"
      }
    },
    {
      "cell_type": "code",
      "source": [
        "'''\n",
        "Para criarmos uma nova função, especificamos um nome e a sequência de instruções\n",
        "que será realizada.\n",
        "\n",
        "def é a palavra reservada que indica a DEFinição de uma função.\n",
        "\n",
        "Os nomes das funções seguem praticamente as mesmas regras das variáveis. O primeiro\n",
        "caracter não deve ser um número. Não deve ser uma palavra reservada e não deve ser\n",
        "o mesmo nome de uma variável.\n",
        "\n",
        "Parênteses vazios indicam que a função não vai usar um argumento.\n",
        "\n",
        "A primeira linha pode ser chamada de cabeçalho e o resto é chamado de corpo.\n",
        "O cabeçalho tem que terminar com dois pontos.\n",
        "O corpo precisa estar indentado\n",
        "\n",
        "'''\n",
        "def refrao():\n",
        "  print('E nessa loucura de dizer que não te quero')\n",
        "  print('Vou negando as aparencias')\n",
        "  print('Disfarçando as evidencias')\n",
        "\n",
        "refrao() #Chamar a funçao"
      ],
      "metadata": {
        "colab": {
          "base_uri": "https://localhost:8080/"
        },
        "id": "fM6Ofb7vqGwP",
        "outputId": "5490ce57-ff7c-4caf-a9df-d61b402a0fb9"
      },
      "execution_count": null,
      "outputs": [
        {
          "output_type": "stream",
          "name": "stdout",
          "text": [
            "E nessa loucura de dizer que não te quero\n",
            "Vou negando as aparencias\n",
            "Disfarçando as evidencias\n"
          ]
        }
      ]
    },
    {
      "cell_type": "code",
      "source": [
        "type(refrao)"
      ],
      "metadata": {
        "colab": {
          "base_uri": "https://localhost:8080/"
        },
        "id": "fE3b1pYKsdax",
        "outputId": "d92e2622-4af6-42eb-f99c-b374927d5156"
      },
      "execution_count": null,
      "outputs": [
        {
          "output_type": "execute_result",
          "data": {
            "text/plain": [
              "function"
            ]
          },
          "metadata": {},
          "execution_count": 4
        }
      ]
    },
    {
      "cell_type": "code",
      "source": [
        "'''\n",
        "Podemos ter uma função dentro de outra fução\n",
        "'''\n",
        "def bis():\n",
        "  refrao()\n",
        "  refrao()\n",
        "\n",
        "#Chamando a função bis\n",
        "bis()"
      ],
      "metadata": {
        "colab": {
          "base_uri": "https://localhost:8080/"
        },
        "id": "aK2lCCyhshdn",
        "outputId": "079f1c14-89d7-483b-feb8-8f4e6e73cd0f"
      },
      "execution_count": null,
      "outputs": [
        {
          "output_type": "stream",
          "name": "stdout",
          "text": [
            "E nessa loucura de dizer que não te quero\n",
            "Vou negando as aparencias\n",
            "Disfarçando as evidencias\n",
            "E nessa loucura de dizer que não te quero\n",
            "Vou negando as aparencias\n",
            "Disfarçando as evidencias\n"
          ]
        }
      ]
    },
    {
      "cell_type": "code",
      "source": [
        "'''\n",
        "As instruções dentro de uma função não são executadas até que função seja chamada.\n",
        "É preciso criar uma função antes de executá-la\n",
        "\n",
        "'''\n"
      ],
      "metadata": {
        "id": "i5w2t82ithiZ"
      },
      "execution_count": null,
      "outputs": []
    },
    {
      "cell_type": "code",
      "source": [
        "'''\n",
        "Temos funções que exigem argumentos, como: len, print, sum...\n",
        "Existem funções que exigem mais de um argumento: zip, round (opcional o segundo), pow\n",
        "\n",
        "'''\n",
        "print('Olá')\n",
        "int(2)\n",
        "round(3.14516,2)"
      ],
      "metadata": {
        "colab": {
          "base_uri": "https://localhost:8080/"
        },
        "id": "Rb0i57wAvSz5",
        "outputId": "cd60b239-0f83-47de-9b60-6f3ff3a8a575"
      },
      "execution_count": null,
      "outputs": [
        {
          "output_type": "stream",
          "name": "stdout",
          "text": [
            "Olá\n"
          ]
        },
        {
          "output_type": "execute_result",
          "data": {
            "text/plain": [
              "3.15"
            ]
          },
          "metadata": {},
          "execution_count": 8
        }
      ]
    },
    {
      "cell_type": "code",
      "source": [
        "'''\n",
        "Dentro de uma função os argumentos são atribuidos a variaveis que são chamados\n",
        "de parametros.\n",
        "A nossa função duas_vezes atribui o argumento recebido a um parâmetro chamado joao.\n",
        "Quando a função é chamada, ela irá exibir o valor do parâmetro duas vezes, indenpendente\n",
        "do que ele seja.\n",
        "\n",
        "O nome da variável que passamos como argumento (Marcos) não tem nada a ver\n",
        "com o nome do parâmetro (joao)\n",
        "\n",
        "'''\n",
        "def duas_vezes(joao):#joao é a variavel que recebe o parametro\n",
        "  print(joao)\n",
        "  print(joao)\n",
        "\n",
        "duas_vezes('Marcos')"
      ],
      "metadata": {
        "colab": {
          "base_uri": "https://localhost:8080/"
        },
        "id": "cXBOoJsUvmYi",
        "outputId": "bd1a1c62-2d58-415e-f543-4f2cfaccd52f"
      },
      "execution_count": null,
      "outputs": [
        {
          "output_type": "stream",
          "name": "stdout",
          "text": [
            "Marcos\n",
            "Marcos\n"
          ]
        }
      ]
    },
    {
      "cell_type": "code",
      "source": [
        "'''\n",
        "Função com 2 paraametros\n",
        "'''\n",
        "def soma(x,y): #Função com 2 parametros\n",
        "  soma_n = x+y #utilizando os parametros para ralizar a operação\n",
        "  return soma_n #Retornado o resultado\n",
        "\n",
        "soma(2,3) #Chamando a função e passando dois parametros"
      ],
      "metadata": {
        "colab": {
          "base_uri": "https://localhost:8080/"
        },
        "id": "16TvVhsMwkuA",
        "outputId": "7eb6d011-9c38-4278-a226-11ff8b65a926"
      },
      "execution_count": null,
      "outputs": [
        {
          "output_type": "execute_result",
          "data": {
            "text/plain": [
              "5"
            ]
          },
          "metadata": {},
          "execution_count": 10
        }
      ]
    },
    {
      "cell_type": "code",
      "source": [
        "def soma2(x,y): #Função com 2 parametros\n",
        "  soma_n = x+y #utilizando os parametros para ralizar a operação\n",
        "  return soma_n #Retornado o resultado\n",
        "\n",
        "num1 = int(input('Digite o primeiro numero: '))\n",
        "num2 = int(input('Digite o segundo numero: '))\n",
        "var = soma2(num1,num2)\n",
        "print(var)"
      ],
      "metadata": {
        "colab": {
          "base_uri": "https://localhost:8080/"
        },
        "id": "7TyG_c0S1S47",
        "outputId": "2ec37fc7-50bc-4251-ba6f-66efc0414c36"
      },
      "execution_count": null,
      "outputs": [
        {
          "output_type": "stream",
          "name": "stdout",
          "text": [
            "Digite o primeiro numero: 15\n",
            "Digite o segundo numero: 25\n",
            "40\n"
          ]
        }
      ]
    },
    {
      "cell_type": "code",
      "source": [
        "'''\n",
        "Podemos ter laços de repetição e estruturas condicionais dentro de uma função.\n",
        "'''\n",
        "def soma3():\n",
        "  quantidade = int(input('Quantos números você quer somar? '))\n",
        "  total = 0 #Acumulando o total\n",
        "\n",
        "  for i in range(quantidade):\n",
        "    numero = float(input(f'Digite o {i+1}º numero: '))\n",
        "    total += numero #total = total + numero\n",
        "  return total\n",
        "\n",
        "resultado = soma3()\n",
        "print(f'A soma dos números é {resultado}')\n"
      ],
      "metadata": {
        "colab": {
          "base_uri": "https://localhost:8080/"
        },
        "id": "jy-slAyi16jX",
        "outputId": "faefdf5b-0c32-44f9-bb34-80628e159f7f"
      },
      "execution_count": null,
      "outputs": [
        {
          "output_type": "stream",
          "name": "stdout",
          "text": [
            "Quantos números você quer somar? 3\n",
            "Digite o 1º numero: 10\n",
            "Digite o 2º numero: 20\n",
            "Digite o 3º numero: 10\n",
            "A soma dos números é 40.0\n"
          ]
        }
      ]
    },
    {
      "cell_type": "code",
      "source": [
        "'''\n",
        "Quando criamos uma variável dentro de uma função, ela é local, só existe dentro\n",
        "daquela função.\n",
        "'''\n",
        "def concatena_string(parte1,parte2):\n",
        "  concatena = parte1 + parte2\n",
        "  duas_vezes(concatena)\n",
        "\n",
        "frase1 = \"It's a me \"\n",
        "frase2 = \"Mario!\"\n",
        "concatena_string(frase1,frase2)\n"
      ],
      "metadata": {
        "colab": {
          "base_uri": "https://localhost:8080/"
        },
        "id": "4jNm-DUQ3pBS",
        "outputId": "29a65940-52e8-43ff-83fa-fa25224fd162"
      },
      "execution_count": null,
      "outputs": [
        {
          "output_type": "stream",
          "name": "stdout",
          "text": [
            "It's a me Mario!\n",
            "It's a me Mario!\n"
          ]
        }
      ]
    },
    {
      "cell_type": "code",
      "source": [
        "'''\n",
        "Quando a função concatena_string é encerrada, a variável concatena é destruída.\n",
        "Ao tentarmos exibi-la receberemos um erro.\n",
        "'''\n",
        "print(concatena)\n"
      ],
      "metadata": {
        "id": "BuEhwuvV39nO"
      },
      "execution_count": null,
      "outputs": []
    },
    {
      "cell_type": "code",
      "source": [
        "'''\n",
        "Crie uma função que calcula o imc do ususario.\n",
        "Voce deve receber o peso e altura e retornar o imc.\n",
        "peso/altura**2\n",
        "'''\n",
        "def imc(peso,altura):\n",
        "  return peso/altura**2\n",
        "\n",
        "peso = float(input('Digite seu peso: '))\n",
        "altura = float(input('Digite sua altura: '))\n",
        "print(f'Seu imc é {imc(peso,altura):.2f}')\n"
      ],
      "metadata": {
        "colab": {
          "base_uri": "https://localhost:8080/"
        },
        "id": "0ivsfvqQ4zwB",
        "outputId": "9a150916-f41a-41a1-dabb-7275152ec4ce"
      },
      "execution_count": null,
      "outputs": [
        {
          "output_type": "stream",
          "name": "stdout",
          "text": [
            "Digite seu peso: 60\n",
            "Digite sua altura: 1.65\n",
            "Seu imc é 22.04\n"
          ]
        }
      ]
    },
    {
      "cell_type": "code",
      "source": [
        "def imc(peso,altura):\n",
        "  imc = peso/altura**2\n",
        "  return imc\n",
        "\n",
        "peso_p = float(input(\"Informe o seu peso: \"))\n",
        "altura_p = float(input(\"Informe a sua altura: \"))\n",
        "resultado = imc(peso_p,altura_p)\n",
        "\n",
        "print(f'O seu IMC é {round(resultado,2)}')\n"
      ],
      "metadata": {
        "id": "1-2JWmFS8hdM",
        "outputId": "0f7df52f-2454-40a7-93e4-092a32ab7de8",
        "colab": {
          "base_uri": "https://localhost:8080/"
        }
      },
      "execution_count": null,
      "outputs": [
        {
          "output_type": "stream",
          "name": "stdout",
          "text": [
            "Informe o seu peso: 60\n",
            "Informe a sua altura: 1.65\n",
            "O seu IMC é 22.04\n"
          ]
        }
      ]
    },
    {
      "cell_type": "markdown",
      "source": [
        "#14 - Try-Except"
      ],
      "metadata": {
        "id": "HGpcORzFKJWj"
      }
    },
    {
      "cell_type": "code",
      "source": [
        "'''\n",
        "O bloco de código try-except é usado para lidar com exceções (erros), que\n",
        "podem quebrar o código de maneira inesperada.\n",
        "'''"
      ],
      "metadata": {
        "id": "3ktNG0BfKUvw"
      },
      "execution_count": null,
      "outputs": []
    },
    {
      "cell_type": "code",
      "source": [
        "#Erro de divisão por Zero\n",
        "x = 1/0\n",
        "print(x)"
      ],
      "metadata": {
        "colab": {
          "base_uri": "https://localhost:8080/",
          "height": 159
        },
        "id": "QHW6W0B3KlO4",
        "outputId": "cae403b7-c43f-4add-f36f-cdcf6524f31f"
      },
      "execution_count": null,
      "outputs": [
        {
          "output_type": "error",
          "ename": "ZeroDivisionError",
          "evalue": "division by zero",
          "traceback": [
            "\u001b[0;31m---------------------------------------------------------------------------\u001b[0m",
            "\u001b[0;31mZeroDivisionError\u001b[0m                         Traceback (most recent call last)",
            "\u001b[0;32m<ipython-input-1-d17576860804>\u001b[0m in \u001b[0;36m<cell line: 0>\u001b[0;34m()\u001b[0m\n\u001b[0;32m----> 1\u001b[0;31m \u001b[0mx\u001b[0m \u001b[0;34m=\u001b[0m \u001b[0;36m1\u001b[0m\u001b[0;34m/\u001b[0m\u001b[0;36m0\u001b[0m\u001b[0;34m\u001b[0m\u001b[0;34m\u001b[0m\u001b[0m\n\u001b[0m\u001b[1;32m      2\u001b[0m \u001b[0mprint\u001b[0m\u001b[0;34m(\u001b[0m\u001b[0mx\u001b[0m\u001b[0;34m)\u001b[0m\u001b[0;34m\u001b[0m\u001b[0;34m\u001b[0m\u001b[0m\n",
            "\u001b[0;31mZeroDivisionError\u001b[0m: division by zero"
          ]
        }
      ]
    },
    {
      "cell_type": "code",
      "source": [
        "'''\n",
        "O python vai tentar executar o código dentro do try, mas por ser uma divisão por\n",
        "0, ele irá seguir o fluxo, pulando para o except e consequentemente exibindo a\n",
        "mensagem \"Ocorreu um erro!\"\n",
        "\n",
        "'''\n",
        "try:\n",
        "  x =1/0\n",
        "except:\n",
        "  #esse bolco sera executado quando houver um Erro\n",
        "  print('Não é possivel dividir por zero')"
      ],
      "metadata": {
        "colab": {
          "base_uri": "https://localhost:8080/"
        },
        "id": "xO_qjM6wLB4x",
        "outputId": "474128ee-973a-4455-940b-9b0921024605"
      },
      "execution_count": null,
      "outputs": [
        {
          "output_type": "stream",
          "name": "stdout",
          "text": [
            "Não é possivel dividir por zero\n"
          ]
        }
      ]
    },
    {
      "cell_type": "code",
      "source": [
        "#Erro, não podemos converter a string abc para um numero inteiro\n",
        "numero = int(input('Digite um numero: '))"
      ],
      "metadata": {
        "colab": {
          "base_uri": "https://localhost:8080/",
          "height": 159
        },
        "id": "CgHPXIWCL4to",
        "outputId": "c87c84e0-f735-47b1-8e39-8be3e6dcf7af"
      },
      "execution_count": null,
      "outputs": [
        {
          "name": "stdout",
          "output_type": "stream",
          "text": [
            "Digite um numero: abc\n"
          ]
        },
        {
          "output_type": "error",
          "ename": "ValueError",
          "evalue": "invalid literal for int() with base 10: 'abc'",
          "traceback": [
            "\u001b[0;31m---------------------------------------------------------------------------\u001b[0m",
            "\u001b[0;31mValueError\u001b[0m                                Traceback (most recent call last)",
            "\u001b[0;32m<ipython-input-3-150a471d8054>\u001b[0m in \u001b[0;36m<cell line: 0>\u001b[0;34m()\u001b[0m\n\u001b[0;32m----> 1\u001b[0;31m \u001b[0mnumero\u001b[0m \u001b[0;34m=\u001b[0m \u001b[0mint\u001b[0m\u001b[0;34m(\u001b[0m\u001b[0minput\u001b[0m\u001b[0;34m(\u001b[0m\u001b[0;34m'Digite um numero: '\u001b[0m\u001b[0;34m)\u001b[0m\u001b[0;34m)\u001b[0m\u001b[0;34m\u001b[0m\u001b[0;34m\u001b[0m\u001b[0m\n\u001b[0m",
            "\u001b[0;31mValueError\u001b[0m: invalid literal for int() with base 10: 'abc'"
          ]
        }
      ]
    },
    {
      "cell_type": "code",
      "source": [
        "'''\n",
        "Capturando tipos de erros especificos.\n",
        "Erro de divisão por 0 e erro de valor.\n",
        "'''\n",
        "try:\n",
        "  numero = int(input('Digite um numero: '))\n",
        "  divide = 10/numero\n",
        "except ZeroDivisionError:\n",
        "  print('Não é possivel dividir por zero')\n",
        "except ValueError:\n",
        "  print('Você não digitou um numero')"
      ],
      "metadata": {
        "colab": {
          "base_uri": "https://localhost:8080/"
        },
        "id": "IxVOovR6MMXI",
        "outputId": "c9ff61f8-1782-4538-b463-665852ca13e4"
      },
      "execution_count": null,
      "outputs": [
        {
          "name": "stdout",
          "output_type": "stream",
          "text": [
            "Digite um numero: 4\n"
          ]
        }
      ]
    },
    {
      "cell_type": "code",
      "source": [
        "'''\n",
        "Podemos armazenar o erro numa variável\n",
        "'''\n",
        "try:\n",
        "  lista = [1,2,3,4,5,6,7,8,9]\n",
        "  print(lista[10])#Forçando um indice invalido\n",
        "except IndexError as erro:\n",
        "  print(f'O erro encontrado foi: {erro}')"
      ],
      "metadata": {
        "colab": {
          "base_uri": "https://localhost:8080/"
        },
        "id": "TXrt7zsHNEwI",
        "outputId": "760b069e-1b3d-4ee1-88dc-b1fbf89cb6d5"
      },
      "execution_count": null,
      "outputs": [
        {
          "output_type": "stream",
          "name": "stdout",
          "text": [
            "O erro encontrado foi: list index out of range\n"
          ]
        }
      ]
    },
    {
      "cell_type": "code",
      "source": [
        "\n",
        "try:\n",
        "  numero = int(input('Digite um numero: '))\n",
        "  divide = 100/numero\n",
        "except ZeroDivisionError:\n",
        "  print('Não é possivel dividir por zero')\n",
        "except ValueError:\n",
        "  print('Você não digitou um numero')\n",
        "else:\n",
        "  print(f'O resultado é {divide}')\n",
        "finally:\n",
        "  print('Execução finalizada')"
      ],
      "metadata": {
        "colab": {
          "base_uri": "https://localhost:8080/"
        },
        "id": "P4bwcj8ANth4",
        "outputId": "4648d9ec-bb05-443f-eb12-cfb6cf7713f7"
      },
      "execution_count": null,
      "outputs": [
        {
          "output_type": "stream",
          "name": "stdout",
          "text": [
            "Digite um numero: 5\n",
            "O resultado é 20.0\n",
            "Execução finalizada\n"
          ]
        }
      ]
    },
    {
      "cell_type": "code",
      "source": [
        "'''\n",
        "Podemos usar o raise para criar um erro personalizado.\n",
        "'''\n",
        "\n",
        "def verficar_idade(idade):\n",
        "  if idade < 18:\n",
        "    raise ValueError(\"Idade não pode ser menor que 18\")\n",
        "  return \"Acesso permtido\"\n",
        "\n",
        "try:\n",
        "  print(verficar_idade(16))\n",
        "except ValueError as erro:\n",
        "  print(erro)\n"
      ],
      "metadata": {
        "colab": {
          "base_uri": "https://localhost:8080/"
        },
        "id": "71tFLXsfO6pR",
        "outputId": "b70992c8-9803-4296-b0f7-c84d553df45a"
      },
      "execution_count": null,
      "outputs": [
        {
          "output_type": "stream",
          "name": "stdout",
          "text": [
            "Idade não pode ser menor que 18\n"
          ]
        }
      ]
    },
    {
      "cell_type": "code",
      "source": [
        "'''\n",
        "Também podemos usar para relançar o erro.\n",
        "'''\n",
        "try:\n",
        "  x = 1/0\n",
        "except ZeroDivisionError:\n",
        "  print('Não é possivel dividir por zero')\n",
        "  raise"
      ],
      "metadata": {
        "colab": {
          "base_uri": "https://localhost:8080/",
          "height": 228
        },
        "id": "dwkmZbcdP7g7",
        "outputId": "e582a255-faee-4313-86e2-baa67d5886f3"
      },
      "execution_count": null,
      "outputs": [
        {
          "output_type": "stream",
          "name": "stdout",
          "text": [
            "Não é possivel dividir por zero\n"
          ]
        },
        {
          "output_type": "error",
          "ename": "ZeroDivisionError",
          "evalue": "division by zero",
          "traceback": [
            "\u001b[0;31m---------------------------------------------------------------------------\u001b[0m",
            "\u001b[0;31mZeroDivisionError\u001b[0m                         Traceback (most recent call last)",
            "\u001b[0;32m<ipython-input-19-62cd37635e20>\u001b[0m in \u001b[0;36m<cell line: 0>\u001b[0;34m()\u001b[0m\n\u001b[1;32m      3\u001b[0m '''\n\u001b[1;32m      4\u001b[0m \u001b[0;32mtry\u001b[0m\u001b[0;34m:\u001b[0m\u001b[0;34m\u001b[0m\u001b[0;34m\u001b[0m\u001b[0m\n\u001b[0;32m----> 5\u001b[0;31m   \u001b[0mx\u001b[0m \u001b[0;34m=\u001b[0m \u001b[0;36m1\u001b[0m\u001b[0;34m/\u001b[0m\u001b[0;36m0\u001b[0m\u001b[0;34m\u001b[0m\u001b[0;34m\u001b[0m\u001b[0m\n\u001b[0m\u001b[1;32m      6\u001b[0m \u001b[0;32mexcept\u001b[0m \u001b[0mZeroDivisionError\u001b[0m\u001b[0;34m:\u001b[0m\u001b[0;34m\u001b[0m\u001b[0;34m\u001b[0m\u001b[0m\n\u001b[1;32m      7\u001b[0m   \u001b[0mprint\u001b[0m\u001b[0;34m(\u001b[0m\u001b[0;34m'Não é possivel dividir por zero'\u001b[0m\u001b[0;34m)\u001b[0m\u001b[0;34m\u001b[0m\u001b[0;34m\u001b[0m\u001b[0m\n",
            "\u001b[0;31mZeroDivisionError\u001b[0m: division by zero"
          ]
        }
      ]
    },
    {
      "cell_type": "code",
      "source": [
        "'''\n",
        "ZeroDivisionError:\n",
        "  Ocorre quanto tentamos dividir um número por 0\n",
        "  Exemplo: x/0\n",
        "\n",
        "ValueError:\n",
        "  Acontece quando um valor inválido é passado para uma função.\n",
        "  Exemplo: int('abc')\n",
        "\n",
        "TypeError:\n",
        "  Ocorre quando tentamos fazer operações com tipos diferentes.\n",
        "  Exemplo: \"1\" + 1\n",
        "\n",
        "IndexError\n",
        "  Ocorre quando tentamos acessar um índice inválido.\n",
        "  Exemplo: [1,2,3,4,5] e tentamos acessos o índice 10.\n",
        "\n",
        "KeyError:\n",
        "  Ocorre quando tentamos acessar uma chave que não existe.\n",
        "  Exemplo: dicionario[\"não_existe\"]\n",
        "\n",
        "NameError\n",
        "  Tentamos usar uma variável que não foi declarada.\n",
        "  Exemplo: print(nao_existe)\n",
        "\n",
        "IndentationError:\n",
        "  Ocorre quando a indentação do código está errada.\n",
        "  Exemplo:  if alguma coisa:\n",
        "            print(...)\n",
        "\n",
        "SyntaxError\n",
        "  Ocorre quando o código tem erro de sintaxe.\n",
        "  Exemplo: print(\"sei lá\"\n",
        "\n",
        "RuntimeError\n",
        "  Ocorre algum erro em tempo de execução\n",
        "  raise Runtime(\"Erro\")\n",
        "\n",
        "FileNotFoundError\n",
        "  Tentamos abrir um arquivo que não existe\n",
        "  Exemplo: arquivo.txt\n",
        "\n",
        "ModuleNotFoudError\n",
        "  Tentamos usar um módulo que não pode ser encontrado/não existe\n",
        "  Exemplo: import nao_existe\n",
        "\n",
        "ConnectionError\n",
        "  Falha de conexão\n",
        "'''\n"
      ],
      "metadata": {
        "id": "IaA2aMSeQooK"
      },
      "execution_count": null,
      "outputs": []
    },
    {
      "cell_type": "markdown",
      "source": [
        "#15 - Módulos"
      ],
      "metadata": {
        "id": "mN-bhGhVTlTV"
      }
    },
    {
      "cell_type": "code",
      "source": [
        "'''\n",
        "math\n",
        "  floor arredondar um numero pra baixo\n",
        "  trunc truncar um numero\n",
        "  ceil arredondar pra cima\n",
        "  sqrt raíz quadrada\n",
        "  pow potência\n",
        "\n",
        "import math #Traz tudo\n",
        "from math import ceil\n",
        "from math import ceil, pow #Podemos colocar vírgulas para trazer mais funcionalidades\n",
        "from math import sqrt as r #Podemos dar uma apelido para a funcionalidade\n",
        "'''\n",
        "'''\n",
        "import pandas as pd\n",
        "'''\n"
      ],
      "metadata": {
        "id": "PbgCpog4TqVC"
      },
      "execution_count": null,
      "outputs": []
    },
    {
      "cell_type": "code",
      "source": [
        "'''\n",
        "Usando o módulo math\n",
        "'''\n",
        "import math\n",
        "numero = int(input(\"Informe um número: \"))\n",
        "raiz = math.sqrt(numero)\n",
        "print(f'A raíz de {numero} é {raiz}')\n"
      ],
      "metadata": {
        "id": "8o6i9Pr6Wm82"
      },
      "execution_count": null,
      "outputs": []
    },
    {
      "cell_type": "code",
      "source": [
        "'''\n",
        "Trabalhando com apelidos.\n",
        "'''\n",
        "from math import sqrt as r\n",
        "numero = int(input('Digite um numero: '))\n",
        "print(f'A raiz quadrada de {numero} é {r(numero)}')"
      ],
      "metadata": {
        "colab": {
          "base_uri": "https://localhost:8080/"
        },
        "id": "GgWl1xCoaPvO",
        "outputId": "3283c416-cb71-4f2e-9e19-b92aac948c3a"
      },
      "execution_count": null,
      "outputs": [
        {
          "output_type": "stream",
          "name": "stdout",
          "text": [
            "Digite um numero: 4\n",
            "A raiz quadrada de 4 é 2.0\n"
          ]
        }
      ]
    },
    {
      "cell_type": "code",
      "source": [
        "#Modulo para gerar numeros aleatorios\n",
        "import random\n",
        "numero = random.randint(0,10)\n",
        "print(numero)"
      ],
      "metadata": {
        "colab": {
          "base_uri": "https://localhost:8080/"
        },
        "id": "89WieXLxZ_Uz",
        "outputId": "599d6e1f-3dfc-4016-f34b-da67583e0da8"
      },
      "execution_count": null,
      "outputs": [
        {
          "output_type": "stream",
          "name": "stdout",
          "text": [
            "1\n"
          ]
        }
      ]
    },
    {
      "cell_type": "code",
      "source": [
        "!pip install emoji #Comando para istalar a biblioteca emoji\n",
        "import emoji\n",
        "print(emoji.emojize('Olá mundo :sunglasses:')) #vai exibir o emoji"
      ],
      "metadata": {
        "colab": {
          "base_uri": "https://localhost:8080/"
        },
        "id": "z_t6Jg9Fa_9p",
        "outputId": "a73ce87e-ecc9-42b9-bcda-e0cc63b73b8e"
      },
      "execution_count": null,
      "outputs": [
        {
          "output_type": "stream",
          "name": "stdout",
          "text": [
            "Collecting emoji\n",
            "  Downloading emoji-2.14.1-py3-none-any.whl.metadata (5.7 kB)\n",
            "Downloading emoji-2.14.1-py3-none-any.whl (590 kB)\n",
            "\u001b[?25l   \u001b[90m━━━━━━━━━━━━━━━━━━━━━━━━━━━━━━━━━━━━━━━━\u001b[0m \u001b[32m0.0/590.6 kB\u001b[0m \u001b[31m?\u001b[0m eta \u001b[36m-:--:--\u001b[0m\r\u001b[2K   \u001b[91m━━━━━━━━━━━━━━━━━━━━━━━━━━━━━━━━━━━━━\u001b[0m\u001b[90m╺\u001b[0m\u001b[90m━━\u001b[0m \u001b[32m553.0/590.6 kB\u001b[0m \u001b[31m17.1 MB/s\u001b[0m eta \u001b[36m0:00:01\u001b[0m\r\u001b[2K   \u001b[90m━━━━━━━━━━━━━━━━━━━━━━━━━━━━━━━━━━━━━━━━\u001b[0m \u001b[32m590.6/590.6 kB\u001b[0m \u001b[31m11.7 MB/s\u001b[0m eta \u001b[36m0:00:00\u001b[0m\n",
            "\u001b[?25hInstalling collected packages: emoji\n",
            "Successfully installed emoji-2.14.1\n",
            "Olá mundo 🕶️\n"
          ]
        }
      ]
    },
    {
      "cell_type": "code",
      "source": [
        "import modulo_aula as teste #Importando um modulo criado por nós mesmo no colab\n",
        "print(teste.alo('Nathan')) #Usando a função do modulo importado"
      ],
      "metadata": {
        "colab": {
          "base_uri": "https://localhost:8080/"
        },
        "id": "dcMWSIZudwI0",
        "outputId": "2de6ff61-2584-47ca-ffdb-73364c238b03"
      },
      "execution_count": null,
      "outputs": [
        {
          "output_type": "stream",
          "name": "stdout",
          "text": [
            "Alo Nathan\n"
          ]
        }
      ]
    },
    {
      "cell_type": "code",
      "source": [
        "print(teste.soma(10,25)) #Usando a função do modulo importado"
      ],
      "metadata": {
        "colab": {
          "base_uri": "https://localhost:8080/"
        },
        "id": "LD0zxre9d6iv",
        "outputId": "a02d875b-f2ec-4311-9f8a-f99d3fd4351f"
      },
      "execution_count": null,
      "outputs": [
        {
          "output_type": "stream",
          "name": "stdout",
          "text": [
            "35\n"
          ]
        }
      ]
    },
    {
      "cell_type": "code",
      "source": [
        "print(teste.resultado)"
      ],
      "metadata": {
        "colab": {
          "base_uri": "https://localhost:8080/"
        },
        "id": "H15X0BxLecIL",
        "outputId": "d14b617c-734d-446f-93fd-041381afb85f"
      },
      "execution_count": null,
      "outputs": [
        {
          "output_type": "stream",
          "name": "stdout",
          "text": [
            "12\n"
          ]
        }
      ]
    }
  ]
}