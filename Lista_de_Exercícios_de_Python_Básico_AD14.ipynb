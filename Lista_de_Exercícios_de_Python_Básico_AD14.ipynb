{
  "nbformat": 4,
  "nbformat_minor": 0,
  "metadata": {
    "colab": {
      "provenance": [],
      "include_colab_link": true
    },
    "kernelspec": {
      "name": "python3",
      "display_name": "Python 3"
    },
    "language_info": {
      "name": "python"
    }
  },
  "cells": [
    {
      "cell_type": "markdown",
      "metadata": {
        "id": "view-in-github",
        "colab_type": "text"
      },
      "source": [
        "<a href=\"https://colab.research.google.com/github/agnaldoseixas/BootCamp_Analise_Dados/blob/main/Lista_de_Exerc%C3%ADcios_de_Python_B%C3%A1sico_AD14.ipynb\" target=\"_parent\"><img src=\"https://colab.research.google.com/assets/colab-badge.svg\" alt=\"Open In Colab\"/></a>"
      ]
    },
    {
      "cell_type": "markdown",
      "source": [
        "# 1 - Variáveis e Tipos de Dados"
      ],
      "metadata": {
        "id": "uxGISqtR2yNT"
      }
    },
    {
      "cell_type": "code",
      "execution_count": null,
      "metadata": {
        "id": "tLS0FEGj2rS7",
        "colab": {
          "base_uri": "https://localhost:8080/"
        },
        "outputId": "a8bc81bb-9483-4957-aa1c-1f1f1510e9fb"
      },
      "outputs": [
        {
          "output_type": "stream",
          "name": "stdout",
          "text": [
            "Agnaldo <class 'str'>\n",
            "50 <class 'int'>\n",
            "62.0 <class 'float'>\n",
            "1.7 <class 'float'>\n"
          ]
        }
      ],
      "source": [
        "'''\n",
        "1.1. Crie variáveis para armazenar o nome, idade, peso e altura de uma pessoa.\n",
        "Imprima os valores e os tipos de dados dessas variáveis.\n",
        "'''\n",
        "nome = \"Agnaldo\"\n",
        "idade = 50\n",
        "peso = 62.0\n",
        "altura = 1.70\n",
        "\n",
        "print(nome, type(nome))\n",
        "print(idade, type(idade))\n",
        "print(peso, type(peso))\n",
        "print(altura, type(altura))"
      ]
    },
    {
      "cell_type": "code",
      "source": [
        "'''\n",
        "1.2. Atualize a variável de peso para um valor diferente e imprima o novo valor.\n",
        "'''\n",
        "peso = 70.0\n",
        "print(peso)"
      ],
      "metadata": {
        "id": "VFVgrodF27TT",
        "colab": {
          "base_uri": "https://localhost:8080/"
        },
        "outputId": "af6a46e4-9215-4da2-b449-2b3fdc10bc1c"
      },
      "execution_count": null,
      "outputs": [
        {
          "output_type": "stream",
          "name": "stdout",
          "text": [
            "70.0\n"
          ]
        }
      ]
    },
    {
      "cell_type": "markdown",
      "source": [
        "# 2 - Operadores Matemáticos"
      ],
      "metadata": {
        "id": "RRRbkSkr3Ajw"
      }
    },
    {
      "cell_type": "code",
      "source": [
        "'''\n",
        "2.1. Crie uma variável a com valor 10 e uma variável b com valor 3. Realize as\n",
        "seguintes operações e imprima os resultados:\n",
        "Soma\n",
        "Subtração\n",
        "Multiplicação\n",
        "Divisão\n",
        "Parte inteira da divisão\n",
        "Resto da divisão\n",
        "Exponenciação\n",
        "'''\n",
        "a = 10\n",
        "b = 3\n",
        "\n",
        "print(a + b)\n",
        "print(a - b)\n",
        "print(a * b)\n",
        "print(a / b)\n",
        "print(a // b)\n",
        "print(a % b)\n",
        "print(a ** b)"
      ],
      "metadata": {
        "id": "hHAztIDU3AJP",
        "colab": {
          "base_uri": "https://localhost:8080/"
        },
        "outputId": "8dd329a5-6000-446b-8e00-8305aee6449d"
      },
      "execution_count": null,
      "outputs": [
        {
          "output_type": "stream",
          "name": "stdout",
          "text": [
            "13\n",
            "7\n",
            "30\n",
            "3.3333333333333335\n",
            "3\n",
            "1\n",
            "1000\n"
          ]
        }
      ]
    },
    {
      "cell_type": "markdown",
      "source": [
        "# 3 - Entrada de Dados pelo Usuário\n"
      ],
      "metadata": {
        "id": "jWJt5Ep23OFd"
      }
    },
    {
      "cell_type": "code",
      "source": [
        "'''\n",
        "3.1. Peça ao usuário para digitar seu nome e armazene em uma variável. Imprima\n",
        "uma mensagem de boas-vindas usando o nome fornecido.\n",
        "'''\n",
        "nome = input(\"Digite seu nome: \")\n",
        "print(f'Seja bem Vindo {nome} ao Curso de Python')\n",
        "\n"
      ],
      "metadata": {
        "id": "IiD6jUJh3eiD",
        "colab": {
          "base_uri": "https://localhost:8080/"
        },
        "outputId": "275cf86c-3dc6-43d8-c663-0e4a3218980f"
      },
      "execution_count": null,
      "outputs": [
        {
          "output_type": "stream",
          "name": "stdout",
          "text": [
            "Digite seu nome: Agnaldo\n",
            "Seja bem Vindo Agnaldo ao Curso de Python\n"
          ]
        }
      ]
    },
    {
      "cell_type": "code",
      "source": [
        "'''\n",
        "3.2. Peça ao usuário para digitar sua idade, peso e altura. Calcule o IMC e\n",
        "imprima o resultado arredondado para três casas decimais.\n",
        "'''\n",
        "idade = int(input(\"Digite sua idade: \"))\n",
        "peso = float(input(\"Digite seu peso: \"))\n",
        "altura = float(input(\"Digite sua altura: \"))\n",
        "\n",
        "imc = peso / (altura ** 2)\n",
        "print(f'Você tem {idade} anos e Seu IMC é {imc:.3f}')\n"
      ],
      "metadata": {
        "id": "Y4kz72aR3k8d",
        "colab": {
          "base_uri": "https://localhost:8080/"
        },
        "outputId": "821b445e-c333-435e-c4a4-c4698757410c"
      },
      "execution_count": null,
      "outputs": [
        {
          "output_type": "stream",
          "name": "stdout",
          "text": [
            "Digite sua idade: 50\n",
            "Digite seu peso: 62.5\n",
            "Digite sua altura: 1.70\n",
            "Você tem 50 anos e Seu IMC é 21.626\n"
          ]
        }
      ]
    },
    {
      "cell_type": "markdown",
      "source": [
        "# 4 - Função de Impressão"
      ],
      "metadata": {
        "id": "zqRV3Plv3pjL"
      }
    },
    {
      "cell_type": "code",
      "source": [
        "'''\n",
        "4.1. Peça ao usuário para digitar um número e imprima o número digitado.\n",
        "'''\n",
        "numero = int(input(\"Digite um número: \"))\n",
        "print(f'Você digitou o número {numero}')"
      ],
      "metadata": {
        "id": "N5AbRV3i3vYV",
        "colab": {
          "base_uri": "https://localhost:8080/"
        },
        "outputId": "86a9f055-fcb7-452c-e195-f4a91869bbb7"
      },
      "execution_count": null,
      "outputs": [
        {
          "output_type": "stream",
          "name": "stdout",
          "text": [
            "Digite um número: 20\n",
            "Você digitou o número 20\n"
          ]
        }
      ]
    },
    {
      "cell_type": "code",
      "source": [
        "'''\n",
        "4.2. Peça ao usuário para digitar dois números e imprima a soma deles.\n",
        "'''\n",
        "numero1 = int(input(\"Digite um número: \"))\n",
        "numero2 = int(input(\"Digite outro número: \"))\n",
        "soma = numero1 + numero2\n",
        "print(f'A soma dos números é {soma}')"
      ],
      "metadata": {
        "id": "qM2ocOFl3vpB",
        "colab": {
          "base_uri": "https://localhost:8080/"
        },
        "outputId": "63682bf3-b2da-4395-ae4d-bc2e72d9e0c2"
      },
      "execution_count": null,
      "outputs": [
        {
          "output_type": "stream",
          "name": "stdout",
          "text": [
            "Digite um número: 10\n",
            "Digite outro número: 8\n",
            "A soma dos números é 18\n"
          ]
        }
      ]
    },
    {
      "cell_type": "markdown",
      "source": [
        "# 5 - Métodos de Strings"
      ],
      "metadata": {
        "id": "RWwlLaOu35jq"
      }
    },
    {
      "cell_type": "code",
      "source": [
        "'''\n",
        "5.1. Peça ao usuário para digitar um e-mail e verifique se o e-mail contém o\n",
        "caractere '@'. Imprima uma mensagem indicando se é um e-mail válido ou não.\n",
        "'''\n",
        "email = input(\"Digite seu e-mail: \")\n",
        "if '@' in email:\n",
        "    print(\"E-mail válido\")\n",
        "else:\n",
        "    print(\"E-mail inválido\")"
      ],
      "metadata": {
        "id": "PnAPaeXY3-dA",
        "colab": {
          "base_uri": "https://localhost:8080/"
        },
        "outputId": "94aaa126-b6d6-48a2-9690-2116e43336b1"
      },
      "execution_count": null,
      "outputs": [
        {
          "output_type": "stream",
          "name": "stdout",
          "text": [
            "Digite seu e-mail: agnaldo@gmail.com\n",
            "E-mail válido\n"
          ]
        }
      ]
    },
    {
      "cell_type": "code",
      "source": [
        "'''\n",
        "5.2. Peça ao usuário para digitar uma frase e:\n",
        "Converta a frase para maiúsculas.\n",
        "Converta a frase para minúsculas.\n",
        "Converta a primeira letra de cada palavra para maiúscula.\n",
        "Verifique se a frase começa com uma determinada palavra (ex.: 'Olá').\n",
        "'''\n",
        "\n",
        "frase = input(\"Digite uma frase: \")\n",
        "print(frase.upper())\n",
        "print(frase.lower())\n",
        "print(frase.title())\n",
        "print(frase.startswith(\"Olá\"))"
      ],
      "metadata": {
        "id": "nkwe0I9c3-w-",
        "colab": {
          "base_uri": "https://localhost:8080/"
        },
        "outputId": "ea46ece9-f3ab-4eb2-93cc-5c0051e73704"
      },
      "execution_count": null,
      "outputs": [
        {
          "output_type": "stream",
          "name": "stdout",
          "text": [
            "Digite uma frase: Olá tudo bem?\n",
            "OLÁ TUDO BEM?\n",
            "olá tudo bem?\n",
            "Olá Tudo Bem?\n",
            "True\n"
          ]
        }
      ]
    },
    {
      "cell_type": "markdown",
      "source": [
        "# 6 - Listas"
      ],
      "metadata": {
        "id": "HZQlB-8K4snX"
      }
    },
    {
      "cell_type": "code",
      "source": [
        "'''\n",
        "6.1. Crie uma lista com os nomes de cinco amigos. Imprima o nome do terceiro\n",
        "amigo na lista.\n",
        "\n",
        "'''\n",
        "amigos = [\"Agnaldo\", \"Agda\", \"Lidy\", \"Lucas\", \"Ramon\"]\n",
        "print(amigos[2])"
      ],
      "metadata": {
        "id": "3_3JLvXZ4sBG",
        "colab": {
          "base_uri": "https://localhost:8080/"
        },
        "outputId": "d2491f38-4ac4-4108-914e-12e1f96a3757"
      },
      "execution_count": null,
      "outputs": [
        {
          "output_type": "stream",
          "name": "stdout",
          "text": [
            "Lidy\n"
          ]
        }
      ]
    },
    {
      "cell_type": "code",
      "source": [
        "'''\n",
        "6.2. Adicione um novo nome à lista de amigos e remova o primeiro nome.\n",
        "Imprima a lista atualizada.\n",
        "'''\n",
        "\n",
        "amigos.append(\"Renan\")\n",
        "amigos.pop(0)\n",
        "print(amigos)"
      ],
      "metadata": {
        "id": "ppcjLqMb4yDu",
        "colab": {
          "base_uri": "https://localhost:8080/"
        },
        "outputId": "1adb2311-03e8-460f-81ae-dcfc16c02d4a"
      },
      "execution_count": null,
      "outputs": [
        {
          "output_type": "stream",
          "name": "stdout",
          "text": [
            "['Agda', 'Lidy', 'Lucas', 'Ramon', 'Renan']\n"
          ]
        }
      ]
    },
    {
      "cell_type": "code",
      "source": [
        "'''\n",
        "6.3. Crie uma lista com as idades dos seus amigos e:\n",
        "Imprima a idade do amigo mais velho.\n",
        "Imprima a idade do amigo mais novo.\n",
        "Calcule e imprima a soma das idades.\n",
        "'''\n",
        "idades = [20, 25, 30, 35, 40]\n",
        "print(max(idades))\n",
        "print(min(idades))\n",
        "print(sum(idades))"
      ],
      "metadata": {
        "id": "Hoz7RcUW4zc4",
        "colab": {
          "base_uri": "https://localhost:8080/"
        },
        "outputId": "d55b62cc-0647-46ed-a30d-6363dd3e0df4"
      },
      "execution_count": null,
      "outputs": [
        {
          "output_type": "stream",
          "name": "stdout",
          "text": [
            "40\n",
            "20\n",
            "150\n"
          ]
        }
      ]
    },
    {
      "cell_type": "markdown",
      "source": [
        "# 7 - Tuplas"
      ],
      "metadata": {
        "id": "9WTzsCNH4-tT"
      }
    },
    {
      "cell_type": "code",
      "source": [
        "'''\n",
        "7.1 Crie uma tupla com as informações de um cliente (nome, idade, peso, altura).\n",
        "Imprima todas as informações.\n",
        "'''\n",
        "cliente = (\"Agnaldo\", 30, 70.5, 1.75)\n",
        "print(cliente)"
      ],
      "metadata": {
        "id": "XpWW7G-p5BOJ",
        "colab": {
          "base_uri": "https://localhost:8080/"
        },
        "outputId": "32d44400-f9e7-41e1-f514-ef20964225e8"
      },
      "execution_count": null,
      "outputs": [
        {
          "output_type": "stream",
          "name": "stdout",
          "text": [
            "('Agnaldo', 30, 70.5, 1.75)\n"
          ]
        }
      ]
    },
    {
      "cell_type": "code",
      "source": [
        "'''\n",
        "7.2. Crie uma nova tupla concatenando a tupla do exercício anterior com o e-mail\n",
        "do cliente. Imprima a nova tupla.\n",
        "'''\n",
        "nova = cliente + (\"agnaldo@gmail.com\",)\n",
        "print(nova)"
      ],
      "metadata": {
        "id": "tIzWFwzc5GQ8",
        "colab": {
          "base_uri": "https://localhost:8080/"
        },
        "outputId": "9a642112-76be-4d13-9fa9-6f2ceacdfa43"
      },
      "execution_count": null,
      "outputs": [
        {
          "output_type": "stream",
          "name": "stdout",
          "text": [
            "('Agnaldo', 30, 70.5, 1.75, 'agnaldo@gmail.com')\n"
          ]
        }
      ]
    },
    {
      "cell_type": "markdown",
      "source": [
        "# 8 - Dicionários"
      ],
      "metadata": {
        "id": "-zg06dPu5ZJC"
      }
    },
    {
      "cell_type": "code",
      "source": [
        "'''\n",
        "8.1. Crie um dicionário com informações de um cliente\n",
        "(nome, idade, peso, altura). Imprima o valor associado à chave 'nome'.\n",
        "'''\n",
        "cliente = {\n",
        "    \"nome\": \"Ramon\",\n",
        "    \"idade\": 30,\n",
        "    \"peso\": 70.5,\n",
        "    \"altura\": 1.75\n",
        "}\n",
        "print(cliente[\"nome\"])"
      ],
      "metadata": {
        "id": "E_wd3pdX5clA",
        "colab": {
          "base_uri": "https://localhost:8080/"
        },
        "outputId": "806d4f99-cada-4797-f54d-74879f26e37c"
      },
      "execution_count": null,
      "outputs": [
        {
          "output_type": "stream",
          "name": "stdout",
          "text": [
            "Ramon\n"
          ]
        }
      ]
    },
    {
      "cell_type": "code",
      "source": [
        "'''\n",
        "8.2. Adicione uma nova chave 'email' ao dicionário do exercício anterior e\n",
        "imprima o dicionário atualizado.\n",
        "'''\n",
        "cliente[\"email\"] = \"ramon@gmail.com\"\n",
        "print(cliente)"
      ],
      "metadata": {
        "id": "kM-tUW7o5eK7",
        "colab": {
          "base_uri": "https://localhost:8080/"
        },
        "outputId": "6a3c20a7-1d52-4e50-f036-22a37b3e710c"
      },
      "execution_count": null,
      "outputs": [
        {
          "output_type": "stream",
          "name": "stdout",
          "text": [
            "{'nome': 'Ramon', 'idade': 30, 'peso': 70.5, 'altura': 1.75, 'email': 'ramon@gmail.com'}\n"
          ]
        }
      ]
    },
    {
      "cell_type": "code",
      "source": [
        "'''\n",
        "8.3. Remova a chave 'peso' do dicionário e verifique se a chave 'endereço' está\n",
        "no dicionário. Imprima os resultados.\n",
        "'''\n",
        "cliente.pop(\"peso\")\n",
        "print(cliente)\n",
        "print(\"endereço\" in cliente)"
      ],
      "metadata": {
        "id": "xFhFuFOV5ffs",
        "colab": {
          "base_uri": "https://localhost:8080/"
        },
        "outputId": "1515953d-c6cb-4797-d3a5-710b23cf8397"
      },
      "execution_count": null,
      "outputs": [
        {
          "output_type": "stream",
          "name": "stdout",
          "text": [
            "{'nome': 'Ramon', 'idade': 30, 'altura': 1.75, 'email': 'ramon@gmail.com'}\n",
            "False\n"
          ]
        }
      ]
    },
    {
      "cell_type": "markdown",
      "source": [
        "# 9 - Condicionais"
      ],
      "metadata": {
        "id": "zDOsohbe5sjQ"
      }
    },
    {
      "cell_type": "code",
      "source": [
        "'''\n",
        "9.1. Peça ao usuário para digitar sua idade e verifique se ele é menor de idade,\n",
        " adulto ou idoso. Imprima uma mensagem correspondente.\n",
        "'''\n",
        "idade = int(input(\"Digite sua idade: \"))\n",
        "if idade < 18:\n",
        "    print(\"Você é menor de idade\")\n",
        "elif idade >= 18 and idade < 60:\n",
        "    print(\"Você é adulto\")\n",
        "else:\n",
        "    print(\"Você é idoso\")\n",
        "    print(idade)"
      ],
      "metadata": {
        "id": "efFgv5Xx5wFC",
        "colab": {
          "base_uri": "https://localhost:8080/"
        },
        "outputId": "5f1095ea-3485-4cd5-db78-15483e0aa398"
      },
      "execution_count": null,
      "outputs": [
        {
          "output_type": "stream",
          "name": "stdout",
          "text": [
            "Digite sua idade: 60\n",
            "Você é idoso\n",
            "60\n"
          ]
        }
      ]
    },
    {
      "cell_type": "code",
      "source": [
        "'''\n",
        "9.2. Peça ao usuário para digitar uma nota (0 a 100) e imprima se ele foi\n",
        "aprovado (nota >= 60) ou reprovado.\n",
        "'''\n",
        "\n",
        "nota = int(input(\"Digite sua nota (0 a 110): \"))\n",
        "if nota < 0 or nota > 100:\n",
        "    print(\"Nota inválida\")\n",
        "elif nota >= 60:\n",
        "    print(\"Você foi aprovado\")\n",
        "else:\n",
        "    print(\"Você foi reprovado\")"
      ],
      "metadata": {
        "id": "pse5b4NO52OP",
        "colab": {
          "base_uri": "https://localhost:8080/"
        },
        "outputId": "35ac2850-205d-4925-db43-ec4a785bb34c"
      },
      "execution_count": null,
      "outputs": [
        {
          "output_type": "stream",
          "name": "stdout",
          "text": [
            "Digite sua nota (0 a 110): 100\n",
            "Você foi aprovado\n"
          ]
        }
      ]
    },
    {
      "cell_type": "markdown",
      "source": [
        "# 10 - Estudo de caso 01"
      ],
      "metadata": {
        "id": "_vJUEjo_6mWX"
      }
    },
    {
      "cell_type": "code",
      "source": [
        "'''\n",
        "Contexto:\n",
        "Uma empresa precisa registrar informações sobre seus clientes e calcular o IMC\n",
        "(Índice de Massa Corporal) de cada um deles. As informações devem ser\n",
        "armazenadas em um dicionário e exibidas ao final.\n",
        "'''\n",
        "\n",
        "\n",
        "'''\n",
        "Requisitos:\n",
        "Peça ao usuário para inserir os seguintes dados de um cliente:\n",
        "Nome\n",
        "Idade\n",
        "Peso (em kg)\n",
        "Altura (em metros)\n",
        "E-mail\n",
        "Armazene essas informações em um dicionário.\n",
        "Calcule o IMC do cliente (IMC = Peso / (Altura * Altura)) e adicione esse valor ao dicionário.\n",
        "Exiba todas as informações do cliente, incluindo o IMC arredondado para duas casas decimais.\n",
        "\n",
        "'''\n",
        "nome = input(\"Digite seu nome: \")\n",
        "idade = int(input(\"Digite sua idade: \"))\n",
        "peso = float(input(\"Digite seu peso em Kg: \"))\n",
        "altura = float(input(\"Digite sua altura em metros: \"))\n",
        "email = input(\"Digite seu e-mail: \")\n",
        "\n",
        "cliente = {\n",
        "    \"nome\": nome,\n",
        "    \"idade\": idade,\n",
        "    \"peso\": peso,\n",
        "    \"altura\": altura,\n",
        "    \"email\": email\n",
        "}\n",
        "\n",
        "imc = peso / (altura ** 2)\n",
        "cliente[\"imc\"] = round(imc, 2)\n",
        "\n",
        "print(cliente)"
      ],
      "metadata": {
        "colab": {
          "base_uri": "https://localhost:8080/"
        },
        "id": "4-ohnFIIIjEx",
        "outputId": "2274a825-ec33-4d50-a144-a653069b575c"
      },
      "execution_count": null,
      "outputs": [
        {
          "output_type": "stream",
          "name": "stdout",
          "text": [
            "Digite seu nome: Agnaldo\n",
            "Digite sua idade: 50\n",
            "Digite seu peso em Kg: 60\n",
            "Digite sua altura em metros: 1.65\n",
            "Digite seu e-mail: agnaldo@gmail.com\n",
            "{'nome': 'Agnaldo', 'idade': 50, 'peso': 60.0, 'altura': 1.65, 'email': 'agnaldo@gmail.com', 'imc': 22.04}\n"
          ]
        }
      ]
    }
  ]
}